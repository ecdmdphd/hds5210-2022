{
 "cells": [
  {
   "cell_type": "markdown",
   "metadata": {
    "nbgrader": {
     "grade": false,
     "grade_id": "intro",
     "locked": true,
     "schema_version": 1,
     "solution": false
    }
   },
   "source": [
    "# Working with multiple data sets\n",
    "\n",
    "There are two data files that we'll be working with for this week's assignment.  They are described below.  Load those data files in with Pandas and then work to answering each of the questions below.\n",
    "\n",
    "## npidata.csv\n",
    "\n",
    "This file is basic information about every healthcare provider in the US.  It has one row for each NPI (National Provider Identifier).  It contains information such as the provider's name and address.\n",
    "\n",
    "\n",
    "## cmsYYYY.csv\n",
    "\n",
    "These are files about what kinds of procedures and patients providers in the US are serving under CMS programs, Medicare and Medicaid.  Each contains various statistics about providers over the course of a year.  There are three of these, for the years 2014, 2015, and 2016.  These files, however, don't contain information about the provider such as where the provider is located.\n",
    "\n",
    "## Our Goals\n",
    "\n",
    "For this assignment, we're going to want to compute some statistics based on the data in the **cms** files, but aggregate that data based on information in the **npidata** file.  As in last week's assignment, you'll need to store your answers in a variable called `answer` at the end of each step."
   ]
  },
  {
   "cell_type": "code",
   "execution_count": 1,
   "metadata": {
    "nbgrader": {
     "grade": false,
     "grade_id": "import",
     "locked": true,
     "schema_version": 1,
     "solution": false
    }
   },
   "outputs": [],
   "source": [
    "import pandas as pd"
   ]
  },
  {
   "cell_type": "code",
   "execution_count": 2,
   "metadata": {},
   "outputs": [
    {
     "name": "stderr",
     "output_type": "stream",
     "text": [
      "/opt/tljh/user/lib/python3.6/site-packages/IPython/core/interactiveshell.py:3051: DtypeWarning: Columns (18,33) have mixed types.Specify dtype option on import or set low_memory=False.\n",
      "  interactivity=interactivity, compiler=compiler, result=result)\n"
     ]
    }
   ],
   "source": [
    "# Read in data files\n",
    "npidata = pd.read_csv('/data/npidata.csv')\n",
    "cms2014 = pd.read_csv('/data/cms2014.csv')\n",
    "cms2015 = pd.read_csv('/data/cms2015.csv')\n",
    "cms2016 = pd.read_csv('/data/cms2016.csv')"
   ]
  },
  {
   "cell_type": "markdown",
   "metadata": {
    "nbgrader": {
     "grade": false,
     "grade_id": "01-intro",
     "locked": true,
     "schema_version": 1,
     "solution": false
    }
   },
   "source": [
    "## Part 1\n",
    "\n",
    "In this first step, we'll need to merge together all of the **cms** files into a single dataframe.  Be careful that these files might not be identical, so you'll have to look a little bit to figure out how to merge them.\n",
    "\n",
    "As you are merging them, make sure that you retain information about which file (i.e. which year) the data came from.  Call that new columns `year`.\n",
    "\n",
    "In your `answer` variable, provide a complete data frame that contains all of the rows and columns from the **cms** files, plus an additional column to store the year/file that particular row came from.\n",
    "\n",
    "The assertion tests will give you a good idea as to if you're merging the files correctly."
   ]
  },
  {
   "cell_type": "code",
   "execution_count": 3,
   "metadata": {
    "nbgrader": {
     "grade": false,
     "grade_id": "01-solution",
     "locked": false,
     "schema_version": 1,
     "solution": true
    }
   },
   "outputs": [
    {
     "data": {
      "text/html": [
       "<div>\n",
       "<style scoped>\n",
       "    .dataframe tbody tr th:only-of-type {\n",
       "        vertical-align: middle;\n",
       "    }\n",
       "\n",
       "    .dataframe tbody tr th {\n",
       "        vertical-align: top;\n",
       "    }\n",
       "\n",
       "    .dataframe thead th {\n",
       "        text-align: right;\n",
       "    }\n",
       "</style>\n",
       "<table border=\"1\" class=\"dataframe\">\n",
       "  <thead>\n",
       "    <tr style=\"text-align: right;\">\n",
       "      <th></th>\n",
       "      <th>nbr</th>\n",
       "      <th>npi</th>\n",
       "      <th>provider_type</th>\n",
       "      <th>medicare_participation_indicator</th>\n",
       "      <th>number_of_hcpcs</th>\n",
       "      <th>total_services</th>\n",
       "      <th>total_unique_benes</th>\n",
       "      <th>total_submitted_chrg_amt</th>\n",
       "      <th>total_medicare_allowed_amt</th>\n",
       "      <th>total_medicare_payment_amt</th>\n",
       "      <th>...</th>\n",
       "      <th>beneficiary_cc_depr_percent</th>\n",
       "      <th>beneficiary_cc_diab_percent</th>\n",
       "      <th>beneficiary_cc_hyperl_percent</th>\n",
       "      <th>beneficiary_cc_hypert_percent</th>\n",
       "      <th>beneficiary_cc_ihd_percent</th>\n",
       "      <th>beneficiary_cc_ost_percent</th>\n",
       "      <th>beneficiary_cc_raoa_percent</th>\n",
       "      <th>beneficiary_cc_schiot_percent</th>\n",
       "      <th>beneficiary_cc_strk_percent</th>\n",
       "      <th>Beneficiary_Average_Risk_Score</th>\n",
       "    </tr>\n",
       "  </thead>\n",
       "  <tbody>\n",
       "    <tr>\n",
       "      <th>0</th>\n",
       "      <td>1</td>\n",
       "      <td>1003000134</td>\n",
       "      <td>Pathology</td>\n",
       "      <td>Y</td>\n",
       "      <td>13</td>\n",
       "      <td>8643.0</td>\n",
       "      <td>4276</td>\n",
       "      <td>1357139.00</td>\n",
       "      <td>321641.88</td>\n",
       "      <td>245364.34</td>\n",
       "      <td>...</td>\n",
       "      <td>12.0</td>\n",
       "      <td>20.0</td>\n",
       "      <td>53.0</td>\n",
       "      <td>57.0</td>\n",
       "      <td>28.0</td>\n",
       "      <td>9.0</td>\n",
       "      <td>37.0</td>\n",
       "      <td>1.0</td>\n",
       "      <td>3.0</td>\n",
       "      <td>1.0007</td>\n",
       "    </tr>\n",
       "    <tr>\n",
       "      <th>1</th>\n",
       "      <td>19</td>\n",
       "      <td>1003001249</td>\n",
       "      <td>Physical Therapist</td>\n",
       "      <td>Y</td>\n",
       "      <td>4</td>\n",
       "      <td>1221.0</td>\n",
       "      <td>69</td>\n",
       "      <td>88686.28</td>\n",
       "      <td>34060.09</td>\n",
       "      <td>26055.17</td>\n",
       "      <td>...</td>\n",
       "      <td>NaN</td>\n",
       "      <td>39.0</td>\n",
       "      <td>64.0</td>\n",
       "      <td>75.0</td>\n",
       "      <td>32.0</td>\n",
       "      <td>NaN</td>\n",
       "      <td>68.0</td>\n",
       "      <td>NaN</td>\n",
       "      <td>NaN</td>\n",
       "      <td>1.1912</td>\n",
       "    </tr>\n",
       "    <tr>\n",
       "      <th>2</th>\n",
       "      <td>21</td>\n",
       "      <td>1003001322</td>\n",
       "      <td>Mass Immunization Roster Biller</td>\n",
       "      <td>Y</td>\n",
       "      <td>7</td>\n",
       "      <td>788.0</td>\n",
       "      <td>370</td>\n",
       "      <td>21640.24</td>\n",
       "      <td>21634.91</td>\n",
       "      <td>21199.22</td>\n",
       "      <td>...</td>\n",
       "      <td>13.0</td>\n",
       "      <td>18.0</td>\n",
       "      <td>42.0</td>\n",
       "      <td>49.0</td>\n",
       "      <td>24.0</td>\n",
       "      <td>5.0</td>\n",
       "      <td>25.0</td>\n",
       "      <td>NaN</td>\n",
       "      <td>3.0</td>\n",
       "      <td>0.8019</td>\n",
       "    </tr>\n",
       "    <tr>\n",
       "      <th>3</th>\n",
       "      <td>37</td>\n",
       "      <td>1003002486</td>\n",
       "      <td>Chiropractic</td>\n",
       "      <td>Y</td>\n",
       "      <td>2</td>\n",
       "      <td>142.0</td>\n",
       "      <td>22</td>\n",
       "      <td>7458.44</td>\n",
       "      <td>5037.51</td>\n",
       "      <td>3727.01</td>\n",
       "      <td>...</td>\n",
       "      <td>NaN</td>\n",
       "      <td>NaN</td>\n",
       "      <td>59.0</td>\n",
       "      <td>59.0</td>\n",
       "      <td>NaN</td>\n",
       "      <td>0.0</td>\n",
       "      <td>64.0</td>\n",
       "      <td>0.0</td>\n",
       "      <td>0.0</td>\n",
       "      <td>0.7920</td>\n",
       "    </tr>\n",
       "    <tr>\n",
       "      <th>4</th>\n",
       "      <td>73</td>\n",
       "      <td>1003005430</td>\n",
       "      <td>Clinical Psychologist</td>\n",
       "      <td>Y</td>\n",
       "      <td>3</td>\n",
       "      <td>130.0</td>\n",
       "      <td>11</td>\n",
       "      <td>20640.00</td>\n",
       "      <td>14968.22</td>\n",
       "      <td>11334.69</td>\n",
       "      <td>...</td>\n",
       "      <td>NaN</td>\n",
       "      <td>NaN</td>\n",
       "      <td>NaN</td>\n",
       "      <td>NaN</td>\n",
       "      <td>NaN</td>\n",
       "      <td>0.0</td>\n",
       "      <td>NaN</td>\n",
       "      <td>0.0</td>\n",
       "      <td>NaN</td>\n",
       "      <td>0.9718</td>\n",
       "    </tr>\n",
       "  </tbody>\n",
       "</table>\n",
       "<p>5 rows × 59 columns</p>\n",
       "</div>"
      ],
      "text/plain": [
       "   nbr         npi                    provider_type  \\\n",
       "0    1  1003000134                        Pathology   \n",
       "1   19  1003001249               Physical Therapist   \n",
       "2   21  1003001322  Mass Immunization Roster Biller   \n",
       "3   37  1003002486                     Chiropractic   \n",
       "4   73  1003005430            Clinical Psychologist   \n",
       "\n",
       "  medicare_participation_indicator  number_of_hcpcs  total_services  \\\n",
       "0                                Y               13          8643.0   \n",
       "1                                Y                4          1221.0   \n",
       "2                                Y                7           788.0   \n",
       "3                                Y                2           142.0   \n",
       "4                                Y                3           130.0   \n",
       "\n",
       "   total_unique_benes  total_submitted_chrg_amt  total_medicare_allowed_amt  \\\n",
       "0                4276                1357139.00                   321641.88   \n",
       "1                  69                  88686.28                    34060.09   \n",
       "2                 370                  21640.24                    21634.91   \n",
       "3                  22                   7458.44                     5037.51   \n",
       "4                  11                  20640.00                    14968.22   \n",
       "\n",
       "   total_medicare_payment_amt  ...  beneficiary_cc_depr_percent  \\\n",
       "0                   245364.34  ...                         12.0   \n",
       "1                    26055.17  ...                          NaN   \n",
       "2                    21199.22  ...                         13.0   \n",
       "3                     3727.01  ...                          NaN   \n",
       "4                    11334.69  ...                          NaN   \n",
       "\n",
       "  beneficiary_cc_diab_percent  beneficiary_cc_hyperl_percent  \\\n",
       "0                        20.0                           53.0   \n",
       "1                        39.0                           64.0   \n",
       "2                        18.0                           42.0   \n",
       "3                         NaN                           59.0   \n",
       "4                         NaN                            NaN   \n",
       "\n",
       "   beneficiary_cc_hypert_percent  beneficiary_cc_ihd_percent  \\\n",
       "0                           57.0                        28.0   \n",
       "1                           75.0                        32.0   \n",
       "2                           49.0                        24.0   \n",
       "3                           59.0                         NaN   \n",
       "4                            NaN                         NaN   \n",
       "\n",
       "   beneficiary_cc_ost_percent  beneficiary_cc_raoa_percent  \\\n",
       "0                         9.0                         37.0   \n",
       "1                         NaN                         68.0   \n",
       "2                         5.0                         25.0   \n",
       "3                         0.0                         64.0   \n",
       "4                         0.0                          NaN   \n",
       "\n",
       "   beneficiary_cc_schiot_percent  beneficiary_cc_strk_percent  \\\n",
       "0                            1.0                          3.0   \n",
       "1                            NaN                          NaN   \n",
       "2                            NaN                          3.0   \n",
       "3                            0.0                          0.0   \n",
       "4                            0.0                          NaN   \n",
       "\n",
       "  Beneficiary_Average_Risk_Score  \n",
       "0                         1.0007  \n",
       "1                         1.1912  \n",
       "2                         0.8019  \n",
       "3                         0.7920  \n",
       "4                         0.9718  \n",
       "\n",
       "[5 rows x 59 columns]"
      ]
     },
     "execution_count": 3,
     "metadata": {},
     "output_type": "execute_result"
    }
   ],
   "source": [
    "answer = None\n",
    "\n",
    "### SOLUTION\n",
    "# Explore the data files\n",
    "cms2014.head()\n"
   ]
  },
  {
   "cell_type": "code",
   "execution_count": 4,
   "metadata": {},
   "outputs": [
    {
     "data": {
      "text/plain": [
       "<bound method NDFrame.head of            nbr         npi                    provider_type  \\\n",
       "0            1  1003000134                        Pathology   \n",
       "1           20  1003001249               Physical Therapist   \n",
       "2           22  1003001322  Mass Immunization Roster Biller   \n",
       "3           39  1003002486                     Chiropractic   \n",
       "4           75  1003005430            Clinical Psychologist   \n",
       "...        ...         ...                              ...   \n",
       "64535  1019373  1992995393               Emergency Medicine   \n",
       "64536  1019376  1992995542                    Ophthalmology   \n",
       "64537  1019384  1992996219                        Neurology   \n",
       "64538  1019385  1992996284                Internal Medicine   \n",
       "64539  1019389  1992996458                   Sleep Medicine   \n",
       "\n",
       "      medicare_participation_indicator  number_of_hcpcs  total_services  \\\n",
       "0                                    Y               15         10143.0   \n",
       "1                                    Y                8          1509.0   \n",
       "2                                    Y                6           776.0   \n",
       "3                                    Y                2           128.0   \n",
       "4                                    Y                3           169.0   \n",
       "...                                ...              ...             ...   \n",
       "64535                                Y               22           262.0   \n",
       "64536                                Y               51          2190.0   \n",
       "64537                                Y               16           385.0   \n",
       "64538                                Y               16           709.6   \n",
       "64539                                Y               24          1378.0   \n",
       "\n",
       "       total_unique_benes  total_submitted_chrg_amt  \\\n",
       "0                    4686                1602301.00   \n",
       "1                      75                 106992.87   \n",
       "2                     386                  19022.33   \n",
       "3                      13                   8265.24   \n",
       "4                      14                  27220.00   \n",
       "...                   ...                       ...   \n",
       "64535                 174                 119474.00   \n",
       "64536                 607                 871472.50   \n",
       "64537                 214                 166014.00   \n",
       "64538                  96                  21810.10   \n",
       "64539                 517                 350581.00   \n",
       "\n",
       "       total_medicare_allowed_amt  total_medicare_payment_amt  ...  \\\n",
       "0                       387805.69                   291591.11  ...   \n",
       "1                        41160.35                    31971.55  ...   \n",
       "2                        19022.33                    18641.60  ...   \n",
       "3                         4832.51                     3178.96  ...   \n",
       "4                        19901.25                    15269.41  ...   \n",
       "...                           ...                         ...  ...   \n",
       "64535                    27299.35                    21120.34  ...   \n",
       "64536                   323505.87                   243852.22  ...   \n",
       "64537                    57950.99                    42444.91  ...   \n",
       "64538                    18550.61                    14895.39  ...   \n",
       "64539                   140535.04                   103747.03  ...   \n",
       "\n",
       "       beneficiary_cc_depr_percent beneficiary_cc_diab_percent  \\\n",
       "0                             12.0                        21.0   \n",
       "1                             16.0                        31.0   \n",
       "2                             13.0                        21.0   \n",
       "3                              NaN                         NaN   \n",
       "4                             75.0                         NaN   \n",
       "...                            ...                         ...   \n",
       "64535                         36.0                        45.0   \n",
       "64536                         14.0                        60.0   \n",
       "64537                         38.0                        22.0   \n",
       "64538                         39.0                        63.0   \n",
       "64539                         40.0                        37.0   \n",
       "\n",
       "       beneficiary_cc_hyperl_percent  beneficiary_cc_hypert_percent  \\\n",
       "0                               52.0                           56.0   \n",
       "1                               59.0                           75.0   \n",
       "2                               44.0                           53.0   \n",
       "3                                NaN                            NaN   \n",
       "4                                NaN                            NaN   \n",
       "...                              ...                            ...   \n",
       "64535                           57.0                           75.0   \n",
       "64536                           56.0                           75.0   \n",
       "64537                           41.0                           51.0   \n",
       "64538                           67.0                           75.0   \n",
       "64539                           60.0                           75.0   \n",
       "\n",
       "       beneficiary_cc_ihd_percent  beneficiary_cc_ost_percent  \\\n",
       "0                            27.0                         8.0   \n",
       "1                            24.0                         NaN   \n",
       "2                            24.0                         3.0   \n",
       "3                             NaN                         0.0   \n",
       "4                             NaN                         NaN   \n",
       "...                           ...                         ...   \n",
       "64535                        51.0                         6.0   \n",
       "64536                        39.0                         6.0   \n",
       "64537                        25.0                         7.0   \n",
       "64538                        57.0                        11.0   \n",
       "64539                        53.0                         5.0   \n",
       "\n",
       "       beneficiary_cc_raoa_percent  beneficiary_cc_schiot_percent  \\\n",
       "0                             38.0                            1.0   \n",
       "1                             65.0                            0.0   \n",
       "2                             25.0                            NaN   \n",
       "3                              NaN                            0.0   \n",
       "4                              NaN                            0.0   \n",
       "...                            ...                            ...   \n",
       "64535                         48.0                           16.0   \n",
       "64536                         49.0                            3.0   \n",
       "64537                         27.0                           14.0   \n",
       "64538                         75.0                            NaN   \n",
       "64539                         45.0                            5.0   \n",
       "\n",
       "       beneficiary_cc_strk_percent Beneficiary_Average_Risk_Score  \n",
       "0                              3.0                         1.0563  \n",
       "1                              NaN                         1.0572  \n",
       "2                              NaN                         0.8875  \n",
       "3                              0.0                         0.9662  \n",
       "4                              NaN                         1.1064  \n",
       "...                            ...                            ...  \n",
       "64535                         15.0                         2.6989  \n",
       "64536                          8.0                         1.8599  \n",
       "64537                         15.0                         1.6082  \n",
       "64538                          NaN                         2.2791  \n",
       "64539                         16.0                         1.3677  \n",
       "\n",
       "[64540 rows x 59 columns]>"
      ]
     },
     "execution_count": 4,
     "metadata": {},
     "output_type": "execute_result"
    }
   ],
   "source": [
    "cms2015.head"
   ]
  },
  {
   "cell_type": "code",
   "execution_count": 5,
   "metadata": {},
   "outputs": [
    {
     "data": {
      "text/plain": [
       "<bound method NDFrame.head of            nbr         NPI                           PROVIDER_TYPE  \\\n",
       "0            1  1003000134                               Pathology   \n",
       "1           19  1003001249  Physical Therapist in Private Practice   \n",
       "2           21  1003001322            Mass Immunizer Roster Biller   \n",
       "3           39  1003002486                            Chiropractic   \n",
       "4           74  1003005430                  Psychologist, Clinical   \n",
       "...        ...         ...                                     ...   \n",
       "66224  1053890  1992995542                           Ophthalmology   \n",
       "66225  1053892  1992995591                 Obstetrics & Gynecology   \n",
       "66226  1053900  1992996219                               Neurology   \n",
       "66227  1053901  1992996284                       Internal Medicine   \n",
       "66228  1053906  1992996458                          Sleep Medicine   \n",
       "\n",
       "      MEDICARE_PARTICIPATION_INDICATOR  NUMBER_OF_HCPCS  TOTAL_SERVICES  \\\n",
       "0                                    Y               18          8704.0   \n",
       "1                                    Y                7          1792.0   \n",
       "2                                    Y                4           404.0   \n",
       "3                                    Y                2           136.0   \n",
       "4                                    Y                3           201.0   \n",
       "...                                ...              ...             ...   \n",
       "66224                                Y               49          2623.0   \n",
       "66225                                Y               18            27.0   \n",
       "66226                                Y               25          1121.0   \n",
       "66227                                Y               21          4501.6   \n",
       "66228                                Y               14          1204.0   \n",
       "\n",
       "       TOTAL_UNIQUE_BENES  TOTAL_SUBMITTED_CHRG_AMT  \\\n",
       "0                    4003                1372997.00   \n",
       "1                      76                 131387.15   \n",
       "2                     202                  14616.62   \n",
       "3                      13                   5910.00   \n",
       "4                      21                  32270.00   \n",
       "...                   ...                       ...   \n",
       "66224                 611                 845229.00   \n",
       "66225                  17                   9800.23   \n",
       "66226                 620                 565393.00   \n",
       "66227                 381                 194576.60   \n",
       "66228                 480                 323712.00   \n",
       "\n",
       "       TOTAL_MEDICARE_ALLOWED_AMT  TOTAL_MEDICARE_PAYMENT_AMT  ...  \\\n",
       "0                       343624.25                   256165.66  ...   \n",
       "1                        48363.25                    37171.51  ...   \n",
       "2                        12362.20                    12115.76  ...   \n",
       "3                         5013.02                     3382.90  ...   \n",
       "4                        23437.47                    17193.96  ...   \n",
       "...                           ...                         ...  ...   \n",
       "66224                   354741.85                   265925.26  ...   \n",
       "66225                     2929.11                     2160.71  ...   \n",
       "66226                   163926.41                   123229.09  ...   \n",
       "66227                   163050.75                   126543.18  ...   \n",
       "66228                   127595.42                    93749.86  ...   \n",
       "\n",
       "       BENEFICIARY_CC_DEPR_PERCENT BENEFICIARY_CC_DIAB_PERCENT  \\\n",
       "0                             13.0                        21.0   \n",
       "1                             21.0                        36.0   \n",
       "2                              7.0                        20.0   \n",
       "3                              NaN                         NaN   \n",
       "4                             75.0                         NaN   \n",
       "...                            ...                         ...   \n",
       "66224                         11.0                        58.0   \n",
       "66225                          NaN                         NaN   \n",
       "66226                         46.0                        36.0   \n",
       "66227                         34.0                        57.0   \n",
       "66228                         34.0                        36.0   \n",
       "\n",
       "       BENEFICIARY_CC_HYPERL_PERCENT  BENEFICIARY_CC_HYPERT_PERCENT  \\\n",
       "0                               46.0                           54.0   \n",
       "1                               57.0                           75.0   \n",
       "2                               40.0                           43.0   \n",
       "3                                NaN                            NaN   \n",
       "4                               62.0                           57.0   \n",
       "...                              ...                            ...   \n",
       "66224                           54.0                           75.0   \n",
       "66225                            NaN                            NaN   \n",
       "66226                           54.0                           68.0   \n",
       "66227                           64.0                           75.0   \n",
       "66228                           56.0                           72.0   \n",
       "\n",
       "       BENEFICIARY_CC_IHD_PERCENT  BENEFICIARY_CC_OST_PERCENT  \\\n",
       "0                            26.0                         9.0   \n",
       "1                            24.0                         NaN   \n",
       "2                            16.0                         6.0   \n",
       "3                             NaN                         0.0   \n",
       "4                             NaN                         NaN   \n",
       "...                           ...                         ...   \n",
       "66224                        38.0                         7.0   \n",
       "66225                         NaN                         NaN   \n",
       "66226                        45.0                         5.0   \n",
       "66227                        62.0                        12.0   \n",
       "66228                        51.0                         4.0   \n",
       "\n",
       "       BENEFICIARY_CC_RAOA_PERCENT  BENEFICIARY_CC_SCHIOT_PERCENT  \\\n",
       "0                             38.0                            1.0   \n",
       "1                             75.0                            0.0   \n",
       "2                             21.0                            NaN   \n",
       "3                              NaN                            0.0   \n",
       "4                              NaN                            0.0   \n",
       "...                            ...                            ...   \n",
       "66224                         48.0                            NaN   \n",
       "66225                          NaN                            NaN   \n",
       "66226                         40.0                           12.0   \n",
       "66227                         75.0                            9.0   \n",
       "66228                         48.0                            3.0   \n",
       "\n",
       "       BENEFICIARY_CC_STRK_PERCENT BENEFICIARY_AVERAGE_RISK_SCORE  \n",
       "0                              3.0                         1.0925  \n",
       "1                              NaN                         1.0063  \n",
       "2                              NaN                         0.7684  \n",
       "3                              NaN                         1.1891  \n",
       "4                              NaN                         1.2509  \n",
       "...                            ...                            ...  \n",
       "66224                          7.0                         1.8015  \n",
       "66225                          0.0                         1.4364  \n",
       "66226                         31.0                         2.3548  \n",
       "66227                         12.0                         2.4551  \n",
       "66228                          8.0                         1.2075  \n",
       "\n",
       "[66229 rows x 59 columns]>"
      ]
     },
     "execution_count": 5,
     "metadata": {},
     "output_type": "execute_result"
    }
   ],
   "source": [
    "cms2016.head"
   ]
  },
  {
   "cell_type": "markdown",
   "metadata": {},
   "source": [
    "The column names in all 3 files seem similar, in the same order, and containing comparable content. The column names are lowercase in 2014 and 2015 and uppercase in 2016. The file dimensions seem the same. To allow for an appropriate merge, the cms2016 file column names were changed to lowercase. "
   ]
  },
  {
   "cell_type": "code",
   "execution_count": 8,
   "metadata": {},
   "outputs": [
    {
     "data": {
      "text/plain": [
       "<bound method NDFrame.head of            nbr         npi                           provider_type  \\\n",
       "0            1  1003000134                               Pathology   \n",
       "1           19  1003001249  Physical Therapist in Private Practice   \n",
       "2           21  1003001322            Mass Immunizer Roster Biller   \n",
       "3           39  1003002486                            Chiropractic   \n",
       "4           74  1003005430                  Psychologist, Clinical   \n",
       "...        ...         ...                                     ...   \n",
       "66224  1053890  1992995542                           Ophthalmology   \n",
       "66225  1053892  1992995591                 Obstetrics & Gynecology   \n",
       "66226  1053900  1992996219                               Neurology   \n",
       "66227  1053901  1992996284                       Internal Medicine   \n",
       "66228  1053906  1992996458                          Sleep Medicine   \n",
       "\n",
       "      medicare_participation_indicator  number_of_hcpcs  total_services  \\\n",
       "0                                    Y               18          8704.0   \n",
       "1                                    Y                7          1792.0   \n",
       "2                                    Y                4           404.0   \n",
       "3                                    Y                2           136.0   \n",
       "4                                    Y                3           201.0   \n",
       "...                                ...              ...             ...   \n",
       "66224                                Y               49          2623.0   \n",
       "66225                                Y               18            27.0   \n",
       "66226                                Y               25          1121.0   \n",
       "66227                                Y               21          4501.6   \n",
       "66228                                Y               14          1204.0   \n",
       "\n",
       "       total_unique_benes  total_submitted_chrg_amt  \\\n",
       "0                    4003                1372997.00   \n",
       "1                      76                 131387.15   \n",
       "2                     202                  14616.62   \n",
       "3                      13                   5910.00   \n",
       "4                      21                  32270.00   \n",
       "...                   ...                       ...   \n",
       "66224                 611                 845229.00   \n",
       "66225                  17                   9800.23   \n",
       "66226                 620                 565393.00   \n",
       "66227                 381                 194576.60   \n",
       "66228                 480                 323712.00   \n",
       "\n",
       "       total_medicare_allowed_amt  total_medicare_payment_amt  ...  \\\n",
       "0                       343624.25                   256165.66  ...   \n",
       "1                        48363.25                    37171.51  ...   \n",
       "2                        12362.20                    12115.76  ...   \n",
       "3                         5013.02                     3382.90  ...   \n",
       "4                        23437.47                    17193.96  ...   \n",
       "...                           ...                         ...  ...   \n",
       "66224                   354741.85                   265925.26  ...   \n",
       "66225                     2929.11                     2160.71  ...   \n",
       "66226                   163926.41                   123229.09  ...   \n",
       "66227                   163050.75                   126543.18  ...   \n",
       "66228                   127595.42                    93749.86  ...   \n",
       "\n",
       "       beneficiary_cc_depr_percent beneficiary_cc_diab_percent  \\\n",
       "0                             13.0                        21.0   \n",
       "1                             21.0                        36.0   \n",
       "2                              7.0                        20.0   \n",
       "3                              NaN                         NaN   \n",
       "4                             75.0                         NaN   \n",
       "...                            ...                         ...   \n",
       "66224                         11.0                        58.0   \n",
       "66225                          NaN                         NaN   \n",
       "66226                         46.0                        36.0   \n",
       "66227                         34.0                        57.0   \n",
       "66228                         34.0                        36.0   \n",
       "\n",
       "       beneficiary_cc_hyperl_percent  beneficiary_cc_hypert_percent  \\\n",
       "0                               46.0                           54.0   \n",
       "1                               57.0                           75.0   \n",
       "2                               40.0                           43.0   \n",
       "3                                NaN                            NaN   \n",
       "4                               62.0                           57.0   \n",
       "...                              ...                            ...   \n",
       "66224                           54.0                           75.0   \n",
       "66225                            NaN                            NaN   \n",
       "66226                           54.0                           68.0   \n",
       "66227                           64.0                           75.0   \n",
       "66228                           56.0                           72.0   \n",
       "\n",
       "       beneficiary_cc_ihd_percent  beneficiary_cc_ost_percent  \\\n",
       "0                            26.0                         9.0   \n",
       "1                            24.0                         NaN   \n",
       "2                            16.0                         6.0   \n",
       "3                             NaN                         0.0   \n",
       "4                             NaN                         NaN   \n",
       "...                           ...                         ...   \n",
       "66224                        38.0                         7.0   \n",
       "66225                         NaN                         NaN   \n",
       "66226                        45.0                         5.0   \n",
       "66227                        62.0                        12.0   \n",
       "66228                        51.0                         4.0   \n",
       "\n",
       "       beneficiary_cc_raoa_percent  beneficiary_cc_schiot_percent  \\\n",
       "0                             38.0                            1.0   \n",
       "1                             75.0                            0.0   \n",
       "2                             21.0                            NaN   \n",
       "3                              NaN                            0.0   \n",
       "4                              NaN                            0.0   \n",
       "...                            ...                            ...   \n",
       "66224                         48.0                            NaN   \n",
       "66225                          NaN                            NaN   \n",
       "66226                         40.0                           12.0   \n",
       "66227                         75.0                            9.0   \n",
       "66228                         48.0                            3.0   \n",
       "\n",
       "       beneficiary_cc_strk_percent beneficiary_average_risk_score  \n",
       "0                              3.0                         1.0925  \n",
       "1                              NaN                         1.0063  \n",
       "2                              NaN                         0.7684  \n",
       "3                              NaN                         1.1891  \n",
       "4                              NaN                         1.2509  \n",
       "...                            ...                            ...  \n",
       "66224                          7.0                         1.8015  \n",
       "66225                          0.0                         1.4364  \n",
       "66226                         31.0                         2.3548  \n",
       "66227                         12.0                         2.4551  \n",
       "66228                          8.0                         1.2075  \n",
       "\n",
       "[66229 rows x 59 columns]>"
      ]
     },
     "execution_count": 8,
     "metadata": {},
     "output_type": "execute_result"
    }
   ],
   "source": [
    "# Change the column names to lowercase in all data sets\n",
    "cms2016 = cms2016.rename(str.lower, axis = 'columns')\n",
    "\n",
    "cms2016.head"
   ]
  },
  {
   "cell_type": "code",
   "execution_count": 5,
   "metadata": {},
   "outputs": [],
   "source": [
    "# Concatenate the files using the years as keys\n",
    "cms = pd.concat([cms2014, cms2015, cms2016], axis = 0, keys = [2014, 2015, 2016], names = ['year'])"
   ]
  },
  {
   "cell_type": "code",
   "execution_count": 6,
   "metadata": {},
   "outputs": [],
   "source": [
    "# Reset the index to keep track of which year is associated with each row\n",
    "cms = cms.reset_index(level = 'year')"
   ]
  },
  {
   "cell_type": "code",
   "execution_count": 7,
   "metadata": {},
   "outputs": [
    {
     "data": {
      "text/plain": [
       "<bound method NDFrame.head of        year      nbr         npi                    provider_type  \\\n",
       "0      2014        1  1003000134                        Pathology   \n",
       "1      2014       19  1003001249               Physical Therapist   \n",
       "2      2014       21  1003001322  Mass Immunization Roster Biller   \n",
       "3      2014       37  1003002486                     Chiropractic   \n",
       "4      2014       73  1003005430            Clinical Psychologist   \n",
       "...     ...      ...         ...                              ...   \n",
       "66224  2016  1053890  1992995542                    Ophthalmology   \n",
       "66225  2016  1053892  1992995591          Obstetrics & Gynecology   \n",
       "66226  2016  1053900  1992996219                        Neurology   \n",
       "66227  2016  1053901  1992996284                Internal Medicine   \n",
       "66228  2016  1053906  1992996458                   Sleep Medicine   \n",
       "\n",
       "      medicare_participation_indicator  number_of_hcpcs  total_services  \\\n",
       "0                                    Y               13          8643.0   \n",
       "1                                    Y                4          1221.0   \n",
       "2                                    Y                7           788.0   \n",
       "3                                    Y                2           142.0   \n",
       "4                                    Y                3           130.0   \n",
       "...                                ...              ...             ...   \n",
       "66224                                Y               49          2623.0   \n",
       "66225                                Y               18            27.0   \n",
       "66226                                Y               25          1121.0   \n",
       "66227                                Y               21          4501.6   \n",
       "66228                                Y               14          1204.0   \n",
       "\n",
       "       total_unique_benes  total_submitted_chrg_amt  \\\n",
       "0                    4276                1357139.00   \n",
       "1                      69                  88686.28   \n",
       "2                     370                  21640.24   \n",
       "3                      22                   7458.44   \n",
       "4                      11                  20640.00   \n",
       "...                   ...                       ...   \n",
       "66224                 611                 845229.00   \n",
       "66225                  17                   9800.23   \n",
       "66226                 620                 565393.00   \n",
       "66227                 381                 194576.60   \n",
       "66228                 480                 323712.00   \n",
       "\n",
       "       total_medicare_allowed_amt  ...  beneficiary_cc_diab_percent  \\\n",
       "0                       321641.88  ...                         20.0   \n",
       "1                        34060.09  ...                         39.0   \n",
       "2                        21634.91  ...                         18.0   \n",
       "3                         5037.51  ...                          NaN   \n",
       "4                        14968.22  ...                          NaN   \n",
       "...                           ...  ...                          ...   \n",
       "66224                   354741.85  ...                         58.0   \n",
       "66225                     2929.11  ...                          NaN   \n",
       "66226                   163926.41  ...                         36.0   \n",
       "66227                   163050.75  ...                         57.0   \n",
       "66228                   127595.42  ...                         36.0   \n",
       "\n",
       "       beneficiary_cc_hyperl_percent beneficiary_cc_hypert_percent  \\\n",
       "0                               53.0                          57.0   \n",
       "1                               64.0                          75.0   \n",
       "2                               42.0                          49.0   \n",
       "3                               59.0                          59.0   \n",
       "4                                NaN                           NaN   \n",
       "...                              ...                           ...   \n",
       "66224                           54.0                          75.0   \n",
       "66225                            NaN                           NaN   \n",
       "66226                           54.0                          68.0   \n",
       "66227                           64.0                          75.0   \n",
       "66228                           56.0                          72.0   \n",
       "\n",
       "       beneficiary_cc_ihd_percent  beneficiary_cc_ost_percent  \\\n",
       "0                            28.0                         9.0   \n",
       "1                            32.0                         NaN   \n",
       "2                            24.0                         5.0   \n",
       "3                             NaN                         0.0   \n",
       "4                             NaN                         0.0   \n",
       "...                           ...                         ...   \n",
       "66224                        38.0                         7.0   \n",
       "66225                         NaN                         NaN   \n",
       "66226                        45.0                         5.0   \n",
       "66227                        62.0                        12.0   \n",
       "66228                        51.0                         4.0   \n",
       "\n",
       "       beneficiary_cc_raoa_percent  beneficiary_cc_schiot_percent  \\\n",
       "0                             37.0                            1.0   \n",
       "1                             68.0                            NaN   \n",
       "2                             25.0                            NaN   \n",
       "3                             64.0                            0.0   \n",
       "4                              NaN                            0.0   \n",
       "...                            ...                            ...   \n",
       "66224                         48.0                            NaN   \n",
       "66225                          NaN                            NaN   \n",
       "66226                         40.0                           12.0   \n",
       "66227                         75.0                            9.0   \n",
       "66228                         48.0                            3.0   \n",
       "\n",
       "       beneficiary_cc_strk_percent  Beneficiary_Average_Risk_Score  \\\n",
       "0                              3.0                          1.0007   \n",
       "1                              NaN                          1.1912   \n",
       "2                              3.0                          0.8019   \n",
       "3                              0.0                          0.7920   \n",
       "4                              NaN                          0.9718   \n",
       "...                            ...                             ...   \n",
       "66224                          7.0                             NaN   \n",
       "66225                          0.0                             NaN   \n",
       "66226                         31.0                             NaN   \n",
       "66227                         12.0                             NaN   \n",
       "66228                          8.0                             NaN   \n",
       "\n",
       "       beneficiary_average_risk_score  \n",
       "0                                 NaN  \n",
       "1                                 NaN  \n",
       "2                                 NaN  \n",
       "3                                 NaN  \n",
       "4                                 NaN  \n",
       "...                               ...  \n",
       "66224                          1.8015  \n",
       "66225                          1.4364  \n",
       "66226                          2.3548  \n",
       "66227                          2.4551  \n",
       "66228                          1.2075  \n",
       "\n",
       "[193862 rows x 61 columns]>"
      ]
     },
     "execution_count": 7,
     "metadata": {},
     "output_type": "execute_result"
    }
   ],
   "source": [
    "# Check the dataframe\n",
    "cms.head"
   ]
  },
  {
   "cell_type": "code",
   "execution_count": 9,
   "metadata": {},
   "outputs": [],
   "source": [
    "# Drop the unneeded level_1 variable\n",
    "cms = cms.drop('level_1', axis = 1)"
   ]
  },
  {
   "cell_type": "code",
   "execution_count": 10,
   "metadata": {},
   "outputs": [],
   "source": [
    "# Rename level_0 to year to fit specifications\n",
    "cms = cms.rename(columns = {'level_0': 'year'})"
   ]
  },
  {
   "cell_type": "code",
   "execution_count": 11,
   "metadata": {},
   "outputs": [],
   "source": [
    "answer = cms"
   ]
  },
  {
   "cell_type": "code",
   "execution_count": 12,
   "metadata": {
    "nbgrader": {
     "grade": true,
     "grade_id": "01-tests",
     "locked": true,
     "points": 5,
     "schema_version": 1,
     "solution": false
    }
   },
   "outputs": [
    {
     "ename": "AssertionError",
     "evalue": "",
     "output_type": "error",
     "traceback": [
      "\u001b[0;31m---------------------------------------------------------------------------\u001b[0m",
      "\u001b[0;31mAssertionError\u001b[0m                            Traceback (most recent call last)",
      "\u001b[0;32m<ipython-input-12-bdb8e920e30d>\u001b[0m in \u001b[0;36m<module>\u001b[0;34m\u001b[0m\n\u001b[0;32m----> 1\u001b[0;31m \u001b[0;32massert\u001b[0m\u001b[0;34m(\u001b[0m\u001b[0manswer\u001b[0m\u001b[0;34m.\u001b[0m\u001b[0mshape\u001b[0m \u001b[0;34m==\u001b[0m \u001b[0;34m(\u001b[0m\u001b[0;36m193862\u001b[0m\u001b[0;34m,\u001b[0m \u001b[0;36m60\u001b[0m\u001b[0;34m)\u001b[0m\u001b[0;34m)\u001b[0m\u001b[0;34m\u001b[0m\u001b[0;34m\u001b[0m\u001b[0m\n\u001b[0m\u001b[1;32m      2\u001b[0m \u001b[0;32massert\u001b[0m\u001b[0;34m(\u001b[0m\u001b[0mlist\u001b[0m\u001b[0;34m(\u001b[0m\u001b[0manswer\u001b[0m\u001b[0;34m[\u001b[0m\u001b[0;34m'year'\u001b[0m\u001b[0;34m]\u001b[0m\u001b[0;34m.\u001b[0m\u001b[0munique\u001b[0m\u001b[0;34m(\u001b[0m\u001b[0;34m)\u001b[0m\u001b[0;34m)\u001b[0m \u001b[0;34m==\u001b[0m \u001b[0;34m[\u001b[0m\u001b[0;36m2014\u001b[0m\u001b[0;34m,\u001b[0m\u001b[0;36m2015\u001b[0m\u001b[0;34m,\u001b[0m\u001b[0;36m2016\u001b[0m\u001b[0;34m]\u001b[0m\u001b[0;34m)\u001b[0m\u001b[0;34m\u001b[0m\u001b[0;34m\u001b[0m\u001b[0m\n\u001b[1;32m      3\u001b[0m assert(set(answer.columns.str.lower()) == set(['year', 'nbr', 'npi', 'provider_type',\n\u001b[1;32m      4\u001b[0m        \u001b[0;34m'medicare_participation_indicator'\u001b[0m\u001b[0;34m,\u001b[0m \u001b[0;34m'number_of_hcpcs'\u001b[0m\u001b[0;34m,\u001b[0m \u001b[0;34m'total_services'\u001b[0m\u001b[0;34m,\u001b[0m\u001b[0;34m\u001b[0m\u001b[0;34m\u001b[0m\u001b[0m\n\u001b[1;32m      5\u001b[0m        \u001b[0;34m'total_unique_benes'\u001b[0m\u001b[0;34m,\u001b[0m \u001b[0;34m'total_submitted_chrg_amt'\u001b[0m\u001b[0;34m,\u001b[0m\u001b[0;34m\u001b[0m\u001b[0;34m\u001b[0m\u001b[0m\n",
      "\u001b[0;31mAssertionError\u001b[0m: "
     ]
    }
   ],
   "source": [
    "assert(answer.shape == (193862, 60))\n",
    "assert(list(answer['year'].unique()) == [2014,2015,2016])\n",
    "assert(set(answer.columns.str.lower()) == set(['year', 'nbr', 'npi', 'provider_type',\n",
    "       'medicare_participation_indicator', 'number_of_hcpcs', 'total_services',\n",
    "       'total_unique_benes', 'total_submitted_chrg_amt',\n",
    "       'total_medicare_allowed_amt', 'total_medicare_payment_amt',\n",
    "       'total_medicare_stnd_amt', 'drug_suppress_indicator',\n",
    "       'number_of_drug_hcpcs', 'total_drug_services',\n",
    "       'total_drug_unique_benes', 'total_drug_submitted_chrg_amt',\n",
    "       'total_drug_medicare_allowed_amt', 'total_drug_medicare_payment_amt',\n",
    "       'total_drug_medicare_stnd_amt', 'med_suppress_indicator',\n",
    "       'number_of_med_hcpcs', 'total_med_services', 'total_med_unique_benes',\n",
    "       'total_med_submitted_chrg_amt', 'total_med_medicare_allowed_amt',\n",
    "       'total_med_medicare_payment_amt', 'total_med_medicare_stnd_amt',\n",
    "       'beneficiary_average_age', 'beneficiary_age_less_65_count',\n",
    "       'beneficiary_age_65_74_count', 'beneficiary_age_75_84_count',\n",
    "       'beneficiary_age_greater_84_count', 'beneficiary_female_count',\n",
    "       'beneficiary_male_count', 'beneficiary_race_white_count',\n",
    "       'beneficiary_race_black_count', 'beneficiary_race_api_count',\n",
    "       'beneficiary_race_hispanic_count', 'beneficiary_race_natind_count',\n",
    "       'beneficiary_race_other_count', 'beneficiary_nondual_count',\n",
    "       'beneficiary_dual_count', 'beneficiary_cc_afib_percent',\n",
    "       'beneficiary_cc_alzrdsd_percent', 'beneficiary_cc_asthma_percent',\n",
    "       'beneficiary_cc_cancer_percent', 'beneficiary_cc_chf_percent',\n",
    "       'beneficiary_cc_ckd_percent', 'beneficiary_cc_copd_percent',\n",
    "       'beneficiary_cc_depr_percent', 'beneficiary_cc_diab_percent',\n",
    "       'beneficiary_cc_hyperl_percent', 'beneficiary_cc_hypert_percent',\n",
    "       'beneficiary_cc_ihd_percent', 'beneficiary_cc_ost_percent',\n",
    "       'beneficiary_cc_raoa_percent', 'beneficiary_cc_schiot_percent',\n",
    "       'beneficiary_cc_strk_percent', 'beneficiary_average_risk_score']))"
   ]
  },
  {
   "cell_type": "code",
   "execution_count": null,
   "metadata": {},
   "outputs": [],
   "source": []
  },
  {
   "cell_type": "markdown",
   "metadata": {
    "nbgrader": {
     "grade": false,
     "grade_id": "02-intro",
     "locked": true,
     "schema_version": 1,
     "solution": false
    }
   },
   "source": [
    "## Part 2\n",
    "\n",
    "In this next part, we're going to join the **cms** data with the provider information in the **/data/npidata.csv** file.  In this join, we don't want to lose any records from the **cms** files, even if no matching provider exists in the **npidata** file.  However, we don't care about any providers from the **npidata** file that don't have records in the **cms** files.  Those providers can be ignored.\n",
    "\n",
    "Join the data files together to create one unified data frame called `answer`.  This dataframe should have all the columns from both **cms** and **npidata** files, joined together using the `npi` column.  \n",
    "\n",
    "Note that `npi` is unique in the **npidata** file."
   ]
  },
  {
   "cell_type": "code",
   "execution_count": 13,
   "metadata": {
    "nbgrader": {
     "grade": false,
     "grade_id": "02-solution",
     "locked": false,
     "schema_version": 1,
     "solution": true
    }
   },
   "outputs": [],
   "source": [
    "answer = None\n",
    "\n",
    "### SOLUTION"
   ]
  },
  {
   "cell_type": "code",
   "execution_count": 14,
   "metadata": {},
   "outputs": [
    {
     "data": {
      "text/plain": [
       "Index(['row', 'NPI', 'Entity Type Code', 'Replacement NPI',\n",
       "       'Employer Identification Number (EIN)',\n",
       "       'Provider Organization Name (Legal Business Name)',\n",
       "       'Provider Last Name (Legal Name)', 'Provider First Name',\n",
       "       'Provider Middle Name', 'Provider Name Prefix Text',\n",
       "       'Provider Name Suffix Text', 'Provider Credential Text',\n",
       "       'Provider Other Organization Name',\n",
       "       'Provider Other Organization Name Type Code',\n",
       "       'Provider Other Last Name', 'Provider Other First Name',\n",
       "       'Provider Other Middle Name', 'Provider Other Name Prefix Text',\n",
       "       'Provider Other Name Suffix Text', 'Provider Other Credential Text',\n",
       "       'Provider Other Last Name Type Code',\n",
       "       'Provider First Line Business Mailing Address',\n",
       "       'Provider Second Line Business Mailing Address',\n",
       "       'Provider Business Mailing Address City Name',\n",
       "       'Provider Business Mailing Address State Name',\n",
       "       'Provider Business Mailing Address Postal Code',\n",
       "       'Provider Business Mailing Address Country Code (If outside U.S.)',\n",
       "       'Provider Business Mailing Address Telephone Number',\n",
       "       'Provider Business Mailing Address Fax Number',\n",
       "       'Provider First Line Business Practice Location Address',\n",
       "       'Provider Second Line Business Practice Location Address',\n",
       "       'Provider Business Practice Location Address City Name',\n",
       "       'Provider Business Practice Location Address State Name',\n",
       "       'Provider Business Practice Location Address Postal Code',\n",
       "       'Provider Business Practice Location Address Country Code (If outside U.S.)',\n",
       "       'Provider Business Practice Location Address Telephone Number',\n",
       "       'Provider Business Practice Location Address Fax Number',\n",
       "       'Provider Enumeration Date', 'Last Update Date',\n",
       "       'NPI Deactivation Reason Code', 'NPI Deactivation Date',\n",
       "       'NPI Reactivation Date', 'Provider Gender Code'],\n",
       "      dtype='object')"
      ]
     },
     "execution_count": 14,
     "metadata": {},
     "output_type": "execute_result"
    }
   ],
   "source": [
    "# View the columns of npi data to determine appropriate provider column for join\n",
    "npidata.columns"
   ]
  },
  {
   "cell_type": "code",
   "execution_count": 15,
   "metadata": {
    "nbgrader": {
     "grade": false,
     "grade_id": "02-solution",
     "locked": false,
     "schema_version": 1,
     "solution": true
    }
   },
   "outputs": [],
   "source": [
    "# Do a left join on the answer from part 1 (cms dataframe) and the npi data using the npi variables\n",
    "cms_npi = cms.merge(npidata, how = 'left', left_on = 'npi', right_on = 'NPI')"
   ]
  },
  {
   "cell_type": "code",
   "execution_count": 16,
   "metadata": {},
   "outputs": [],
   "source": [
    "answer = cms_npi"
   ]
  },
  {
   "cell_type": "code",
   "execution_count": 17,
   "metadata": {
    "nbgrader": {
     "grade": true,
     "grade_id": "02-tests",
     "locked": true,
     "points": 5,
     "schema_version": 1,
     "solution": false
    }
   },
   "outputs": [
    {
     "ename": "AssertionError",
     "evalue": "",
     "output_type": "error",
     "traceback": [
      "\u001b[0;31m---------------------------------------------------------------------------\u001b[0m",
      "\u001b[0;31mAssertionError\u001b[0m                            Traceback (most recent call last)",
      "\u001b[0;32m<ipython-input-17-6539db35ef6b>\u001b[0m in \u001b[0;36m<module>\u001b[0;34m\u001b[0m\n\u001b[1;32m      1\u001b[0m \u001b[0;32mimport\u001b[0m \u001b[0mnumpy\u001b[0m\u001b[0;34m\u001b[0m\u001b[0;34m\u001b[0m\u001b[0m\n\u001b[0;32m----> 2\u001b[0;31m \u001b[0;32massert\u001b[0m\u001b[0;34m(\u001b[0m\u001b[0manswer\u001b[0m\u001b[0;34m.\u001b[0m\u001b[0mshape\u001b[0m \u001b[0;34m==\u001b[0m \u001b[0;34m(\u001b[0m\u001b[0;36m193862\u001b[0m\u001b[0;34m,\u001b[0m \u001b[0;36m103\u001b[0m\u001b[0;34m)\u001b[0m\u001b[0;34m)\u001b[0m\u001b[0;34m\u001b[0m\u001b[0;34m\u001b[0m\u001b[0m\n\u001b[0m\u001b[1;32m      3\u001b[0m \u001b[0;32massert\u001b[0m\u001b[0;34m(\u001b[0m\u001b[0mlist\u001b[0m\u001b[0;34m(\u001b[0m\u001b[0manswer\u001b[0m\u001b[0;34m[\u001b[0m\u001b[0;34m'Provider Business Mailing Address State Name'\u001b[0m\u001b[0;34m]\u001b[0m\u001b[0;34m.\u001b[0m\u001b[0munique\u001b[0m\u001b[0;34m(\u001b[0m\u001b[0;34m)\u001b[0m\u001b[0;34m)\u001b[0m \u001b[0;34m==\u001b[0m \u001b[0;34m[\u001b[0m\u001b[0;34m'IL'\u001b[0m\u001b[0;34m,\u001b[0m\u001b[0;34m'MO'\u001b[0m\u001b[0;34m,\u001b[0m\u001b[0mnumpy\u001b[0m\u001b[0;34m.\u001b[0m\u001b[0mnan\u001b[0m\u001b[0;34m,\u001b[0m\u001b[0;34m'WY'\u001b[0m\u001b[0;34m]\u001b[0m\u001b[0;34m)\u001b[0m\u001b[0;34m\u001b[0m\u001b[0;34m\u001b[0m\u001b[0m\n\u001b[1;32m      4\u001b[0m \u001b[0;32massert\u001b[0m\u001b[0;34m(\u001b[0m\u001b[0mlist\u001b[0m\u001b[0;34m(\u001b[0m\u001b[0manswer\u001b[0m\u001b[0;34m.\u001b[0m\u001b[0mgroupby\u001b[0m\u001b[0;34m(\u001b[0m\u001b[0;34m'Provider Business Mailing Address State Name'\u001b[0m\u001b[0;34m)\u001b[0m\u001b[0;34m.\u001b[0m\u001b[0mNPI\u001b[0m\u001b[0;34m.\u001b[0m\u001b[0mcount\u001b[0m\u001b[0;34m(\u001b[0m\u001b[0;34m)\u001b[0m\u001b[0;34m)\u001b[0m \u001b[0;34m==\u001b[0m \u001b[0;34m[\u001b[0m\u001b[0;36m111520\u001b[0m\u001b[0;34m,\u001b[0m \u001b[0;36m53366\u001b[0m\u001b[0;34m,\u001b[0m \u001b[0;36m4805\u001b[0m\u001b[0;34m]\u001b[0m\u001b[0;34m)\u001b[0m\u001b[0;34m\u001b[0m\u001b[0;34m\u001b[0m\u001b[0m\n",
      "\u001b[0;31mAssertionError\u001b[0m: "
     ]
    }
   ],
   "source": [
    "import numpy\n",
    "assert(answer.shape == (193862, 103))\n",
    "assert(list(answer['Provider Business Mailing Address State Name'].unique()) == ['IL','MO',numpy.nan,'WY'])\n",
    "assert(list(answer.groupby('Provider Business Mailing Address State Name').NPI.count()) == [111520, 53366, 4805])"
   ]
  },
  {
   "cell_type": "markdown",
   "metadata": {
    "nbgrader": {
     "grade": false,
     "grade_id": "03-intro",
     "locked": true,
     "schema_version": 1,
     "solution": false
    }
   },
   "source": [
    "## Part 3\n",
    "\n",
    "If you did everything right above, you'll notice that grouping by a column with NaN in it will cause some rows to disappear from the aggregation test.  So, let's create a new column called `'State'` that has the same value as whatever is in the `'Provider Business Mailing Address State Name'` column or a value of `'XX'` if there is no state information.\n",
    "\n",
    "Set `answer` to be your final data frame with the new `'State'` column added."
   ]
  },
  {
   "cell_type": "code",
   "execution_count": 26,
   "metadata": {
    "nbgrader": {
     "grade": false,
     "grade_id": "03-solution",
     "locked": false,
     "schema_version": 1,
     "solution": true
    }
   },
   "outputs": [],
   "source": [
    "answer = None\n",
    "\n",
    "### SOLUTION\n",
    "# Create a new column, assigning the value from the provider business mailing address and filling na with XX\n",
    "cms_npi['State'] = cms_npi['Provider Business Mailing Address State Name'].fillna('XX')"
   ]
  },
  {
   "cell_type": "code",
   "execution_count": 25,
   "metadata": {},
   "outputs": [
    {
     "data": {
      "text/plain": [
       "(193862, 105)"
      ]
     },
     "execution_count": 25,
     "metadata": {},
     "output_type": "execute_result"
    }
   ],
   "source": [
    "# Check the shape\n",
    "cms_npi.shape"
   ]
  },
  {
   "cell_type": "code",
   "execution_count": 23,
   "metadata": {},
   "outputs": [],
   "source": [
    "answer = cms_npi"
   ]
  },
  {
   "cell_type": "code",
   "execution_count": 24,
   "metadata": {
    "nbgrader": {
     "grade": true,
     "grade_id": "03-tests",
     "locked": true,
     "points": 5,
     "schema_version": 1,
     "solution": false
    }
   },
   "outputs": [
    {
     "ename": "AssertionError",
     "evalue": "",
     "output_type": "error",
     "traceback": [
      "\u001b[0;31m---------------------------------------------------------------------------\u001b[0m",
      "\u001b[0;31mAssertionError\u001b[0m                            Traceback (most recent call last)",
      "\u001b[0;32m<ipython-input-24-ead5e4353622>\u001b[0m in \u001b[0;36m<module>\u001b[0;34m\u001b[0m\n\u001b[1;32m      1\u001b[0m \u001b[0;32massert\u001b[0m\u001b[0;34m(\u001b[0m\u001b[0mlist\u001b[0m\u001b[0;34m(\u001b[0m\u001b[0manswer\u001b[0m\u001b[0;34m.\u001b[0m\u001b[0mgroupby\u001b[0m\u001b[0;34m(\u001b[0m\u001b[0;34m'State'\u001b[0m\u001b[0;34m)\u001b[0m\u001b[0;34m.\u001b[0m\u001b[0mnpi\u001b[0m\u001b[0;34m.\u001b[0m\u001b[0mcount\u001b[0m\u001b[0;34m(\u001b[0m\u001b[0;34m)\u001b[0m\u001b[0;34m)\u001b[0m \u001b[0;34m==\u001b[0m \u001b[0;34m[\u001b[0m\u001b[0;36m111520\u001b[0m\u001b[0;34m,\u001b[0m \u001b[0;36m53366\u001b[0m\u001b[0;34m,\u001b[0m \u001b[0;36m4805\u001b[0m\u001b[0;34m,\u001b[0m \u001b[0;36m24171\u001b[0m\u001b[0;34m]\u001b[0m\u001b[0;34m)\u001b[0m\u001b[0;34m\u001b[0m\u001b[0;34m\u001b[0m\u001b[0m\n\u001b[0;32m----> 2\u001b[0;31m \u001b[0;32massert\u001b[0m\u001b[0;34m(\u001b[0m\u001b[0manswer\u001b[0m\u001b[0;34m.\u001b[0m\u001b[0mshape\u001b[0m \u001b[0;34m==\u001b[0m \u001b[0;34m(\u001b[0m\u001b[0;36m193862\u001b[0m\u001b[0;34m,\u001b[0m \u001b[0;36m104\u001b[0m\u001b[0;34m)\u001b[0m\u001b[0;34m)\u001b[0m\u001b[0;34m\u001b[0m\u001b[0;34m\u001b[0m\u001b[0m\n\u001b[0m",
      "\u001b[0;31mAssertionError\u001b[0m: "
     ]
    }
   ],
   "source": [
    "assert(list(answer.groupby('State').npi.count()) == [111520, 53366, 4805, 24171])\n",
    "assert(answer.shape == (193862, 104))"
   ]
  },
  {
   "cell_type": "markdown",
   "metadata": {
    "nbgrader": {
     "grade": false,
     "grade_id": "04-intro",
     "locked": true,
     "schema_version": 1,
     "solution": false
    }
   },
   "source": [
    "## Part 4\n",
    "\n",
    "Next, let's summarize the data by year and by State.  Create a pivot table that contains one row for each state and one column for each year.  Within the pivot table, put a sum of total services as the values.\n",
    "\n",
    "Assign `answer` to be that resulting pivot table.  In the tests, I'm going to plot a bar chart of your pivot table."
   ]
  },
  {
   "cell_type": "code",
   "execution_count": 34,
   "metadata": {
    "nbgrader": {
     "grade": false,
     "grade_id": "04-solution",
     "locked": false,
     "schema_version": 1,
     "solution": true
    }
   },
   "outputs": [],
   "source": [
    "%matplotlib inline\n",
    "answer = None\n",
    "\n",
    "### SOLUTION\n",
    "pivot_data = cms_npi.pivot_table(values = 'total_services', index = 'State', columns = 'year', aggfunc = numpy.sum)"
   ]
  },
  {
   "cell_type": "code",
   "execution_count": 35,
   "metadata": {},
   "outputs": [
    {
     "data": {
      "text/plain": [
       "<bound method NDFrame.head of year          2014         2015         2016\n",
       "State                                       \n",
       "IL     101393758.4  103048716.3  105432032.4\n",
       "MO      48577227.1   50808468.0   50854632.1\n",
       "WY       3487240.6    3800978.9    3604487.9\n",
       "XX      14938636.4   16533705.2   16705781.4>"
      ]
     },
     "execution_count": 35,
     "metadata": {},
     "output_type": "execute_result"
    }
   ],
   "source": [
    "pivot_data.head"
   ]
  },
  {
   "cell_type": "code",
   "execution_count": 36,
   "metadata": {},
   "outputs": [],
   "source": [
    "answer = pivot_data"
   ]
  },
  {
   "cell_type": "code",
   "execution_count": 37,
   "metadata": {
    "nbgrader": {
     "grade": true,
     "grade_id": "04-tests",
     "locked": true,
     "points": 5,
     "schema_version": 1,
     "solution": false
    }
   },
   "outputs": [],
   "source": [
    "assert(answer.shape == (4,3))\n",
    "assert(answer.sum().sum() == 519185664.6999999)\n",
    "assert(answer[2016].sum() == 176596933.80000004)\n",
    "assert(answer.loc['WY'].sum() == 10892707.4)"
   ]
  },
  {
   "cell_type": "code",
   "execution_count": 38,
   "metadata": {},
   "outputs": [
    {
     "data": {
      "text/plain": [
       "<matplotlib.axes._subplots.AxesSubplot at 0x7f48167a2c50>"
      ]
     },
     "execution_count": 38,
     "metadata": {},
     "output_type": "execute_result"
    },
    {
     "data": {
      "image/png": "[encoded data removed]",
      "text/plain": [
       "<Figure size 432x288 with 1 Axes>"
      ]
     },
     "metadata": {
      "needs_background": "light"
     },
     "output_type": "display_data"
    }
   ],
   "source": [
    "%matplotlib inline\n",
    "answer.plot.bar()"
   ]
  },
  {
   "cell_type": "code",
   "execution_count": null,
   "metadata": {},
   "outputs": [],
   "source": []
  },
  {
   "cell_type": "markdown",
   "metadata": {},
   "source": [
    "\n",
    "\n",
    "---\n",
    "\n",
    "\n",
    "\n",
    "## Submitting Your Work\n",
    "\n",
    "In order to submit your work, you'll need to use the `git` command line program to **add** your homework file (this file) to your local repository, **commit** your changes to your local repository, and then **push** those changes up to github.com.  From there, I'll be able to **pull** the changes down and do my grading.  I'll provide some feedback, **commit** and **push** my comments back to you.  Next week, I'll show you how to **pull** down my comments.\n",
    "\n",
    "To run through everything one last time and submit your work:\n",
    "1. Use the `Kernel` -> `Restart Kernel and Run All Cells` menu option to run everything from top to bottom and stop here.\n",
    "2. Follow the instruction on the prompt below to either ssave and submit your work, or continue working.\n",
    "\n",
    "If anything fails along the way with this submission part of the process, let me know.  I'll help you troubleshoort."
   ]
  },
  {
   "cell_type": "markdown",
   "metadata": {},
   "source": [
    "---"
   ]
  },
  {
   "cell_type": "code",
   "execution_count": 39,
   "metadata": {
    "jupyter": {
     "source_hidden": true
    }
   },
   "outputs": [
    {
     "name": "stdin",
     "output_type": "stream",
     "text": [
      "\n",
      "Are you ready to submit your work?\n",
      "1. Click the Save icon (or do Ctrl-S / Cmd-S)\n",
      "2. Type \"yes\" or \"no\" below\n",
      "3. Press Enter\n",
      "\n",
      " yes\n"
     ]
    },
    {
     "name": "stdout",
     "output_type": "stream",
     "text": [
      "Already up to date.\n",
      "[main 91e9dd5] Submitting the week 14 programming assignment\n",
      " 2 files changed, 1199 insertions(+), 7 deletions(-)\n",
      " create mode 100644 week14/week14_assignment.ipynb\n",
      "Counting objects: 6, done.\n",
      "Delta compression using up to 2 threads.\n",
      "Compressing objects: 100% (6/6), done.\n",
      "Writing objects: 100% (6/6), 10.11 KiB | 5.06 MiB/s, done.\n",
      "Total 6 (delta 3), reused 0 (delta 0)\n",
      "remote: Resolving deltas: 100% (3/3), completed with 3 local objects.\u001b[K\n",
      "To github.com:ecdmdphd/hds5210-2022.git\n",
      "   3589129..91e9dd5  main -> main\n"
     ]
    }
   ],
   "source": [
    "a=input('''\n",
    "Are you ready to submit your work?\n",
    "1. Click the Save icon (or do Ctrl-S / Cmd-S)\n",
    "2. Type \"yes\" or \"no\" below\n",
    "3. Press Enter\n",
    "\n",
    "''')\n",
    "\n",
    "if a=='yes':\n",
    "    !git pull\n",
    "    !git add week14_assignment.ipynb\n",
    "    !git commit -a -m \"Submitting the week 14 programming assignment\"\n",
    "    !git push\n",
    "else:\n",
    "    print('''\n",
    "    \n",
    "OK. We can wait.\n",
    "''')"
   ]
  },
  {
   "cell_type": "code",
   "execution_count": null,
   "metadata": {},
   "outputs": [],
   "source": []
  }
 ],
 "metadata": {
  "celltoolbar": "Create Assignment",
  "kernelspec": {
   "display_name": "Python 3",
   "language": "python",
   "name": "python3"
  },
  "language_info": {
   "codemirror_mode": {
    "name": "ipython",
    "version": 3
   },
   "file_extension": ".py",
   "mimetype": "text/x-python",
   "name": "python",
   "nbconvert_exporter": "python",
   "pygments_lexer": "ipython3",
   "version": "3.6.7"
  }
 },
 "nbformat": 4,
 "nbformat_minor": 2
}
