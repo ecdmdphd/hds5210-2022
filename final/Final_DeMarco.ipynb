{
 "cells": [
  {
   "cell_type": "markdown",
   "metadata": {},
   "source": [
    "# HDS 5210 Final Project: Osteoporosis in Multiple Data Sets\n",
    "### Elisabeth C. DeMarco\n",
    "\n",
    "This project examines data about osteoporosis in women in the United States using 2 data sources: the National Health and Nutrition Examination Survey (NHANES) and the Study of Women's Health Across the Nation (SWAN). While NHANES is continuously run, SWAN was most recently conducted between 2006-2008. Thus, the present project focuses on NHANES 2007-2008 and 2006-2008 data. \n",
    "\n",
    "All data/documentation can be found at the following links: \n",
    "* NHANES:\n",
    "    * Demographics:\n",
    "        * Documentation: https://wwwn.cdc.gov/Nchs/Nhanes/2007-2008/DEMO_E.htm\n",
    "        * Data: https://wwwn.cdc.gov/nchs/nhanes/search/datapage.aspx?Component=Demographics&CycleBeginYear=2007\n",
    "            * File name: `DEMO_E.XPT`\n",
    "    * Ostoporosis Questionnaire Module: \n",
    "        * Documentation: https://wwwn.cdc.gov/Nchs/Nhanes/2007-2008/OSQ_E.htm\n",
    "        * Data: https://wwwn.cdc.gov/nchs/nhanes/search/datapage.aspx?Component=Questionnaire&CycleBeginYear=2007\n",
    "             * File name: `OSQ_E.XPT`\n",
    "    * Current Health Status: \n",
    "        * Documentation: https://wwwn.cdc.gov/Nchs/Nhanes/2007-2008/HSQ_E.htm\n",
    "        * Data: https://wwwn.cdc.gov/nchs/nhanes/search/datapage.aspx?Component=Questionnaire&CycleBeginYear=2007\n",
    "            * File name: `HSQ_E.XPT`\n",
    "    * Mental Health - Depression Screener: \n",
    "        * Documentation: https://wwwn.cdc.gov/Nchs/Nhanes/2007-2008/DPQ_E.htm\n",
    "        * Data: https://wwwn.cdc.gov/nchs/nhanes/search/datapage.aspx?Component=Questionnaire&CycleBeginYear=2007\n",
    "            * File name: `DPQ_E.XPT`\n",
    "\n",
    "* SWAN:\n",
    "    * Study of Women's Health Across the Nation (SWAN) Cross-Sectional Screener Dataset, [United States], \n",
    "        1995-1997 (ICPSR 4368): https://www.icpsr.umich.edu/web/ICPSR/studies/4368/summary\n",
    "        * Codebook and data files are available for download at the same site\n",
    "            * File Name: '04368-0001-Data.tsv'\n",
    "    * Study of Women's Health Across the Nation (SWAN) 2006-2008: https://www.icpsr.umich.edu/web/ICPSR/studies/32961\n",
    "        * Codebook and data file are available for download at the same site\n",
    "            * File Name: '32961-0001-Data.tsv'\n",
    "\n",
    "Files were saved to the `/final` directory for ease of access.  "
   ]
  },
  {
   "cell_type": "markdown",
   "metadata": {},
   "source": [
    "## Study Objectives\n",
    "I will be working with a medical student for her 2022 Summer Research Fellowship to examine associations between osteoporosis and mental health, with a particular focus on mental health treatment and gender disparities. We plan to use secondary data from the National Health and Nutrition Examination Survey (NHANES), a nationally representative survey comprised of in-home questionnaires and physical examinations administered at a mobile site. We will examine a subset of individuals with osteoporosis for mental health outcomes and treatment. In particular, we will use the data on osteoporosis outcomes (such as broken bones and diagnosis), general impression of mental health, and PHQ-9 scores (a commonly used screening tool for depression). Treatment data could be gathered from reports of prescription medication and mental health encounters in other modules of NHANES not included above. The larger project will include NHANES data from multiple years, using those years in which NHANES collected data on osteoporosis.\n",
    "\n",
    "As no one dataset contains all the information one typically needs, cross-comparison between two similar data sources is often required. The current project will focus on proor-of-concept, data management, and exploratory analysis. In addition, I will compare data from NHANES with SWAN to determine whether NHANES gathers comparable information to SWAN, a longitudinal in-person study. From the current project, I will identify variables that could be harmonized and compared between the two data sources. This cross-sectional analysis will be the first step towards future comparisons between these two data sets, including later longitudinal study. This will be particularly useful as SWAN stopped collecting data in 2008, while NHANES continues to collect data. If the conclusions drawn from both studies are similar regarding women's mental health and osteoporosis outcomes, NHANES would be a good candidate data source to continue to monitor national trends in these areas. If these conclusions are different, the necessity of longitudinal studies such as SWAN would be underscored."
   ]
  },
  {
   "cell_type": "markdown",
   "metadata": {},
   "source": [
    "## Variables of Interest\n",
    "\n",
    "The documentation for both datasets was examined and a final set of variables of interest collected. These are detailed in the `DeMarco_HDS5210Final_VariableFile.xlsx` file. Concepts of interest are summarized below:\n",
    "* Age\n",
    "* Sex\n",
    "* Race/Ethnicity\n",
    "* Education\n",
    "* Osteoporosis diagnosis\n",
    "* Broken bone\n",
    "* Fracture of wrist or hip\n",
    "* Pain interference with activities\n",
    "* Feeling nervous or anxious in last month\n",
    "* Felt depressed in last 2 weeks\n",
    "* Overall health"
   ]
  },
  {
   "cell_type": "markdown",
   "metadata": {},
   "source": [
    "## Creating the Analytic Data Sets\n",
    "\n",
    "SWAN data for 2006-2008 is limited to \"Women age 51 through 63\" while NHANES samples a broader portion of the US population. To facilitate accurate comparisons, NHANES data was limited to women age 51 through 63. "
   ]
  },
  {
   "cell_type": "code",
   "execution_count": 1,
   "metadata": {},
   "outputs": [
    {
     "name": "stderr",
     "output_type": "stream",
     "text": [
      "/opt/tljh/user/lib/python3.6/site-packages/IPython/core/interactiveshell.py:3051: DtypeWarning: Columns (2,3,4,5,6,7,8,9,10,11,12,13,14,15,16,17,18,19,20,21,22,23,24,25,26,27,28,29,30,31,32,33,34,35,36,37,38,39,40,41,46,47,48,49,50,51,52,53,56,57,58,59,60,61,62,63,64,65,66,67,68,69,70,71,72,73,74,75,84,86,87,90,91,94,95,96,97,98,99,100,101,102,103,104,105,106,107,108,109,110,111,112,113,114,115,116,117,118,119,120,121,122,123,477,478,482,483,484,485,486,490,491,492,495,504,506,507,515,522,523,525,530,535,536,537,538,563,567) have mixed types.Specify dtype option on import or set low_memory=False.\n",
      "  interactivity=interactivity, compiler=compiler, result=result)\n"
     ]
    }
   ],
   "source": [
    "# Import Packages and read in data\n",
    "import pandas as pd\n",
    "\n",
    "# Read in tsv file from SWAN data\n",
    "SWAN_2008 = pd.read_csv('32961-0001-Data.tsv', sep = '\\t')\n",
    "SWAN_demographics = pd.read_csv('04368-0001-Data.tsv', sep = '\\t')\n",
    "\n",
    "# Read in NHANES files\n",
    "NHANES_osteoporosis = pd.read_sas('OSQ_E.XPT')\n",
    "NHANES_demographics = pd.read_sas('DEMO_E.XPT')\n",
    "NHANES_currenthealth = pd.read_sas('HSQ_E.XPT')\n",
    "NHANES_depression = pd.read_sas('DPQ_E.XPT')"
   ]
  },
  {
   "cell_type": "code",
   "execution_count": 10,
   "metadata": {},
   "outputs": [],
   "source": [
    "# Create a function to subset columns given a list of variables\n",
    "def column_select (dataframe, l):\n",
    "    '''dataframe, list -> dataframe\n",
    "    This function takes two arguments, a dataframe and a list. It \n",
    "    returns a dataframe with only those columns matching the input\n",
    "    of the list provided. \n",
    "    '''\n",
    "    smalldata = dataframe[l]\n",
    "    return smalldata   "
   ]
  },
  {
   "cell_type": "code",
   "execution_count": 15,
   "metadata": {},
   "outputs": [],
   "source": [
    "# Pull the variables of interest from the SWAN 2008 file\n",
    "SWAN_2008_Analytic = column_select(SWAN_2008, ['SWANID', 'AGE10',\n",
    "                                              'OSTEOPR10', 'BROKEBO10',\n",
    "                                              'BONES110',\n",
    "                                              'PAINTRF10', 'NERV4WK10',\n",
    "                                              'DEPRESS10', 'OVERHLT10'])\n",
    "\n",
    "# Pull the variables of interest from the SWAN crosssectional file\n",
    "SWAN_demo_Analytic = column_select(SWAN_demographics, ['SWANID', 'RACE', 'DEGREE'])"
   ]
  },
  {
   "cell_type": "code",
   "execution_count": 16,
   "metadata": {},
   "outputs": [
    {
     "data": {
      "text/plain": [
       "<bound method NDFrame.head of       SWANID AGE10 OSTEOPR10 BROKEBO10 BONES110 PAINTRF10 NERV4WK10 DEPRESS10  \\\n",
       "0      10046    62         1         0                  1         6         1   \n",
       "1      10056    61         1         0                  1         6         1   \n",
       "2      10153    61         1         0                  1         6         1   \n",
       "3      10196    56         1         0                  1         4         1   \n",
       "4      10245    57         1         0                  1         5         2   \n",
       "...      ...   ...       ...       ...      ...       ...       ...       ...   \n",
       "2240   99805    52         1         0                  1         6         1   \n",
       "2241   99809    53         1         0                  1         4         2   \n",
       "2242   99888    58         1         0                  4         3         4   \n",
       "2243   99898    55         1         0                  1         6         2   \n",
       "2244   99962    57         1         0                  1         5         1   \n",
       "\n",
       "     OVERHLT10  \n",
       "0            1  \n",
       "1            2  \n",
       "2            3  \n",
       "3            3  \n",
       "4            2  \n",
       "...        ...  \n",
       "2240         3  \n",
       "2241         1  \n",
       "2242         5  \n",
       "2243         3  \n",
       "2244         1  \n",
       "\n",
       "[2245 rows x 9 columns]>"
      ]
     },
     "execution_count": 16,
     "metadata": {},
     "output_type": "execute_result"
    }
   ],
   "source": [
    "SWAN_2008_Analytic.head"
   ]
  },
  {
   "cell_type": "code",
   "execution_count": 17,
   "metadata": {},
   "outputs": [
    {
     "data": {
      "text/plain": [
       "<bound method NDFrame.head of       SWANID AGE10 OSTEOPR10 BROKEBO10 BONES110 PAINTRF10 NERV4WK10 DEPRESS10  \\\n",
       "0      10046    62         1         0                  1         6         1   \n",
       "1      10056    61         1         0                  1         6         1   \n",
       "2      10153    61         1         0                  1         6         1   \n",
       "3      10196    56         1         0                  1         4         1   \n",
       "4      10245    57         1         0                  1         5         2   \n",
       "...      ...   ...       ...       ...      ...       ...       ...       ...   \n",
       "2240   99805    52         1         0                  1         6         1   \n",
       "2241   99809    53         1         0                  1         4         2   \n",
       "2242   99888    58         1         0                  4         3         4   \n",
       "2243   99898    55         1         0                  1         6         2   \n",
       "2244   99962    57         1         0                  1         5         1   \n",
       "\n",
       "     OVERHLT10 RACE DEGREE  \n",
       "0            1    2      2  \n",
       "1            2    4      3  \n",
       "2            3    3      2  \n",
       "3            3    2      5  \n",
       "4            2    4      2  \n",
       "...        ...  ...    ...  \n",
       "2240         3    1      4  \n",
       "2241         1    4      4  \n",
       "2242         5    3      3  \n",
       "2243         3    4      5  \n",
       "2244         1    2      4  \n",
       "\n",
       "[2245 rows x 11 columns]>"
      ]
     },
     "execution_count": 17,
     "metadata": {},
     "output_type": "execute_result"
    }
   ],
   "source": [
    "# Use a left-join on SWANID to create an overall SWAN2008 analytic dataset\n",
    "SWAN_full = SWAN_2008_Analytic.merge(SWAN_demo_Analytic, how = 'left', left_on = 'SWANID', right_on = 'SWANID')\n",
    "\n",
    "SWAN_full.head"
   ]
  },
  {
   "cell_type": "code",
   "execution_count": 20,
   "metadata": {},
   "outputs": [],
   "source": [
    "# Subset the columns from the NHANES data sets\n",
    "NHANES_demo_analytic = column_select(NHANES_demographics, ['SEQN', 'WTINT2YR', \n",
    "                                                          'RIDAGEYR', 'RIAGENDR',\n",
    "                                                          'RIDRETH1',\n",
    "                                                          'DMDEDUC2'])\n",
    "NHANES_osteo_analytic = column_select(NHANES_osteoporosis, ['SEQN', 'OSQ060',\n",
    "                                                           'OSQ010A', 'OSQ010B'])\n",
    "\n",
    "NHANES_health_analytic = column_select(NHANES_currenthealth, ['SEQN', 'HSQ493', 'HSQ496', 'HSD010'])\n",
    "\n",
    "NHANES_dep_analytic = column_select(NHANES_depression, ['SEQN', 'DPQ020'])"
   ]
  },
  {
   "cell_type": "code",
   "execution_count": 21,
   "metadata": {},
   "outputs": [],
   "source": [
    "# Create a function for NHANES joins, which rely on 'SEQN'\n",
    "def NHANES_join(df1, df2, method):\n",
    "    '''(dataframe, dataframe, string) -> dataframe\n",
    "    This function takes 2 dataframes from NHANES data and a merge method based on pd.merge and\n",
    "    creates a merged dataframe. This function assumes both dataframes include the SEQN variable used\n",
    "    as a unique identifier in NHANES.\n",
    "    '''\n",
    "    merged = df1.merge(df2, how = method, left_on = 'SEQN', right_on = 'SEQN')\n",
    "    \n",
    "    return merged"
   ]
  },
  {
   "cell_type": "code",
   "execution_count": 23,
   "metadata": {},
   "outputs": [],
   "source": [
    "# Use the NHANES-join function to sequentially join dataframes and create the full analytic dataset\n",
    "NHANES_demo_osteo = NHANES_join(NHANES_demo_analytic, NHANES_osteo_analytic, 'left')\n",
    "NHANES_do_health = NHANES_join(NHANES_demo_osteo, NHANES_health_analytic, 'left')\n",
    "NHANES_full = NHANES_join(NHANES_do_health, NHANES_dep_analytic, 'left')"
   ]
  },
  {
   "cell_type": "code",
   "execution_count": 24,
   "metadata": {},
   "outputs": [
    {
     "data": {
      "text/plain": [
       "<bound method NDFrame.head of           SEQN      WTINT2YR  RIDAGEYR  RIAGENDR  RIDRETH1  DMDEDUC2  OSQ060  \\\n",
       "0      41475.0  59356.356426      62.0       2.0       5.0       3.0     2.0   \n",
       "1      41476.0  35057.218405       6.0       2.0       5.0       NaN     NaN   \n",
       "2      41477.0   9935.266183      71.0       1.0       3.0       3.0     2.0   \n",
       "3      41478.0  12846.712058       1.0       2.0       3.0       NaN     NaN   \n",
       "4      41479.0   8727.797555      52.0       1.0       1.0       1.0     2.0   \n",
       "...        ...           ...       ...       ...       ...       ...     ...   \n",
       "10144  51619.0   5197.083889      61.0       1.0       1.0       1.0     2.0   \n",
       "10145  51620.0  27909.120820      50.0       2.0       3.0       2.0     2.0   \n",
       "10146  51621.0  11057.659484      17.0       1.0       2.0       NaN     NaN   \n",
       "10147  51622.0   9842.672903      60.0       2.0       4.0       1.0     2.0   \n",
       "10148  51623.0  24692.989537      72.0       1.0       3.0       1.0     2.0   \n",
       "\n",
       "       OSQ010A  OSQ010B        HSQ493        HSQ496  HSD010        DPQ020  \n",
       "0          2.0      2.0  7.000000e+00  1.000000e+01     3.0  5.397605e-79  \n",
       "1          NaN      NaN           NaN           NaN     NaN           NaN  \n",
       "2          2.0      2.0  5.397605e-79  5.397605e-79     3.0  5.397605e-79  \n",
       "3          NaN      NaN           NaN           NaN     NaN           NaN  \n",
       "4          2.0      2.0  5.397605e-79  5.397605e-79     4.0  5.397605e-79  \n",
       "...        ...      ...           ...           ...     ...           ...  \n",
       "10144      2.0      2.0  5.397605e-79  5.397605e-79     4.0  5.397605e-79  \n",
       "10145      2.0      2.0  5.397605e-79  7.000000e+00     2.0  5.397605e-79  \n",
       "10146      NaN      NaN  5.397605e-79  5.397605e-79     3.0           NaN  \n",
       "10147      2.0      2.0  5.397605e-79  5.397605e-79     2.0  5.397605e-79  \n",
       "10148      2.0      2.0  5.397605e-79  2.000000e+00     5.0  5.397605e-79  \n",
       "\n",
       "[10149 rows x 13 columns]>"
      ]
     },
     "execution_count": 24,
     "metadata": {},
     "output_type": "execute_result"
    }
   ],
   "source": [
    "# View the merged data set\n",
    "NHANES_full.head"
   ]
  },
  {
   "cell_type": "code",
   "execution_count": 30,
   "metadata": {},
   "outputs": [
    {
     "ename": "AttributeError",
     "evalue": "'function' object has no attribute 'value_counts'",
     "output_type": "error",
     "traceback": [
      "\u001b[0;31m---------------------------------------------------------------------------\u001b[0m",
      "\u001b[0;31mAttributeError\u001b[0m                            Traceback (most recent call last)",
      "\u001b[0;32m<ipython-input-30-fc0c7ed564bb>\u001b[0m in \u001b[0;36m<module>\u001b[0;34m\u001b[0m\n\u001b[0;32m----> 1\u001b[0;31m \u001b[0mNHANES_full\u001b[0m\u001b[0;34m[\u001b[0m\u001b[0;34m'RIDAGEYR'\u001b[0m\u001b[0;34m]\u001b[0m\u001b[0;34m.\u001b[0m\u001b[0mastype\u001b[0m\u001b[0;34m(\u001b[0m\u001b[0;34m'int64'\u001b[0m\u001b[0;34m)\u001b[0m\u001b[0;34m.\u001b[0m\u001b[0mvalue_counts\u001b[0m\u001b[0;34m.\u001b[0m\u001b[0mvalue_counts\u001b[0m\u001b[0;34m\u001b[0m\u001b[0;34m\u001b[0m\u001b[0m\n\u001b[0m",
      "\u001b[0;31mAttributeError\u001b[0m: 'function' object has no attribute 'value_counts'"
     ]
    }
   ],
   "source": []
  },
  {
   "cell_type": "markdown",
   "metadata": {},
   "source": [
    "### References\n",
    "Centers for Disease Control and Prevention (CDC). National Center for Health Statistics (NCHS). National Health and Nutrition Examination Survey Data. Hyattsville, MD: U.S. Department of Health and Human Services, Centers for Disease Control and Prevention, 2007-2008, https://wwwn.cdc.gov/nchs/nhanes/continuousnhanes/default.aspx?BeginYear=2007.\n",
    "\n",
    "Sutton-Tyrrell, Kim, Selzer, Faith, Sowers, MaryFran, Finkelstein, Joel, Powell, Lynda, Gold, Ellen, … Brooks, Maria Mori. Study of Women’s Health Across the Nation (SWAN), 2006-2008: Visit 10 Dataset. Ann Arbor, MI: Inter-university Consortium for Political and Social Research [distributor], 2018-11-15. https://doi.org/10.3886/ICPSR32961.v2"
   ]
  },
  {
   "cell_type": "code",
   "execution_count": null,
   "metadata": {},
   "outputs": [],
   "source": []
  }
 ],
 "metadata": {
  "kernelspec": {
   "display_name": "Python 3",
   "language": "python",
   "name": "python3"
  },
  "language_info": {
   "codemirror_mode": {
    "name": "ipython",
    "version": 3
   },
   "file_extension": ".py",
   "mimetype": "text/x-python",
   "name": "python",
   "nbconvert_exporter": "python",
   "pygments_lexer": "ipython3",
   "version": "3.6.7"
  }
 },
 "nbformat": 4,
 "nbformat_minor": 4
}
