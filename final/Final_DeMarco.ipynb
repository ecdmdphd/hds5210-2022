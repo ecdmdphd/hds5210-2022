{
 "cells": [
  {
   "cell_type": "markdown",
   "metadata": {},
   "source": [
    "# HDS 5210 Final Project: Osteoporosis in Multiple Data Sets\n",
    "### Elisabeth C. DeMarco\n",
    "\n",
    "This project examines data about osteoporosis in women in the United States using 2 data sources: the National Health and Nutrition Examination Survey (NHANES) and the Study of Women's Health Across the Nation (SWAN). While NHANES is continuously run, SWAN was most recently conducted between 2006-2008. Thus, the present project focuses on NHANES 2007-2008 and 2006-2008 data. \n",
    "\n",
    "All data/documentation can be found at the following links: \n",
    "* NHANES:\n",
    "    * Demographics:\n",
    "        * Documentation: https://wwwn.cdc.gov/Nchs/Nhanes/2007-2008/DEMO_E.htm\n",
    "        * Data: https://wwwn.cdc.gov/nchs/nhanes/search/datapage.aspx?Component=Demographics&CycleBeginYear=2007\n",
    "            * File name: `DEMO_E.XPT`\n",
    "    * Ostoporosis Questionnaire Module: \n",
    "        * Documentation: https://wwwn.cdc.gov/Nchs/Nhanes/2007-2008/OSQ_E.htm\n",
    "        * Data: https://wwwn.cdc.gov/nchs/nhanes/search/datapage.aspx?Component=Questionnaire&CycleBeginYear=2007\n",
    "             * File name: `OSQ_E.XPT`\n",
    "    * Current Health Status: \n",
    "        * Documentation: https://wwwn.cdc.gov/Nchs/Nhanes/2007-2008/HSQ_E.htm\n",
    "        * Data: https://wwwn.cdc.gov/nchs/nhanes/search/datapage.aspx?Component=Questionnaire&CycleBeginYear=2007\n",
    "            * File name: `HSQ_E.XPT`\n",
    "    * Mental Health - Depression Screener: \n",
    "        * Documentation: https://wwwn.cdc.gov/Nchs/Nhanes/2007-2008/DPQ_E.htm\n",
    "        * Data: https://wwwn.cdc.gov/nchs/nhanes/search/datapage.aspx?Component=Questionnaire&CycleBeginYear=2007\n",
    "            * File name: `DPQ_E.XPT`\n",
    "\n",
    "* SWAN:\n",
    "    * Study of Women's Health Across the Nation (SWAN) Cross-Sectional Screener Dataset, [United States], \n",
    "        1995-1997 (ICPSR 4368): https://www.icpsr.umich.edu/web/ICPSR/studies/4368/summary\n",
    "        * Codebook and data files are available for download at the same site\n",
    "            * File Name: '04368-0001-Data.tsv'\n",
    "    * Study of Women's Health Across the Nation (SWAN) 2006-2008: https://www.icpsr.umich.edu/web/ICPSR/studies/32961\n",
    "        * Codebook and data file are available for download at the same site\n",
    "            * File Name: '32961-0001-Data.tsv'\n",
    "\n",
    "Files were saved to the `/final` directory for ease of access.  "
   ]
  },
  {
   "cell_type": "markdown",
   "metadata": {},
   "source": [
    "## Study Objectives\n",
    "I will be working with a medical student for her 2022 Summer Research Fellowship to examine associations between osteoporosis and mental health, with a particular focus on mental health treatment and gender disparities. We plan to use secondary data from the National Health and Nutrition Examination Survey (NHANES), a nationally representative survey comprised of in-home questionnaires and physical examinations administered at a mobile site. We will examine a subset of individuals with osteoporosis for mental health outcomes and treatment. In particular, we will use the data on osteoporosis outcomes (such as broken bones and diagnosis), general impression of mental health, and PHQ-9 scores (a commonly used screening tool for depression). Treatment data could be gathered from reports of prescription medication and mental health encounters in other modules of NHANES not included above. The larger project will include NHANES data from multiple years, using those years in which NHANES collected data on osteoporosis.\n",
    "\n",
    "As no one dataset contains all the information one typically needs, cross-comparison between two similar data sources is often required. The current project will focus on proor-of-concept, data management, and exploratory analysis. In addition, I will compare data from NHANES with SWAN to determine whether NHANES gathers comparable information to SWAN, a longitudinal in-person study. From the current project, I will identify variables that could be harmonized and compared between the two data sources. This cross-sectional analysis will be the first step towards future comparisons between these two data sets, including later longitudinal study. This will be particularly useful as SWAN stopped collecting data in 2008, while NHANES continues to collect data. If the conclusions drawn from both studies are similar regarding women's mental health and osteoporosis outcomes, NHANES would be a good candidate data source to continue to monitor national trends in these areas. If these conclusions are different, the necessity of longitudinal studies such as SWAN would be underscored."
   ]
  },
  {
   "cell_type": "markdown",
   "metadata": {},
   "source": [
    "## Variables of Interest\n",
    "\n",
    "The documentation for both datasets was examined and a final set of variables of interest collected. These are detailed in the `DeMarco_HDS5210Final_VariableFile.xlsx` file. Concepts of interest are summarized below:\n",
    "* Age\n",
    "* Sex\n",
    "* Race/Ethnicity\n",
    "* Education\n",
    "* Osteoporosis diagnosis\n",
    "* Broken bone\n",
    "* Fracture of wrist or hip\n",
    "* Pain interference with activities\n",
    "* Feeling nervous or anxious in last month\n",
    "* Felt depressed in last 2 weeks\n",
    "* Overall health"
   ]
  },
  {
   "cell_type": "markdown",
   "metadata": {},
   "source": [
    "## Creating the Analytic Data Set\n",
    "\n",
    "SWAN data for 2006-2008 is limited to \"Women age 51 through 63\" while NHANES samples a broader portion of the US population. To facilitate accurate comparisons, NHANES data was limited to women age 51 through 63. \n",
    "\n",
    "Although NHANES is designed for weighted analysis, the present analysis uses unweighted counts for initial comparisons, as SWAN data does not use any weighting or oversampling. Variables that could be harmonized were identified. Common names were assigned to these variables to create a single set. The SWAN and NHANES data were then concatenated to create a composite analytic data set."
   ]
  },
  {
   "cell_type": "code",
   "execution_count": 1,
   "metadata": {},
   "outputs": [
    {
     "name": "stderr",
     "output_type": "stream",
     "text": [
      "/opt/tljh/user/lib/python3.6/site-packages/IPython/core/interactiveshell.py:3051: DtypeWarning: Columns (2,3,4,5,6,7,8,9,10,11,12,13,14,15,16,17,18,19,20,21,22,23,24,25,26,27,28,29,30,31,32,33,34,35,36,37,38,39,40,41,46,47,48,49,50,51,52,53,56,57,58,59,60,61,62,63,64,65,66,67,68,69,70,71,72,73,74,75,84,86,87,90,91,94,95,96,97,98,99,100,101,102,103,104,105,106,107,108,109,110,111,112,113,114,115,116,117,118,119,120,121,122,123,477,478,482,483,484,485,486,490,491,492,495,504,506,507,515,522,523,525,530,535,536,537,538,563,567) have mixed types.Specify dtype option on import or set low_memory=False.\n",
      "  interactivity=interactivity, compiler=compiler, result=result)\n"
     ]
    }
   ],
   "source": [
    "# Import Packages and read in data\n",
    "import pandas as pd\n",
    "import numpy as np\n",
    "\n",
    "# Read in tsv file from SWAN data\n",
    "SWAN_2008 = pd.read_csv('32961-0001-Data.tsv', sep = '\\t')\n",
    "SWAN_demographics = pd.read_csv('04368-0001-Data.tsv', sep = '\\t')\n",
    "\n",
    "# Read in NHANES files\n",
    "NHANES_osteoporosis = pd.read_sas('OSQ_E.XPT')\n",
    "NHANES_demographics = pd.read_sas('DEMO_E.XPT')\n",
    "NHANES_currenthealth = pd.read_sas('HSQ_E.XPT')\n",
    "NHANES_depression = pd.read_sas('DPQ_E.XPT')"
   ]
  },
  {
   "cell_type": "code",
   "execution_count": 2,
   "metadata": {},
   "outputs": [],
   "source": [
    "# Create a function to subset columns given a list of variables\n",
    "def column_select (dataframe, l):\n",
    "    '''dataframe, list -> dataframe\n",
    "    This function takes two arguments, a dataframe and a list. It \n",
    "    returns a dataframe with only those columns matching the input\n",
    "    of the list provided. \n",
    "    '''\n",
    "    smalldata = dataframe[l]\n",
    "    return smalldata   "
   ]
  },
  {
   "cell_type": "code",
   "execution_count": 24,
   "metadata": {},
   "outputs": [],
   "source": [
    "# Pull the variables of interest from the SWAN 2008 file\n",
    "SWAN_2008_Analytic = column_select(SWAN_2008, ['SWANID', 'AGE10',\n",
    "                                              'OSTEOPR10', 'BROKEBO10',\n",
    "                                              'BONES110',\n",
    "                                              'PAINTRF10', 'NERV4WK10',\n",
    "                                              'DEPRESS10', 'OVERHLT10'])\n",
    "\n",
    "# Pull the variables of interest from the SWAN crosssectional file\n",
    "SWAN_demo_Analytic = column_select(SWAN_demographics, ['SWANID', 'RACE', 'DEGREE'])"
   ]
  },
  {
   "cell_type": "code",
   "execution_count": 25,
   "metadata": {},
   "outputs": [
    {
     "data": {
      "text/plain": [
       "<bound method NDFrame.head of       SWANID AGE10 OSTEOPR10 BROKEBO10 BONES110 PAINTRF10 NERV4WK10 DEPRESS10  \\\n",
       "0      10046    62         1         0                  1         6         1   \n",
       "1      10056    61         1         0                  1         6         1   \n",
       "2      10153    61         1         0                  1         6         1   \n",
       "3      10196    56         1         0                  1         4         1   \n",
       "4      10245    57         1         0                  1         5         2   \n",
       "...      ...   ...       ...       ...      ...       ...       ...       ...   \n",
       "2240   99805    52         1         0                  1         6         1   \n",
       "2241   99809    53         1         0                  1         4         2   \n",
       "2242   99888    58         1         0                  4         3         4   \n",
       "2243   99898    55         1         0                  1         6         2   \n",
       "2244   99962    57         1         0                  1         5         1   \n",
       "\n",
       "     OVERHLT10  \n",
       "0            1  \n",
       "1            2  \n",
       "2            3  \n",
       "3            3  \n",
       "4            2  \n",
       "...        ...  \n",
       "2240         3  \n",
       "2241         1  \n",
       "2242         5  \n",
       "2243         3  \n",
       "2244         1  \n",
       "\n",
       "[2245 rows x 9 columns]>"
      ]
     },
     "execution_count": 25,
     "metadata": {},
     "output_type": "execute_result"
    }
   ],
   "source": [
    "SWAN_2008_Analytic.head"
   ]
  },
  {
   "cell_type": "code",
   "execution_count": 26,
   "metadata": {},
   "outputs": [
    {
     "data": {
      "text/plain": [
       "<bound method NDFrame.head of       SWANID AGE10 OSTEOPR10 BROKEBO10 BONES110 PAINTRF10 NERV4WK10 DEPRESS10  \\\n",
       "0      10046    62         1         0                  1         6         1   \n",
       "1      10056    61         1         0                  1         6         1   \n",
       "2      10153    61         1         0                  1         6         1   \n",
       "3      10196    56         1         0                  1         4         1   \n",
       "4      10245    57         1         0                  1         5         2   \n",
       "...      ...   ...       ...       ...      ...       ...       ...       ...   \n",
       "2240   99805    52         1         0                  1         6         1   \n",
       "2241   99809    53         1         0                  1         4         2   \n",
       "2242   99888    58         1         0                  4         3         4   \n",
       "2243   99898    55         1         0                  1         6         2   \n",
       "2244   99962    57         1         0                  1         5         1   \n",
       "\n",
       "     OVERHLT10 RACE DEGREE  \n",
       "0            1    2      2  \n",
       "1            2    4      3  \n",
       "2            3    3      2  \n",
       "3            3    2      5  \n",
       "4            2    4      2  \n",
       "...        ...  ...    ...  \n",
       "2240         3    1      4  \n",
       "2241         1    4      4  \n",
       "2242         5    3      3  \n",
       "2243         3    4      5  \n",
       "2244         1    2      4  \n",
       "\n",
       "[2245 rows x 11 columns]>"
      ]
     },
     "execution_count": 26,
     "metadata": {},
     "output_type": "execute_result"
    }
   ],
   "source": [
    "# Use a left-join on SWANID to create an overall SWAN2008 analytic dataset\n",
    "SWAN_full = SWAN_2008_Analytic.merge(SWAN_demo_Analytic, how = 'left', left_on = 'SWANID', right_on = 'SWANID')\n",
    "\n",
    "SWAN_full.head"
   ]
  },
  {
   "cell_type": "code",
   "execution_count": 27,
   "metadata": {},
   "outputs": [],
   "source": [
    "# Missing values in the SWAN data are denoted with '-7', '-8', '-9' and are replaced with NaN\n",
    "SWAN_analytic = SWAN_full.replace(['-7', '-8', '-9', ' '], np.nan)"
   ]
  },
  {
   "cell_type": "code",
   "execution_count": 28,
   "metadata": {},
   "outputs": [
    {
     "data": {
      "text/plain": [
       "1    1452\n",
       "2     442\n",
       "3     144\n",
       "4      52\n",
       "Name: DEPRESS10, dtype: int64"
      ]
     },
     "execution_count": 28,
     "metadata": {},
     "output_type": "execute_result"
    }
   ],
   "source": [
    "# Review that missing data has been appropriately removed\n",
    "SWAN_analytic['DEPRESS10'].value_counts()"
   ]
  },
  {
   "cell_type": "code",
   "execution_count": 38,
   "metadata": {},
   "outputs": [
    {
     "data": {
      "text/html": [
       "<div>\n",
       "<style scoped>\n",
       "    .dataframe tbody tr th:only-of-type {\n",
       "        vertical-align: middle;\n",
       "    }\n",
       "\n",
       "    .dataframe tbody tr th {\n",
       "        vertical-align: top;\n",
       "    }\n",
       "\n",
       "    .dataframe thead th {\n",
       "        text-align: right;\n",
       "    }\n",
       "</style>\n",
       "<table border=\"1\" class=\"dataframe\">\n",
       "  <thead>\n",
       "    <tr style=\"text-align: right;\">\n",
       "      <th></th>\n",
       "      <th>SWANID</th>\n",
       "      <th>AGE10</th>\n",
       "      <th>OSTEOPR10</th>\n",
       "      <th>BROKEBO10</th>\n",
       "      <th>BONES110</th>\n",
       "      <th>PAINTRF10</th>\n",
       "      <th>NERV4WK10</th>\n",
       "      <th>DEPRESS10</th>\n",
       "      <th>OVERHLT10</th>\n",
       "      <th>RACE</th>\n",
       "      <th>DEGREE</th>\n",
       "    </tr>\n",
       "  </thead>\n",
       "  <tbody>\n",
       "    <tr>\n",
       "      <th>0</th>\n",
       "      <td>10046</td>\n",
       "      <td>62</td>\n",
       "      <td>1</td>\n",
       "      <td>0</td>\n",
       "      <td>NaN</td>\n",
       "      <td>1</td>\n",
       "      <td>6</td>\n",
       "      <td>1</td>\n",
       "      <td>1</td>\n",
       "      <td>2</td>\n",
       "      <td>2</td>\n",
       "    </tr>\n",
       "    <tr>\n",
       "      <th>1</th>\n",
       "      <td>10056</td>\n",
       "      <td>61</td>\n",
       "      <td>1</td>\n",
       "      <td>0</td>\n",
       "      <td>NaN</td>\n",
       "      <td>1</td>\n",
       "      <td>6</td>\n",
       "      <td>1</td>\n",
       "      <td>2</td>\n",
       "      <td>4</td>\n",
       "      <td>3</td>\n",
       "    </tr>\n",
       "    <tr>\n",
       "      <th>2</th>\n",
       "      <td>10153</td>\n",
       "      <td>61</td>\n",
       "      <td>1</td>\n",
       "      <td>0</td>\n",
       "      <td>NaN</td>\n",
       "      <td>1</td>\n",
       "      <td>6</td>\n",
       "      <td>1</td>\n",
       "      <td>3</td>\n",
       "      <td>3</td>\n",
       "      <td>2</td>\n",
       "    </tr>\n",
       "    <tr>\n",
       "      <th>3</th>\n",
       "      <td>10196</td>\n",
       "      <td>56</td>\n",
       "      <td>1</td>\n",
       "      <td>0</td>\n",
       "      <td>NaN</td>\n",
       "      <td>1</td>\n",
       "      <td>4</td>\n",
       "      <td>1</td>\n",
       "      <td>3</td>\n",
       "      <td>2</td>\n",
       "      <td>5</td>\n",
       "    </tr>\n",
       "    <tr>\n",
       "      <th>4</th>\n",
       "      <td>10245</td>\n",
       "      <td>57</td>\n",
       "      <td>1</td>\n",
       "      <td>0</td>\n",
       "      <td>NaN</td>\n",
       "      <td>1</td>\n",
       "      <td>5</td>\n",
       "      <td>2</td>\n",
       "      <td>2</td>\n",
       "      <td>4</td>\n",
       "      <td>2</td>\n",
       "    </tr>\n",
       "    <tr>\n",
       "      <th>...</th>\n",
       "      <td>...</td>\n",
       "      <td>...</td>\n",
       "      <td>...</td>\n",
       "      <td>...</td>\n",
       "      <td>...</td>\n",
       "      <td>...</td>\n",
       "      <td>...</td>\n",
       "      <td>...</td>\n",
       "      <td>...</td>\n",
       "      <td>...</td>\n",
       "      <td>...</td>\n",
       "    </tr>\n",
       "    <tr>\n",
       "      <th>2240</th>\n",
       "      <td>99805</td>\n",
       "      <td>52</td>\n",
       "      <td>1</td>\n",
       "      <td>0</td>\n",
       "      <td>NaN</td>\n",
       "      <td>1</td>\n",
       "      <td>6</td>\n",
       "      <td>1</td>\n",
       "      <td>3</td>\n",
       "      <td>1</td>\n",
       "      <td>4</td>\n",
       "    </tr>\n",
       "    <tr>\n",
       "      <th>2241</th>\n",
       "      <td>99809</td>\n",
       "      <td>53</td>\n",
       "      <td>1</td>\n",
       "      <td>0</td>\n",
       "      <td>NaN</td>\n",
       "      <td>1</td>\n",
       "      <td>4</td>\n",
       "      <td>2</td>\n",
       "      <td>1</td>\n",
       "      <td>4</td>\n",
       "      <td>4</td>\n",
       "    </tr>\n",
       "    <tr>\n",
       "      <th>2242</th>\n",
       "      <td>99888</td>\n",
       "      <td>58</td>\n",
       "      <td>1</td>\n",
       "      <td>0</td>\n",
       "      <td>NaN</td>\n",
       "      <td>4</td>\n",
       "      <td>3</td>\n",
       "      <td>4</td>\n",
       "      <td>5</td>\n",
       "      <td>3</td>\n",
       "      <td>3</td>\n",
       "    </tr>\n",
       "    <tr>\n",
       "      <th>2243</th>\n",
       "      <td>99898</td>\n",
       "      <td>55</td>\n",
       "      <td>1</td>\n",
       "      <td>0</td>\n",
       "      <td>NaN</td>\n",
       "      <td>1</td>\n",
       "      <td>6</td>\n",
       "      <td>2</td>\n",
       "      <td>3</td>\n",
       "      <td>4</td>\n",
       "      <td>5</td>\n",
       "    </tr>\n",
       "    <tr>\n",
       "      <th>2244</th>\n",
       "      <td>99962</td>\n",
       "      <td>57</td>\n",
       "      <td>1</td>\n",
       "      <td>0</td>\n",
       "      <td>NaN</td>\n",
       "      <td>1</td>\n",
       "      <td>5</td>\n",
       "      <td>1</td>\n",
       "      <td>1</td>\n",
       "      <td>2</td>\n",
       "      <td>4</td>\n",
       "    </tr>\n",
       "  </tbody>\n",
       "</table>\n",
       "<p>2245 rows × 11 columns</p>\n",
       "</div>"
      ],
      "text/plain": [
       "      SWANID AGE10 OSTEOPR10 BROKEBO10 BONES110 PAINTRF10 NERV4WK10 DEPRESS10  \\\n",
       "0      10046    62         1         0      NaN         1         6         1   \n",
       "1      10056    61         1         0      NaN         1         6         1   \n",
       "2      10153    61         1         0      NaN         1         6         1   \n",
       "3      10196    56         1         0      NaN         1         4         1   \n",
       "4      10245    57         1         0      NaN         1         5         2   \n",
       "...      ...   ...       ...       ...      ...       ...       ...       ...   \n",
       "2240   99805    52         1         0      NaN         1         6         1   \n",
       "2241   99809    53         1         0      NaN         1         4         2   \n",
       "2242   99888    58         1         0      NaN         4         3         4   \n",
       "2243   99898    55         1         0      NaN         1         6         2   \n",
       "2244   99962    57         1         0      NaN         1         5         1   \n",
       "\n",
       "     OVERHLT10 RACE DEGREE  \n",
       "0            1    2      2  \n",
       "1            2    4      3  \n",
       "2            3    3      2  \n",
       "3            3    2      5  \n",
       "4            2    4      2  \n",
       "...        ...  ...    ...  \n",
       "2240         3    1      4  \n",
       "2241         1    4      4  \n",
       "2242         5    3      3  \n",
       "2243         3    4      5  \n",
       "2244         1    2      4  \n",
       "\n",
       "[2245 rows x 11 columns]"
      ]
     },
     "execution_count": 38,
     "metadata": {},
     "output_type": "execute_result"
    }
   ],
   "source": [
    "SWAN_analytic"
   ]
  },
  {
   "cell_type": "code",
   "execution_count": 8,
   "metadata": {},
   "outputs": [],
   "source": [
    "# Subset the columns from the NHANES data sets\n",
    "NHANES_demo_analytic = column_select(NHANES_demographics, ['SEQN', 'WTINT2YR', \n",
    "                                                          'RIDAGEYR', 'RIAGENDR',\n",
    "                                                          'RIDRETH1',\n",
    "                                                          'DMDEDUC2'])\n",
    "NHANES_osteo_analytic = column_select(NHANES_osteoporosis, ['SEQN', 'OSQ060',\n",
    "                                                           'OSQ010A', 'OSQ010B'])\n",
    "\n",
    "NHANES_health_analytic = column_select(NHANES_currenthealth, ['SEQN', 'HSQ493', 'HSQ496', 'HSD010'])\n",
    "\n",
    "NHANES_dep_analytic = column_select(NHANES_depression, ['SEQN', 'DPQ020'])"
   ]
  },
  {
   "cell_type": "code",
   "execution_count": 9,
   "metadata": {},
   "outputs": [],
   "source": [
    "# Create a function for NHANES joins, which rely on 'SEQN'\n",
    "def NHANES_join(df1, df2, method):\n",
    "    '''(dataframe, dataframe, string) -> dataframe\n",
    "    This function takes 2 dataframes from NHANES data and a merge method based on pd.merge and\n",
    "    creates a merged dataframe. This function assumes both dataframes include the SEQN variable used\n",
    "    as a unique identifier in NHANES.\n",
    "    '''\n",
    "    merged = df1.merge(df2, how = method, left_on = 'SEQN', right_on = 'SEQN')\n",
    "    \n",
    "    return merged"
   ]
  },
  {
   "cell_type": "code",
   "execution_count": 10,
   "metadata": {},
   "outputs": [],
   "source": [
    "# Use the NHANES-join function to sequentially join dataframes and create the full analytic dataset\n",
    "NHANES_demo_osteo = NHANES_join(NHANES_demo_analytic, NHANES_osteo_analytic, 'left')\n",
    "NHANES_do_health = NHANES_join(NHANES_demo_osteo, NHANES_health_analytic, 'left')\n",
    "NHANES_full = NHANES_join(NHANES_do_health, NHANES_dep_analytic, 'left')"
   ]
  },
  {
   "cell_type": "code",
   "execution_count": 11,
   "metadata": {},
   "outputs": [
    {
     "data": {
      "text/plain": [
       "<bound method NDFrame.head of           SEQN      WTINT2YR  RIDAGEYR  RIAGENDR  RIDRETH1  DMDEDUC2  OSQ060  \\\n",
       "0      41475.0  59356.356426      62.0       2.0       5.0       3.0     2.0   \n",
       "1      41476.0  35057.218405       6.0       2.0       5.0       NaN     NaN   \n",
       "2      41477.0   9935.266183      71.0       1.0       3.0       3.0     2.0   \n",
       "3      41478.0  12846.712058       1.0       2.0       3.0       NaN     NaN   \n",
       "4      41479.0   8727.797555      52.0       1.0       1.0       1.0     2.0   \n",
       "...        ...           ...       ...       ...       ...       ...     ...   \n",
       "10144  51619.0   5197.083889      61.0       1.0       1.0       1.0     2.0   \n",
       "10145  51620.0  27909.120820      50.0       2.0       3.0       2.0     2.0   \n",
       "10146  51621.0  11057.659484      17.0       1.0       2.0       NaN     NaN   \n",
       "10147  51622.0   9842.672903      60.0       2.0       4.0       1.0     2.0   \n",
       "10148  51623.0  24692.989537      72.0       1.0       3.0       1.0     2.0   \n",
       "\n",
       "       OSQ010A  OSQ010B        HSQ493        HSQ496  HSD010        DPQ020  \n",
       "0          2.0      2.0  7.000000e+00  1.000000e+01     3.0  5.397605e-79  \n",
       "1          NaN      NaN           NaN           NaN     NaN           NaN  \n",
       "2          2.0      2.0  5.397605e-79  5.397605e-79     3.0  5.397605e-79  \n",
       "3          NaN      NaN           NaN           NaN     NaN           NaN  \n",
       "4          2.0      2.0  5.397605e-79  5.397605e-79     4.0  5.397605e-79  \n",
       "...        ...      ...           ...           ...     ...           ...  \n",
       "10144      2.0      2.0  5.397605e-79  5.397605e-79     4.0  5.397605e-79  \n",
       "10145      2.0      2.0  5.397605e-79  7.000000e+00     2.0  5.397605e-79  \n",
       "10146      NaN      NaN  5.397605e-79  5.397605e-79     3.0           NaN  \n",
       "10147      2.0      2.0  5.397605e-79  5.397605e-79     2.0  5.397605e-79  \n",
       "10148      2.0      2.0  5.397605e-79  2.000000e+00     5.0  5.397605e-79  \n",
       "\n",
       "[10149 rows x 13 columns]>"
      ]
     },
     "execution_count": 11,
     "metadata": {},
     "output_type": "execute_result"
    }
   ],
   "source": [
    "# View the merged data set\n",
    "NHANES_full.head"
   ]
  },
  {
   "cell_type": "code",
   "execution_count": 12,
   "metadata": {},
   "outputs": [],
   "source": [
    "# To correct the data types of HSQ493, HSQ496, and DPQ020, '77' was chosen to fill NaN\n",
    "NHANES_full = NHANES_full.fillna(77)"
   ]
  },
  {
   "cell_type": "code",
   "execution_count": 46,
   "metadata": {},
   "outputs": [
    {
     "data": {
      "text/plain": [
       "<bound method NDFrame.head of         SEQN  RIDAGEYR  RIAGENDR  RIDRETH1  DMDEDUC2  OSQ060  OSQ010A  \\\n",
       "0      41475        62         2         5         3       2        2   \n",
       "1      41476         6         2         5        77      77       77   \n",
       "2      41477        71         1         3         3       2        2   \n",
       "3      41478         1         2         3        77      77       77   \n",
       "4      41479        52         1         1         1       2        2   \n",
       "...      ...       ...       ...       ...       ...     ...      ...   \n",
       "10144  51619        61         1         1         1       2        2   \n",
       "10145  51620        50         2         3         2       2        2   \n",
       "10146  51621        17         1         2        77      77       77   \n",
       "10147  51622        60         2         4         1       2        2   \n",
       "10148  51623        72         1         3         1       2        2   \n",
       "\n",
       "       OSQ010B  HSQ493  HSQ496  HSD010  DPQ020  \n",
       "0            2       7      10       3       0  \n",
       "1           77      77      77      77      77  \n",
       "2            2       0       0       3       0  \n",
       "3           77      77      77      77      77  \n",
       "4            2       0       0       4       0  \n",
       "...        ...     ...     ...     ...     ...  \n",
       "10144        2       0       0       4       0  \n",
       "10145        2       0       7       2       0  \n",
       "10146       77       0       0       3      77  \n",
       "10147        2       0       0       2       0  \n",
       "10148        2       0       2       5       0  \n",
       "\n",
       "[10149 rows x 12 columns]>"
      ]
     },
     "execution_count": 46,
     "metadata": {},
     "output_type": "execute_result"
    }
   ],
   "source": [
    "# All columns except weighting changed to integer type\n",
    "NHANES_analytic = NHANES_full[['SEQN', 'RIDAGEYR', 'RIAGENDR', 'RIDRETH1', 'DMDEDUC2', 'OSQ060',\n",
    "                            'OSQ010A', 'OSQ010B', 'HSQ493', 'HSQ496', 'HSD010', 'DPQ020']].astype('int64')\n",
    "\n",
    "NHANES_analytic.head"
   ]
  },
  {
   "cell_type": "code",
   "execution_count": 47,
   "metadata": {},
   "outputs": [],
   "source": [
    "# Replace missing values for the NHANES data set (77, 99)\n",
    "NHANES_analytic = NHANES_analytic.replace([77, 99, ' '], np.nan)"
   ]
  },
  {
   "cell_type": "code",
   "execution_count": 48,
   "metadata": {},
   "outputs": [
    {
     "data": {
      "text/plain": [
       "<bound method NDFrame.head of         SEQN  RIDAGEYR  RIAGENDR  RIDRETH1  DMDEDUC2  OSQ060  OSQ010A  \\\n",
       "0      41475      62.0         2         5       3.0     2.0      2.0   \n",
       "1      41476       6.0         2         5       NaN     NaN      NaN   \n",
       "2      41477      71.0         1         3       3.0     2.0      2.0   \n",
       "3      41478       1.0         2         3       NaN     NaN      NaN   \n",
       "4      41479      52.0         1         1       1.0     2.0      2.0   \n",
       "...      ...       ...       ...       ...       ...     ...      ...   \n",
       "10144  51619      61.0         1         1       1.0     2.0      2.0   \n",
       "10145  51620      50.0         2         3       2.0     2.0      2.0   \n",
       "10146  51621      17.0         1         2       NaN     NaN      NaN   \n",
       "10147  51622      60.0         2         4       1.0     2.0      2.0   \n",
       "10148  51623      72.0         1         3       1.0     2.0      2.0   \n",
       "\n",
       "       OSQ010B  HSQ493  HSQ496  HSD010  DPQ020  \n",
       "0          2.0     7.0    10.0     3.0     0.0  \n",
       "1          NaN     NaN     NaN     NaN     NaN  \n",
       "2          2.0     0.0     0.0     3.0     0.0  \n",
       "3          NaN     NaN     NaN     NaN     NaN  \n",
       "4          2.0     0.0     0.0     4.0     0.0  \n",
       "...        ...     ...     ...     ...     ...  \n",
       "10144      2.0     0.0     0.0     4.0     0.0  \n",
       "10145      2.0     0.0     7.0     2.0     0.0  \n",
       "10146      NaN     0.0     0.0     3.0     NaN  \n",
       "10147      2.0     0.0     0.0     2.0     0.0  \n",
       "10148      2.0     0.0     2.0     5.0     0.0  \n",
       "\n",
       "[10149 rows x 12 columns]>"
      ]
     },
     "execution_count": 48,
     "metadata": {},
     "output_type": "execute_result"
    }
   ],
   "source": [
    "NHANES_analytic.head"
   ]
  },
  {
   "cell_type": "code",
   "execution_count": 58,
   "metadata": {},
   "outputs": [
    {
     "data": {
      "text/plain": [
       "(659, 12)"
      ]
     },
     "execution_count": 58,
     "metadata": {},
     "output_type": "execute_result"
    }
   ],
   "source": [
    "# To facilitate comparison betweeen SWAN and NHANES data, NHANES data limited to women age 51 - 63\n",
    "ageFilter = (NHANES_analytic['RIDAGEYR'] >= 51.0) & (NHANES_analytic['RIDAGEYR'] <= 63.0)\n",
    "genderFilter = NHANES_analytic['RIAGENDR'] == 2.0\n",
    "finalFilter = ageFilter & genderFilter\n",
    "\n",
    "NHANES_filtered = NHANES_analytic[finalFilter]\n",
    "NHANES_filtered.shape"
   ]
  },
  {
   "cell_type": "code",
   "execution_count": 29,
   "metadata": {},
   "outputs": [
    {
     "data": {
      "text/plain": [
       "RIGHT FOOT                        4\n",
       "LEFT RIBS                         3\n",
       "LEFT PINKY TOE                    3\n",
       "LEFT WRIST                        3\n",
       "LEFT ELBOW                        3\n",
       "RIGHT ANKLE                       2\n",
       "BOTH FEET                         1\n",
       "LEFT METATARSAL BONE              1\n",
       "5TH METATARSEL IN RT FOOT         1\n",
       "LEFT ULNA                         1\n",
       "LEFT ULNA & RADIUS                1\n",
       "LEFT HAND NEAR WRIST              1\n",
       "NOSE                              1\n",
       "LEFT SMALL TOE                    1\n",
       "LEFT FOOT                         1\n",
       "RIGHT SHOULDER                    1\n",
       "LEFT MIDDLE TOE                   1\n",
       "RIBS BOTH SIDES                   1\n",
       "RIGHT FOURTH TOE                  1\n",
       "RIGHT TOE                         1\n",
       "RIGHT GREAT TOE                   1\n",
       "LT PINKY TOE, LT 5TH DIGIT        1\n",
       "RIGHT WRIST                       1\n",
       "RIGHT 3RD TOE                     1\n",
       "RIGHT HIP                         1\n",
       "RIGHT THUMB                       1\n",
       "LEFT TOE                          1\n",
       "LEFT HAND 1ST & 2ND FINGER        1\n",
       "RIGHT BIG TOE                     1\n",
       "RIGHT FOOT ARCH BONE              1\n",
       "LEFT BIG TOE                      1\n",
       "RIGHT ELBOW                       1\n",
       "LEFT ANKLE                        1\n",
       "RIGHT FOOT, METATARSAL            1\n",
       "BIG TOE RT FOOT                   1\n",
       "BABY TOE LT FOOT 5TH DIGIT        1\n",
       "RIGHT ANKLE - DOUBLE FRACTURE     1\n",
       "LEFT 2ND TOE FROM THE BIG TOE.    1\n",
       "BOTH WRISTS                       1\n",
       "Name: BONES110, dtype: int64"
      ]
     },
     "execution_count": 29,
     "metadata": {},
     "output_type": "execute_result"
    }
   ],
   "source": [
    "# Create variables in SWAN data for hip fracture and wrist fracture to harmonize with NHANES\n",
    "# View the unique values\n",
    "SWAN_analytic['BONES110'].value_counts()"
   ]
  },
  {
   "cell_type": "code",
   "execution_count": 21,
   "metadata": {},
   "outputs": [
    {
     "ename": "AttributeError",
     "evalue": "'float' object has no attribute 'lower'",
     "output_type": "error",
     "traceback": [
      "\u001b[0;31m---------------------------------------------------------------------------\u001b[0m",
      "\u001b[0;31mAttributeError\u001b[0m                            Traceback (most recent call last)",
      "\u001b[0;32m<ipython-input-21-9e616ed5b6bb>\u001b[0m in \u001b[0;36m<module>\u001b[0;34m\u001b[0m\n\u001b[1;32m      1\u001b[0m \u001b[0;31m# Create a new column for wrist fracture\u001b[0m\u001b[0;34m\u001b[0m\u001b[0;34m\u001b[0m\u001b[0;34m\u001b[0m\u001b[0m\n\u001b[0;32m----> 2\u001b[0;31m \u001b[0mSWAN_analytic\u001b[0m\u001b[0;34m[\u001b[0m\u001b[0;34m'WristFrac'\u001b[0m\u001b[0;34m]\u001b[0m \u001b[0;34m=\u001b[0m \u001b[0;34m[\u001b[0m\u001b[0;36m1\u001b[0m \u001b[0;32mif\u001b[0m \u001b[0;34m(\u001b[0m\u001b[0mbone\u001b[0m\u001b[0;34m.\u001b[0m\u001b[0mlower\u001b[0m \u001b[0;34m==\u001b[0m \u001b[0;34m'both wrists'\u001b[0m\u001b[0;34m)\u001b[0m \u001b[0;32melse\u001b[0m \u001b[0;36m0\u001b[0m \u001b[0;32mfor\u001b[0m \u001b[0mbone\u001b[0m \u001b[0;32min\u001b[0m \u001b[0mSWAN_analytic\u001b[0m\u001b[0;34m[\u001b[0m\u001b[0;34m'BONES110'\u001b[0m\u001b[0;34m]\u001b[0m\u001b[0;34m]\u001b[0m\u001b[0;34m\u001b[0m\u001b[0;34m\u001b[0m\u001b[0m\n\u001b[0m",
      "\u001b[0;32m<ipython-input-21-9e616ed5b6bb>\u001b[0m in \u001b[0;36m<listcomp>\u001b[0;34m(.0)\u001b[0m\n\u001b[1;32m      1\u001b[0m \u001b[0;31m# Create a new column for wrist fracture\u001b[0m\u001b[0;34m\u001b[0m\u001b[0;34m\u001b[0m\u001b[0;34m\u001b[0m\u001b[0m\n\u001b[0;32m----> 2\u001b[0;31m \u001b[0mSWAN_analytic\u001b[0m\u001b[0;34m[\u001b[0m\u001b[0;34m'WristFrac'\u001b[0m\u001b[0;34m]\u001b[0m \u001b[0;34m=\u001b[0m \u001b[0;34m[\u001b[0m\u001b[0;36m1\u001b[0m \u001b[0;32mif\u001b[0m \u001b[0;34m(\u001b[0m\u001b[0mbone\u001b[0m\u001b[0;34m.\u001b[0m\u001b[0mlower\u001b[0m \u001b[0;34m==\u001b[0m \u001b[0;34m'both wrists'\u001b[0m\u001b[0;34m)\u001b[0m \u001b[0;32melse\u001b[0m \u001b[0;36m0\u001b[0m \u001b[0;32mfor\u001b[0m \u001b[0mbone\u001b[0m \u001b[0;32min\u001b[0m \u001b[0mSWAN_analytic\u001b[0m\u001b[0;34m[\u001b[0m\u001b[0;34m'BONES110'\u001b[0m\u001b[0;34m]\u001b[0m\u001b[0;34m]\u001b[0m\u001b[0;34m\u001b[0m\u001b[0;34m\u001b[0m\u001b[0m\n\u001b[0m",
      "\u001b[0;31mAttributeError\u001b[0m: 'float' object has no attribute 'lower'"
     ]
    }
   ],
   "source": [
    "# Create a new column for wrist fracture\n",
    "SWAN_analytic['WristFrac'] = [1 if (bone.lower == 'both wrists') else 0 for bone in SWAN_analytic['BONES110']]"
   ]
  },
  {
   "cell_type": "code",
   "execution_count": 32,
   "metadata": {},
   "outputs": [
    {
     "data": {
      "text/plain": [
       "0       NaN\n",
       "1       NaN\n",
       "2       NaN\n",
       "3       NaN\n",
       "4       NaN\n",
       "       ... \n",
       "2240    NaN\n",
       "2241    NaN\n",
       "2242    NaN\n",
       "2243    NaN\n",
       "2244    NaN\n",
       "Name: BONES110, Length: 2245, dtype: object"
      ]
     },
     "execution_count": 32,
     "metadata": {},
     "output_type": "execute_result"
    }
   ],
   "source": [
    "SWAN_analytic['BONES110']"
   ]
  },
  {
   "cell_type": "code",
   "execution_count": 33,
   "metadata": {},
   "outputs": [
    {
     "data": {
      "text/plain": [
       "RIGHT FOOT                        4\n",
       "LEFT RIBS                         3\n",
       "LEFT PINKY TOE                    3\n",
       "LEFT WRIST                        3\n",
       "LEFT ELBOW                        3\n",
       "RIGHT ANKLE                       2\n",
       "BOTH FEET                         1\n",
       "LEFT METATARSAL BONE              1\n",
       "5TH METATARSEL IN RT FOOT         1\n",
       "LEFT ULNA                         1\n",
       "LEFT ULNA & RADIUS                1\n",
       "LEFT HAND NEAR WRIST              1\n",
       "NOSE                              1\n",
       "LEFT SMALL TOE                    1\n",
       "LEFT FOOT                         1\n",
       "RIGHT SHOULDER                    1\n",
       "LEFT MIDDLE TOE                   1\n",
       "RIBS BOTH SIDES                   1\n",
       "RIGHT FOURTH TOE                  1\n",
       "RIGHT TOE                         1\n",
       "RIGHT GREAT TOE                   1\n",
       "LT PINKY TOE, LT 5TH DIGIT        1\n",
       "RIGHT WRIST                       1\n",
       "RIGHT 3RD TOE                     1\n",
       "RIGHT HIP                         1\n",
       "RIGHT THUMB                       1\n",
       "LEFT TOE                          1\n",
       "LEFT HAND 1ST & 2ND FINGER        1\n",
       "RIGHT BIG TOE                     1\n",
       "RIGHT FOOT ARCH BONE              1\n",
       "LEFT BIG TOE                      1\n",
       "RIGHT ELBOW                       1\n",
       "LEFT ANKLE                        1\n",
       "RIGHT FOOT, METATARSAL            1\n",
       "BIG TOE RT FOOT                   1\n",
       "BABY TOE LT FOOT 5TH DIGIT        1\n",
       "RIGHT ANKLE - DOUBLE FRACTURE     1\n",
       "LEFT 2ND TOE FROM THE BIG TOE.    1\n",
       "BOTH WRISTS                       1\n",
       "Name: BONES110, dtype: int64"
      ]
     },
     "execution_count": 33,
     "metadata": {},
     "output_type": "execute_result"
    }
   ],
   "source": [
    "SWAN_analytic['BONES110'].value_counts()"
   ]
  },
  {
   "cell_type": "code",
   "execution_count": 39,
   "metadata": {},
   "outputs": [
    {
     "data": {
      "text/plain": [
       "Index(['SWANID', 'AGE10', 'OSTEOPR10', 'BROKEBO10', 'BONES110', 'PAINTRF10',\n",
       "       'NERV4WK10', 'DEPRESS10', 'OVERHLT10', 'RACE', 'DEGREE'],\n",
       "      dtype='object')"
      ]
     },
     "execution_count": 39,
     "metadata": {},
     "output_type": "execute_result"
    }
   ],
   "source": [
    "# View the columns for SWAN data\n",
    "SWAN_analytic.columns"
   ]
  },
  {
   "cell_type": "code",
   "execution_count": 54,
   "metadata": {},
   "outputs": [],
   "source": [
    "# Rename variables in SWAN data to match the common definitions\n",
    "SWAN_analytic = SWAN_analytic.rename(columns = {'SWANID': 'ID', 'AGE10': 'Age', 'OSTEOPR10': 'OsteoDx', 'BROKEBO10': 'BrokeBone', 'BONES110':'FractureType', 'PAINTRF10':'Pain',\n",
    "       'NERV4WK10': 'Anxiety', 'DEPRESS10': 'Depress', 'OVERHLT10': 'OverallHealth', 'RACE': 'Race', 'DEGREE': 'Educ'})"
   ]
  },
  {
   "cell_type": "code",
   "execution_count": null,
   "metadata": {},
   "outputs": [],
   "source": [
    "# Create broken bone composite variable in NHANES to harmonize with SWAN"
   ]
  },
  {
   "cell_type": "code",
   "execution_count": 41,
   "metadata": {},
   "outputs": [
    {
     "data": {
      "text/plain": [
       "Index(['SEQN', 'RIDAGEYR', 'RIAGENDR', 'RIDRETH1', 'DMDEDUC2', 'OSQ060',\n",
       "       'OSQ010A', 'OSQ010B', 'HSQ493', 'HSQ496', 'HSD010', 'DPQ020'],\n",
       "      dtype='object')"
      ]
     },
     "execution_count": 41,
     "metadata": {},
     "output_type": "execute_result"
    }
   ],
   "source": [
    "# View the columns in NHANES\n",
    "NHANES_filtered.columns"
   ]
  },
  {
   "cell_type": "code",
   "execution_count": 55,
   "metadata": {},
   "outputs": [],
   "source": [
    "# Rename the variables in NHANES data to match the common definitions\n",
    "NHANES_filtered = NHANES_filtered.rename(columns = {'SEQN': 'ID', 'RIDAGEYR': 'Age', 'OSQ060': 'OsteoDx', 'OSQ010A': 'HipFracture', 'OSQ010B': 'WristFracture', 'HSQ493':'Pain',\n",
    "       'HSQ496': 'Anxiety', 'DPQ020': 'Depress', 'HSD010': 'OverallHealth', 'RIDRETH1': 'Race', 'DMDEDUC2': 'Educ'})"
   ]
  },
  {
   "cell_type": "code",
   "execution_count": null,
   "metadata": {},
   "outputs": [],
   "source": []
  },
  {
   "cell_type": "code",
   "execution_count": 56,
   "metadata": {},
   "outputs": [],
   "source": [
    "# Concatenate the NHANES and SWAN datasets, using the source identifier as a key and resetting the index\n",
    "compositeData = pd.concat([SWAN_analytic, NHANES_filtered], axis = 0, keys = ['SWAN', 'NHANES'], names = ['source']).reset_index(level = 'source')"
   ]
  },
  {
   "cell_type": "code",
   "execution_count": 57,
   "metadata": {},
   "outputs": [
    {
     "data": {
      "text/html": [
       "<div>\n",
       "<style scoped>\n",
       "    .dataframe tbody tr th:only-of-type {\n",
       "        vertical-align: middle;\n",
       "    }\n",
       "\n",
       "    .dataframe tbody tr th {\n",
       "        vertical-align: top;\n",
       "    }\n",
       "\n",
       "    .dataframe thead th {\n",
       "        text-align: right;\n",
       "    }\n",
       "</style>\n",
       "<table border=\"1\" class=\"dataframe\">\n",
       "  <thead>\n",
       "    <tr style=\"text-align: right;\">\n",
       "      <th></th>\n",
       "      <th>source</th>\n",
       "      <th>ID</th>\n",
       "      <th>Age</th>\n",
       "      <th>OsteoDx</th>\n",
       "      <th>BrokeBone</th>\n",
       "      <th>FractureType</th>\n",
       "      <th>Pain</th>\n",
       "      <th>Anxiety</th>\n",
       "      <th>Depress</th>\n",
       "      <th>OverallHealth</th>\n",
       "      <th>Race</th>\n",
       "      <th>Educ</th>\n",
       "      <th>RIAGENDR</th>\n",
       "      <th>HipFracture</th>\n",
       "      <th>WristFracture</th>\n",
       "    </tr>\n",
       "  </thead>\n",
       "  <tbody>\n",
       "    <tr>\n",
       "      <th>0</th>\n",
       "      <td>SWAN</td>\n",
       "      <td>10046</td>\n",
       "      <td>62</td>\n",
       "      <td>1</td>\n",
       "      <td>0</td>\n",
       "      <td>NaN</td>\n",
       "      <td>1</td>\n",
       "      <td>6</td>\n",
       "      <td>1</td>\n",
       "      <td>1</td>\n",
       "      <td>2</td>\n",
       "      <td>2</td>\n",
       "      <td>NaN</td>\n",
       "      <td>NaN</td>\n",
       "      <td>NaN</td>\n",
       "    </tr>\n",
       "    <tr>\n",
       "      <th>1</th>\n",
       "      <td>SWAN</td>\n",
       "      <td>10056</td>\n",
       "      <td>61</td>\n",
       "      <td>1</td>\n",
       "      <td>0</td>\n",
       "      <td>NaN</td>\n",
       "      <td>1</td>\n",
       "      <td>6</td>\n",
       "      <td>1</td>\n",
       "      <td>2</td>\n",
       "      <td>4</td>\n",
       "      <td>3</td>\n",
       "      <td>NaN</td>\n",
       "      <td>NaN</td>\n",
       "      <td>NaN</td>\n",
       "    </tr>\n",
       "    <tr>\n",
       "      <th>2</th>\n",
       "      <td>SWAN</td>\n",
       "      <td>10153</td>\n",
       "      <td>61</td>\n",
       "      <td>1</td>\n",
       "      <td>0</td>\n",
       "      <td>NaN</td>\n",
       "      <td>1</td>\n",
       "      <td>6</td>\n",
       "      <td>1</td>\n",
       "      <td>3</td>\n",
       "      <td>3</td>\n",
       "      <td>2</td>\n",
       "      <td>NaN</td>\n",
       "      <td>NaN</td>\n",
       "      <td>NaN</td>\n",
       "    </tr>\n",
       "    <tr>\n",
       "      <th>3</th>\n",
       "      <td>SWAN</td>\n",
       "      <td>10196</td>\n",
       "      <td>56</td>\n",
       "      <td>1</td>\n",
       "      <td>0</td>\n",
       "      <td>NaN</td>\n",
       "      <td>1</td>\n",
       "      <td>4</td>\n",
       "      <td>1</td>\n",
       "      <td>3</td>\n",
       "      <td>2</td>\n",
       "      <td>5</td>\n",
       "      <td>NaN</td>\n",
       "      <td>NaN</td>\n",
       "      <td>NaN</td>\n",
       "    </tr>\n",
       "    <tr>\n",
       "      <th>4</th>\n",
       "      <td>SWAN</td>\n",
       "      <td>10245</td>\n",
       "      <td>57</td>\n",
       "      <td>1</td>\n",
       "      <td>0</td>\n",
       "      <td>NaN</td>\n",
       "      <td>1</td>\n",
       "      <td>5</td>\n",
       "      <td>2</td>\n",
       "      <td>2</td>\n",
       "      <td>4</td>\n",
       "      <td>2</td>\n",
       "      <td>NaN</td>\n",
       "      <td>NaN</td>\n",
       "      <td>NaN</td>\n",
       "    </tr>\n",
       "    <tr>\n",
       "      <th>...</th>\n",
       "      <td>...</td>\n",
       "      <td>...</td>\n",
       "      <td>...</td>\n",
       "      <td>...</td>\n",
       "      <td>...</td>\n",
       "      <td>...</td>\n",
       "      <td>...</td>\n",
       "      <td>...</td>\n",
       "      <td>...</td>\n",
       "      <td>...</td>\n",
       "      <td>...</td>\n",
       "      <td>...</td>\n",
       "      <td>...</td>\n",
       "      <td>...</td>\n",
       "      <td>...</td>\n",
       "    </tr>\n",
       "    <tr>\n",
       "      <th>10121</th>\n",
       "      <td>NHANES</td>\n",
       "      <td>51596</td>\n",
       "      <td>52</td>\n",
       "      <td>2</td>\n",
       "      <td>NaN</td>\n",
       "      <td>NaN</td>\n",
       "      <td>0</td>\n",
       "      <td>8</td>\n",
       "      <td>0</td>\n",
       "      <td>4</td>\n",
       "      <td>1</td>\n",
       "      <td>1</td>\n",
       "      <td>2.0</td>\n",
       "      <td>2.0</td>\n",
       "      <td>2.0</td>\n",
       "    </tr>\n",
       "    <tr>\n",
       "      <th>10129</th>\n",
       "      <td>NHANES</td>\n",
       "      <td>51604</td>\n",
       "      <td>53</td>\n",
       "      <td>2</td>\n",
       "      <td>NaN</td>\n",
       "      <td>NaN</td>\n",
       "      <td>0</td>\n",
       "      <td>2</td>\n",
       "      <td>0</td>\n",
       "      <td>2</td>\n",
       "      <td>3</td>\n",
       "      <td>5</td>\n",
       "      <td>2.0</td>\n",
       "      <td>2.0</td>\n",
       "      <td>1.0</td>\n",
       "    </tr>\n",
       "    <tr>\n",
       "      <th>10136</th>\n",
       "      <td>NHANES</td>\n",
       "      <td>51611</td>\n",
       "      <td>55</td>\n",
       "      <td>2</td>\n",
       "      <td>NaN</td>\n",
       "      <td>NaN</td>\n",
       "      <td>0</td>\n",
       "      <td>0</td>\n",
       "      <td>0</td>\n",
       "      <td>3</td>\n",
       "      <td>3</td>\n",
       "      <td>4</td>\n",
       "      <td>2.0</td>\n",
       "      <td>2.0</td>\n",
       "      <td>2.0</td>\n",
       "    </tr>\n",
       "    <tr>\n",
       "      <th>10140</th>\n",
       "      <td>NHANES</td>\n",
       "      <td>51615</td>\n",
       "      <td>61</td>\n",
       "      <td>1</td>\n",
       "      <td>NaN</td>\n",
       "      <td>NaN</td>\n",
       "      <td>NaN</td>\n",
       "      <td>NaN</td>\n",
       "      <td>NaN</td>\n",
       "      <td>NaN</td>\n",
       "      <td>2</td>\n",
       "      <td>1</td>\n",
       "      <td>2.0</td>\n",
       "      <td>2.0</td>\n",
       "      <td>2.0</td>\n",
       "    </tr>\n",
       "    <tr>\n",
       "      <th>10147</th>\n",
       "      <td>NHANES</td>\n",
       "      <td>51622</td>\n",
       "      <td>60</td>\n",
       "      <td>2</td>\n",
       "      <td>NaN</td>\n",
       "      <td>NaN</td>\n",
       "      <td>0</td>\n",
       "      <td>0</td>\n",
       "      <td>0</td>\n",
       "      <td>2</td>\n",
       "      <td>4</td>\n",
       "      <td>1</td>\n",
       "      <td>2.0</td>\n",
       "      <td>2.0</td>\n",
       "      <td>2.0</td>\n",
       "    </tr>\n",
       "  </tbody>\n",
       "</table>\n",
       "<p>2904 rows × 15 columns</p>\n",
       "</div>"
      ],
      "text/plain": [
       "       source     ID Age OsteoDx BrokeBone FractureType Pain Anxiety Depress  \\\n",
       "0        SWAN  10046  62       1         0          NaN    1       6       1   \n",
       "1        SWAN  10056  61       1         0          NaN    1       6       1   \n",
       "2        SWAN  10153  61       1         0          NaN    1       6       1   \n",
       "3        SWAN  10196  56       1         0          NaN    1       4       1   \n",
       "4        SWAN  10245  57       1         0          NaN    1       5       2   \n",
       "...       ...    ...  ..     ...       ...          ...  ...     ...     ...   \n",
       "10121  NHANES  51596  52       2       NaN          NaN    0       8       0   \n",
       "10129  NHANES  51604  53       2       NaN          NaN    0       2       0   \n",
       "10136  NHANES  51611  55       2       NaN          NaN    0       0       0   \n",
       "10140  NHANES  51615  61       1       NaN          NaN  NaN     NaN     NaN   \n",
       "10147  NHANES  51622  60       2       NaN          NaN    0       0       0   \n",
       "\n",
       "      OverallHealth Race Educ  RIAGENDR  HipFracture  WristFracture  \n",
       "0                 1    2    2       NaN          NaN            NaN  \n",
       "1                 2    4    3       NaN          NaN            NaN  \n",
       "2                 3    3    2       NaN          NaN            NaN  \n",
       "3                 3    2    5       NaN          NaN            NaN  \n",
       "4                 2    4    2       NaN          NaN            NaN  \n",
       "...             ...  ...  ...       ...          ...            ...  \n",
       "10121             4    1    1       2.0          2.0            2.0  \n",
       "10129             2    3    5       2.0          2.0            1.0  \n",
       "10136             3    3    4       2.0          2.0            2.0  \n",
       "10140           NaN    2    1       2.0          2.0            2.0  \n",
       "10147             2    4    1       2.0          2.0            2.0  \n",
       "\n",
       "[2904 rows x 15 columns]"
      ]
     },
     "execution_count": 57,
     "metadata": {},
     "output_type": "execute_result"
    }
   ],
   "source": [
    "# Check the composite analytic data set\n",
    "compositeData"
   ]
  },
  {
   "cell_type": "markdown",
   "metadata": {},
   "source": [
    "Could potentially join groups/datasets together based on age, once aggregated?\n",
    "\n",
    "OR concatenate the datasets with NHANES or SWAN as the identifier, then run functions to recode -- would first need to rename all the columns to harmonize them (requires making NHANES variable for broken bone and SWAN variables for hip fracture and wrist fracture)"
   ]
  },
  {
   "cell_type": "markdown",
   "metadata": {},
   "source": [
    "### Recoding Data based on Codebook\n",
    "\n",
    "Variables were harmonized based on cross-examination of the available codebooks (detailed in `DeMarco_HDS5210Final_VariableFile.xlsx`). Variables were renamed and values recoded to facilitate comprehension based on the provided codebooks. Functions were created to recode variables based on these codebooks."
   ]
  },
  {
   "cell_type": "code",
   "execution_count": null,
   "metadata": {},
   "outputs": [],
   "source": []
  },
  {
   "cell_type": "code",
   "execution_count": null,
   "metadata": {},
   "outputs": [],
   "source": []
  },
  {
   "cell_type": "markdown",
   "metadata": {},
   "source": [
    "## Data Analysis"
   ]
  },
  {
   "cell_type": "markdown",
   "metadata": {},
   "source": [
    "ideas for comparisons\n",
    "* pivot table by age \n",
    "* pivot table by osteoporosis status\n",
    "* pivot table by depression variable - would need to reconcile between the two\n",
    "\n",
    "consider looking into variations in pain, current health status, anxious, broken bones in above gropus\n",
    "* can use these as aggregating variables, to count or get an average - may require more data manipulation\n",
    "\n",
    "will need to ask about field level transformations (would something like recoding the data from numeric to strings count? or binning the data for analysis, such as for pain (like transforming data from 0-30 days to \"less than half\" to \"more than half\", etc.)?), to make sure I meet that requirement, and figure out what to plot"
   ]
  },
  {
   "cell_type": "code",
   "execution_count": null,
   "metadata": {},
   "outputs": [],
   "source": []
  },
  {
   "cell_type": "code",
   "execution_count": null,
   "metadata": {},
   "outputs": [],
   "source": []
  },
  {
   "cell_type": "code",
   "execution_count": null,
   "metadata": {},
   "outputs": [],
   "source": []
  },
  {
   "cell_type": "markdown",
   "metadata": {},
   "source": [
    "## Data Visualization and Discussion"
   ]
  },
  {
   "cell_type": "code",
   "execution_count": null,
   "metadata": {},
   "outputs": [],
   "source": []
  },
  {
   "cell_type": "markdown",
   "metadata": {},
   "source": [
    "### References\n",
    "Centers for Disease Control and Prevention (CDC). National Center for Health Statistics (NCHS). National Health and Nutrition Examination Survey Data. Hyattsville, MD: U.S. Department of Health and Human Services, Centers for Disease Control and Prevention, 2007-2008, https://wwwn.cdc.gov/nchs/nhanes/continuousnhanes/default.aspx?BeginYear=2007.\n",
    "\n",
    "Sutton-Tyrrell, Kim, Selzer, Faith, Sowers, MaryFran, Finkelstein, Joel, Powell, Lynda, Gold, Ellen, … Brooks, Maria Mori. Study of Women’s Health Across the Nation (SWAN), 2006-2008: Visit 10 Dataset. Ann Arbor, MI: Inter-university Consortium for Political and Social Research [distributor], 2018-11-15. https://doi.org/10.3886/ICPSR32961.v2"
   ]
  },
  {
   "cell_type": "markdown",
   "metadata": {},
   "source": [
    "#### Github Submission"
   ]
  },
  {
   "cell_type": "code",
   "execution_count": null,
   "metadata": {},
   "outputs": [],
   "source": [
    "a=input('''\n",
    "Are you ready to submit your work?\n",
    "1. Click the Save icon (or do Ctrl-S / Cmd-S)\n",
    "2. Type \"yes\" or \"no\" below\n",
    "3. Press Enter\n",
    "\n",
    "''')\n",
    "\n",
    "if a=='yes':\n",
    "    !git pull\n",
    "    !git add Final_DeMarco.ipynb\n",
    "    !git commit -a -m \"Submitting final project programming assignment\"\n",
    "    !git push\n",
    "else:\n",
    "    print('''\n",
    "    \n",
    "OK. We can wait.\n",
    "''')"
   ]
  },
  {
   "cell_type": "code",
   "execution_count": null,
   "metadata": {},
   "outputs": [],
   "source": []
  }
 ],
 "metadata": {
  "kernelspec": {
   "display_name": "Python 3",
   "language": "python",
   "name": "python3"
  },
  "language_info": {
   "codemirror_mode": {
    "name": "ipython",
    "version": 3
   },
   "file_extension": ".py",
   "mimetype": "text/x-python",
   "name": "python",
   "nbconvert_exporter": "python",
   "pygments_lexer": "ipython3",
   "version": "3.6.7"
  }
 },
 "nbformat": 4,
 "nbformat_minor": 4
}
