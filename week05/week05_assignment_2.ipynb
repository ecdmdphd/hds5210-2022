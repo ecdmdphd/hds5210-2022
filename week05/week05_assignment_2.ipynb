{
 "cells": [
  {
   "cell_type": "markdown",
   "metadata": {
    "nbgrader": {
     "grade": false,
     "grade_id": "intro",
     "locked": true,
     "schema_version": 1,
     "solution": false
    }
   },
   "source": [
    "# Week 5 Exercises\n",
    "\n",
    "_McKinney 3.2_\n",
    "\n",
    "**Unlike in previous weeks, in the exercises below, you will need to create a function definition from scratch.  I'll provide specific instructions and examples for how it will be used, but you will have to do the work of definiging the whole function.**\n",
    "\n",
    "---\n",
    "---"
   ]
  },
  {
   "cell_type": "markdown",
   "metadata": {
    "nbgrader": {
     "grade": false,
     "grade_id": "longest",
     "locked": true,
     "schema_version": 1,
     "solution": false
    }
   },
   "source": [
    "### 25.1 Longest String\n",
    "\n",
    "Write a function called `longest (L)` that takes as its only parameter a list of strings.  Your function needs to find the longest of those strings and return the position number of that longest string.  An example is provided below:\n",
    "\n",
    "The longest word in that list of strings is \"birthday\" in position #1, so `longest(strings)` should return 1.\n",
    "```\n",
    ">>> strings = ['happy', 'birthday', 'to', 'me']\n",
    ">>> longest(strings)\n",
    "1\n",
    "```\n",
    "\n",
    "Be sure to include a docstring.  Include test cases in your docstring if you want to."
   ]
  },
  {
   "cell_type": "code",
   "execution_count": 20,
   "metadata": {},
   "outputs": [],
   "source": [
    "# in class example\n",
    "def longest(my_list):\n",
    "    '''(list) -> int\n",
    "    Find longest item in a list of strings and return the index for that string. \n",
    "    If there are multiple strings with the same length, return the index of the first of those longest strings.\n",
    "    \n",
    "    >>> longest(['happy', 'birthday', 'to', 'me'])\n",
    "    1\n",
    "    \n",
    "    >>> longest(['abc', 'def', 'ghi'])\n",
    "    0\n",
    "    \n",
    "    '''\n",
    "    # initialize intermediate variables \n",
    "    # length at -1, as any value should be greater than that if there is a value present\n",
    "    max_length = -1\n",
    "    \n",
    "    # index of the longest value - initalize at None\n",
    "    max_index = None\n",
    "    \n",
    "    # demonstrate handling syntax\n",
    "    for index, item in enumerate(my_list):\n",
    "        try:\n",
    "            if len(item) > max_length:\n",
    "                max_length = len(item)\n",
    "                max_index = index\n",
    "        # If length of the item cannot be calculated, pass and move to next item - this avoids TypeError\n",
    "        except:\n",
    "            pass\n",
    "            \n",
    "    # at the end of the for loop, return the resulting index of the max length\n",
    "    return max_index"
   ]
  },
  {
   "cell_type": "code",
   "execution_count": 3,
   "metadata": {
    "nbgrader": {
     "grade": false,
     "grade_id": "longest-answer",
     "locked": false,
     "schema_version": 1,
     "solution": true
    }
   },
   "outputs": [],
   "source": [
    "### BEGIN SOLUTION\n",
    "\n",
    "def longest(strings):\n",
    "    \"\"\"(list) -> int\n",
    "    This function finds the longest string in the list of input strings\n",
    "    and returns the position number of that longest string.\n",
    "    \n",
    "    >>> longest(['happy', 'birthday', 'to', 'me'])\n",
    "    1\n",
    "    \n",
    "    >>> longest(['one', 'two', 'three', 'four'])\n",
    "    2\n",
    "    \"\"\"\n",
    "    \n",
    "    longest_pos = 0\n",
    "    longest_len = 0\n",
    "    \n",
    "    print(\"Position  Item         Longest So Far\")\n",
    "    print(\"--------- ------------ --------------\")\n",
    "    for position, item in enumerate(strings):\n",
    "        \n",
    "        if len(item) > longest_len:\n",
    "            longest_pos = position\n",
    "            longest_len = len(item)\n",
    "        print(\"{0:9} {1:12} {2} : {3}\".format(position, item, longest_pos, longest_len))\n",
    "            \n",
    "    return longest_pos\n",
    "\n",
    "### END SOLUTION"
   ]
  },
  {
   "cell_type": "code",
   "execution_count": 8,
   "metadata": {},
   "outputs": [
    {
     "data": {
      "text/plain": [
       "1"
      ]
     },
     "execution_count": 8,
     "metadata": {},
     "output_type": "execute_result"
    }
   ],
   "source": [
    "longest(['happy', 'birthday', 'to', 'me'])"
   ]
  },
  {
   "cell_type": "code",
   "execution_count": 5,
   "metadata": {
    "nbgrader": {
     "grade": true,
     "grade_id": "longest-tests",
     "locked": true,
     "points": 10,
     "schema_version": 1,
     "solution": false
    }
   },
   "outputs": [
    {
     "name": "stdout",
     "output_type": "stream",
     "text": [
      "Position  Item         Longest So Far\n",
      "--------- ------------ --------------\n",
      "        0 happy        0 : 5\n",
      "        1 birthday     1 : 8\n",
      "        2 to           1 : 8\n",
      "        3 me           1 : 8\n",
      "Position  Item         Longest So Far\n",
      "--------- ------------ --------------\n",
      "        0 enjoy        0 : 5\n",
      "        1 class        0 : 5\n",
      "Position  Item         Longest So Far\n",
      "--------- ------------ --------------\n",
      "        0 when         0 : 4\n",
      "        1 what         0 : 4\n",
      "        2 where        2 : 5\n",
      "        3 how          2 : 5\n",
      "        4 who          2 : 5\n"
     ]
    }
   ],
   "source": [
    "assert longest(\"happy birthday to me\".split(\" \")) == 1\n",
    "assert longest(\"enjoy class\".split(\" \")) == 0\n",
    "assert longest(['when','what','where','how','who']) == 2"
   ]
  },
  {
   "cell_type": "code",
   "execution_count": 21,
   "metadata": {},
   "outputs": [
    {
     "name": "stdout",
     "output_type": "stream",
     "text": [
      "Finding tests in NoName\n",
      "Trying:\n",
      "    longest(['happy', 'birthday', 'to', 'me'])\n",
      "Expecting:\n",
      "    1\n",
      "ok\n",
      "Trying:\n",
      "    longest(['abc', 'def', 'ghi'])\n",
      "Expecting:\n",
      "    0\n",
      "ok\n"
     ]
    }
   ],
   "source": [
    "import doctest\n",
    "doctest.run_docstring_examples(longest, globals(), verbose=True)"
   ]
  },
  {
   "cell_type": "markdown",
   "metadata": {},
   "source": [
    "### 25.2 Celsius to Farenheit\n",
    "\n",
    "Write a function called f_to_c() that converts a given temperature in degrees Farenheit to degrees Celsius.  If you don't recall that conversion, it is:\n",
    "\n",
    "$ temp_c = \\frac{5}{9} \\times (temp_f - 32) $\n",
    "\n",
    "Make sure that you code is well documented using the DocString examples, and that your code includes tests for 212f, 32f, and 98.6f."
   ]
  },
  {
   "cell_type": "code",
   "execution_count": 1,
   "metadata": {},
   "outputs": [],
   "source": [
    "### BEGIN SOLUTION - consider all exception handling possible (i.e. non-numeric input, etc.)\n",
    "# Define the function f_to_c() which takes one numeric input\n",
    "def f_to_c(temp_f):\n",
    "    '''(int or float) -> float\n",
    "    This function takes a temperature in degrees Farenheit (temp_f) and converts it to a temperature in degrees Celcius (temp_c) \n",
    "    using the following formula:\n",
    "    temp_c = (5/9) * (temp_f - 32)\n",
    "    \n",
    "    Any input other than an integer or a float will raise a TypeError: \"Please enter a number (float or integer)\"\n",
    "    \n",
    "    >>> f_to_c(212)\n",
    "    100.0\n",
    "    \n",
    "    >>> f_to_c(32)\n",
    "    0.0\n",
    "    \n",
    "    >>> f_to_c(98.6)\n",
    "    37.0\n",
    "    '''\n",
    "    \n",
    "    # Check if the input is not a number (integer or float)\n",
    "    if (type(temp_f) != int) or (type(temp_f) != float):\n",
    "        raise TypeError(\"Please enter a number (float or integer)\") \n",
    "    \n",
    "    # If TypeError is not raised, input must be either a float or an integer\n",
    "    # Proceed with calculation - convert temp_f to temp_c per formula above\n",
    "    temp_c = (5/9) * (temp_f - 32)\n",
    "    \n",
    "    # return temp_c\n",
    "    return temp_c\n",
    "\n",
    "### END SOLUTION"
   ]
  },
  {
   "cell_type": "code",
   "execution_count": 2,
   "metadata": {
    "jupyter": {
     "source_hidden": true
    }
   },
   "outputs": [],
   "source": [
    "### BEGIN SOLUTION\n",
    "def f_to_c(F):\n",
    "    \"\"\"(float) -> float\n",
    "    \n",
    "    >>> f_to_c(212)\n",
    "    100.0\n",
    "        \n",
    "    >>> f_to_c(32)\n",
    "    0.0\n",
    "\n",
    "    >>> f_to_c(98.6)\n",
    "    37.0\n",
    "    \"\"\"\n",
    "    return (5/9) * (F-32)\n",
    "\n",
    "### END SOLUTION"
   ]
  },
  {
   "cell_type": "code",
   "execution_count": 3,
   "metadata": {},
   "outputs": [],
   "source": [
    "assert f_to_c(212) == 100.0\n",
    "assert f_to_c(32) == 0.0\n",
    "assert f_to_c(98.6) == 37.0"
   ]
  },
  {
   "cell_type": "code",
   "execution_count": 4,
   "metadata": {},
   "outputs": [
    {
     "data": {
      "text/plain": [
       "100.0"
      ]
     },
     "execution_count": 4,
     "metadata": {},
     "output_type": "execute_result"
    }
   ],
   "source": [
    "f_to_c(212)"
   ]
  },
  {
   "cell_type": "code",
   "execution_count": 5,
   "metadata": {},
   "outputs": [
    {
     "name": "stdout",
     "output_type": "stream",
     "text": [
      "Finding tests in NoName\n",
      "Trying:\n",
      "    f_to_c(212)\n",
      "Expecting:\n",
      "    100.0\n",
      "ok\n",
      "Trying:\n",
      "    f_to_c(32)\n",
      "Expecting:\n",
      "    0.0\n",
      "ok\n",
      "Trying:\n",
      "    f_to_c(98.6)\n",
      "Expecting:\n",
      "    37.0\n",
      "ok\n"
     ]
    }
   ],
   "source": [
    "import doctest\n",
    "doctest.run_docstring_examples(f_to_c, globals(), verbose=True)"
   ]
  },
  {
   "cell_type": "markdown",
   "metadata": {},
   "source": [
    "### 25.3 Computing Length of Stay\n",
    "\n",
    "For this problem, we have a collection of patient enounter data stored as a Python dictionary.  The `key` for the dictionary is the **encounter ID**, a code that starts with the letter `E` followed by four numbers.  The value associated with each encounter ID is another Python dictionary.  This \"inner\" dictionary holds three items: admit date, primary diagnosis, and discharge date.  See the example in the code below.\n",
    "\n",
    "You need to write a length of stay function that computes the length of stay, in whole days, between the admit date and discharge date.  However, if the diagnosis is \"Observation\" then the length of stay should always be returned as 0 regardless of the admit and discharge dates.\n",
    "\n",
    "You will find it handy to refer to this example here on how to calculate the number of days between two dates: https://stackoverflow.com/questions/151199/how-to-calculate-number-of-days-between-two-given-dates"
   ]
  },
  {
   "cell_type": "code",
   "execution_count": 29,
   "metadata": {},
   "outputs": [],
   "source": [
    "from datetime import date\n",
    "\n",
    "### BEGIN SOLUTION\n",
    "# Define the function los that accepts 3 parameters: admit (a date), diagnosis (string), and discharge (a date)\n",
    "def los(admit, discharge, diagnosis):\n",
    "    # Doc String\n",
    "    ''' (date, date, string) -> int\n",
    "    Define the function los that accepts 3 parameters: \n",
    "    admit (a date), discharge (a date), and diagnosis (string)\n",
    "    \n",
    "    The function returns an integer representing the length of stay in whole days between admit \n",
    "    and discharge. If the diagnosis is \"Observation\" then los should return 0 regardless of dates.\n",
    "    \n",
    "    TypeError is raised if any of the input values are not appropriate for the parameter\n",
    "        \n",
    "    >>> los(date(2019,1,3), date(2019,1,8), \"COPD\")\n",
    "    5\n",
    "    \n",
    "    >>> los(date(2020,1,5), date(2020,1,8), \"Observation\")\n",
    "    0\n",
    "    '''\n",
    "    # Check the parameters for correct type. Raise TypeError for any incongruent parameters\n",
    "    # This does not function as expected, not sure why\n",
    "    \n",
    "    # If a date is not submitted, this error is not raised. However, the computation cannot occur\n",
    "    # and a different error is raised.\n",
    "    if type(admit) != datetime.date:\n",
    "        raise TypeError(\"Please submit an admission date as a date() object. See help for details.\")\n",
    "    \n",
    "    # If a date is not submitted, this error is not raised. However, the computation cannot occur\n",
    "    # and a different error is raised.\n",
    "    if type(discharge) != datetime.date:\n",
    "        raise TypeError(\"Please submit a discharge date as a date() object. See help for details.\")\n",
    "    \n",
    "    # This should work but doesn't and no alternate error is raised\n",
    "    if type(diagnosis) != str:\n",
    "        raise TypeError(\"Please submit a diagnosis as a string. See help for details.\")\n",
    "    \n",
    "    # Initialize output variable los for the date difference\n",
    "    los = -1\n",
    "    # Check the diagnosis type for \"Observation\"\n",
    "    if diagnosis == \"Observation\":\n",
    "        # If diagnosis is \"Observation\", then los = 0\n",
    "        los = 0\n",
    "    else:\n",
    "        # If the diagnosis is not \"Observation\", calculate difference between dates in days\n",
    "        delta = discharge - admit\n",
    "        # Set return variable to the number of days\n",
    "        los = delta.days\n",
    "    \n",
    "    # Return the length of stay\n",
    "    return los\n",
    "### END SOLUTION"
   ]
  },
  {
   "cell_type": "code",
   "execution_count": 30,
   "metadata": {
    "jupyter": {
     "source_hidden": true
    }
   },
   "outputs": [],
   "source": [
    "def los(admit, discharge, diagnosis):\n",
    "    \"\"\"(date, str, date)->int\n",
    "    Computes length of stay in days.  If diagnosis is \"Observation\" then set the length of stay to 0.\n",
    "\n",
    "    >>> los(date(2021,1,3), date(2021,1,8), 'COPD')\n",
    "    5\n",
    "    \n",
    "    >>> los(date(2021,1,5), date(2021,1,9), 'Hypertension')\n",
    "    4\n",
    "    \n",
    "    >>> los(date(2021,1,23), date(2021,1,25), 'Observation')\n",
    "    0\n",
    "    \"\"\"\n",
    "    if diagnosis == \"Observation\":\n",
    "        return 0\n",
    "    else:\n",
    "        return (discharge - admit).days"
   ]
  },
  {
   "cell_type": "code",
   "execution_count": 31,
   "metadata": {},
   "outputs": [
    {
     "name": "stdout",
     "output_type": "stream",
     "text": [
      "Finding tests in NoName\n",
      "Trying:\n",
      "    los(date(2021,1,3), date(2021,1,8), 'COPD')\n",
      "Expecting:\n",
      "    5\n",
      "ok\n",
      "Trying:\n",
      "    los(date(2021,1,5), date(2021,1,9), 'Hypertension')\n",
      "Expecting:\n",
      "    4\n",
      "ok\n",
      "Trying:\n",
      "    los(date(2021,1,23), date(2021,1,25), 'Observation')\n",
      "Expecting:\n",
      "    0\n",
      "ok\n"
     ]
    }
   ],
   "source": [
    "import doctest\n",
    "doctest.run_docstring_examples(los, globals(), verbose=True)"
   ]
  },
  {
   "cell_type": "code",
   "execution_count": null,
   "metadata": {},
   "outputs": [],
   "source": []
  },
  {
   "cell_type": "code",
   "execution_count": 32,
   "metadata": {},
   "outputs": [
    {
     "name": "stdout",
     "output_type": "stream",
     "text": [
      "5\n",
      "4\n",
      "1\n",
      "0\n",
      "0\n"
     ]
    }
   ],
   "source": [
    "encounters = { \n",
    "    \"E1234\": { \"admit\": date(2019,1,3), \"diagnosis\": \"COPD\", \"discharge\": date(2019,1,8) },\n",
    "    \"E8342\": { \"admit\": date(2019,1,5), \"diagnosis\": \"Hypertension\", \"discharge\": date(2019,1,9) },\n",
    "    \"E9231\": { \"admit\": date(2019,1,12), \"diagnosis\": \"Anxiety\", \"discharge\": date(2019,1,13) },\n",
    "    \"E8333\": { \"admit\": date(2019,1,15), \"diagnosis\": \"Observation\", \"discharge\": date(2019,1,16) },\n",
    "    \"E3342\": { \"admit\": date(2019,1,4), \"diagnosis\": \"Anxiety\", \"discharge\": date(2019,1,4)}\n",
    "}\n",
    "\n",
    "\n",
    "for e, v in encounters.items():\n",
    "    print(los(v['admit'],v['discharge'],v['diagnosis']))"
   ]
  },
  {
   "cell_type": "markdown",
   "metadata": {},
   "source": [
    "---\n",
    "---\n",
    "\n",
    "### 25.4 Average Length of Stay\n",
    "\n",
    "Create a function called `average_los` that returns the average of the LOS for the encounters in the provided dictionary. The encounters must be a dictionary that contains dictionaries that each contain at least an admit date and a discharge date.\n",
    "    \n",
    "If the length of stay of any individual encounter is 0, then it will not be counted toward the average."
   ]
  },
  {
   "cell_type": "code",
   "execution_count": 58,
   "metadata": {},
   "outputs": [],
   "source": [
    "test1 = {\n",
    "        \"E1234\": { \"admit\": date(2019,1,3), \"diagnosis\": \"COPD\", \"discharge\": date(2019,1,8) }\n",
    "}\n",
    "\n",
    "test2 = {\n",
    "        \"E1234\": { \"admit\": date(2019,1,3), \"diagnosis\": \"COPD\", \"discharge\": date(2019,1,8) }\n",
    "}\n",
    "\n",
    "### BEGIN SOLUTION\n",
    "# Define the function average_los\n",
    "def average_los(encounter_dict):\n",
    "    \"\"\" (dict) -> float\n",
    "    Given a dictionary of encounters containing an admission date and discharge date, \n",
    "    calculate the length of stay for each encounter and then calculate the average length of stay\n",
    "    across all encounters in the dictionary. \n",
    "    If the length of stay for any encounter is 0, it will not be counted toward the average\n",
    "    \n",
    "    >>> average_los(test1)\n",
    "    5.0\n",
    "    \"\"\"\n",
    "    # Check for the appropriate parameter input\n",
    "    if type(encounter_dict) != dict:\n",
    "        raise TypeError(\"Please submit a dictionary. See help for details.\")\n",
    "    \n",
    "    # Initialize a list for calculated length of stay results\n",
    "    los_list = []\n",
    "    \n",
    "    # Initialize a variable to return\n",
    "    avg_los = -1\n",
    "    \n",
    "    # For each key, value pair in the dictionary\n",
    "    for key, value in encounter_dict.items():\n",
    "        # Calculate the length of stay\n",
    "        los = (value['discharge'] - value['admit']).days\n",
    "        \n",
    "        # if the length of stay is greater than 0, append the length of stay to a list\n",
    "        if los > 0:\n",
    "            los_list.append(los)\n",
    "        # if length of stay is 0, pass\n",
    "        if los == 0:\n",
    "            pass\n",
    "        # If length of stay is a negative number, raise value error\n",
    "        if los <0:\n",
    "            raise ValueError(\"The calculated length of stay is a negative number. Check the values of encounter {}\".format(key))\n",
    "    \n",
    "    # Given the list of calculated length of stay values, calculate the average\n",
    "    # Sum the values of the list and divide by the length of the list\n",
    "    avg_los = sum(los_list)/len(los_list)\n",
    "    \n",
    "    # Return the average length of stay\n",
    "    return avg_los\n",
    "### END SOLUTION"
   ]
  },
  {
   "cell_type": "code",
   "execution_count": 64,
   "metadata": {},
   "outputs": [],
   "source": [
    "# testing function average_los\n",
    "testing = {\n",
    "        \"E1234\": { \"admit\": date(2019,1,8), \"diagnosis\": \"COPD\", \"discharge\": date(2019,1,3) }\n",
    "}\n",
    "\n",
    "# tested typeError - worked as expected\n",
    "#average_los(1)\n",
    "\n",
    "# testing ValueError - should produce negative los and thus error - worked as expected\n",
    "# average_los(testing)"
   ]
  },
  {
   "cell_type": "code",
   "execution_count": 65,
   "metadata": {},
   "outputs": [],
   "source": [
    "from datetime import date\n",
    "encounters = { \n",
    "    \"E1234\": { \"admit\": date(2019,1,3), \"diagnosis\": \"COPD\", \"discharge\": date(2019,1,8) },\n",
    "    \"E8342\": { \"admit\": date(2019,1,5), \"diagnosis\": \"Hypertension\", \"discharge\": date(2019,1,9) },\n",
    "    \"E9231\": { \"admit\": date(2019,1,12), \"diagnosis\": \"Anxiety\", \"discharge\": date(2019,1,13) },\n",
    "    \"E8333\": { \"admit\": date(2019,1,15), \"diagnosis\": \"Observation\", \"discharge\": date(2019,1,16) },\n",
    "    \"E3342\": { \"admit\": date(2019,1,4), \"diagnosis\": \"Anxiety\", \"discharge\": date(2019,1,4)}\n",
    "}\n",
    "\n",
    "assert(average_los(encounters)) == 2.75"
   ]
  },
  {
   "cell_type": "code",
   "execution_count": 66,
   "metadata": {},
   "outputs": [
    {
     "name": "stdout",
     "output_type": "stream",
     "text": [
      "Finding tests in NoName\n",
      "Trying:\n",
      "    average_los(test1)\n",
      "Expecting:\n",
      "    5.0\n",
      "ok\n"
     ]
    }
   ],
   "source": [
    "import doctest\n",
    "doctest.run_docstring_examples(average_los, globals(), verbose=True)"
   ]
  },
  {
   "cell_type": "markdown",
   "metadata": {},
   "source": [
    "---\n",
    "\n",
    "### 25.5 Celsius to Farenheit\n",
    "\n",
    "Write your own function called `c_to_f` that converts degrees Celsius to degrees Farenheit.  Include in your solution a series of doc tests that can verify the conversion using inputs of 100, 0, and 37 degrees Celsius"
   ]
  },
  {
   "cell_type": "code",
   "execution_count": 71,
   "metadata": {},
   "outputs": [],
   "source": [
    "### BEGIN SOLUTION\n",
    "# Create a function c_to_f that converts a temperature in degrees Celsius \n",
    "# to degrees Farenheit\n",
    "def c_to_f(temp_c):\n",
    "    \"\"\"(float or int) -> float\n",
    "    This function converts a temperature in degrees Celsius to degrees Farenheit\n",
    "    Using the following equation:\n",
    "    temp_f = (temp_c *(9/5)) + 32\n",
    "    \n",
    "    >>> c_to_f(100.0)\n",
    "    212.0\n",
    "    \n",
    "    >>> c_to_f(0.0)\n",
    "    32.0\n",
    "    \n",
    "    >>> c_to_f(37.0)\n",
    "    98.6\n",
    "    \"\"\"\n",
    "    \n",
    "    # Test if the input is a float or integer\n",
    "    if (type(temp_c) != int) or (type(temp_c) != float):\n",
    "        raise TypeError(\"Please enter a number (float or integer)\") \n",
    "    \n",
    "    # If TypeError is not raised, the input temperature must be a number. Proceed.\n",
    "    # Convert the temperature using the equation above\n",
    "    temp_f = (temp_c *(9/5)) + 32\n",
    "    \n",
    "    # return the temperature in farenheit\n",
    "    return temp_f\n",
    "\n",
    "### END SOLUTION"
   ]
  },
  {
   "cell_type": "code",
   "execution_count": 74,
   "metadata": {},
   "outputs": [
    {
     "data": {
      "text/plain": [
       "int"
      ]
     },
     "execution_count": 74,
     "metadata": {},
     "output_type": "execute_result"
    }
   ],
   "source": [
    "type(100)"
   ]
  },
  {
   "cell_type": "code",
   "execution_count": 72,
   "metadata": {},
   "outputs": [
    {
     "name": "stdout",
     "output_type": "stream",
     "text": [
      "Finding tests in NoName\n",
      "Trying:\n",
      "    c_to_f(100.0)\n",
      "Expecting:\n",
      "    212.0\n",
      "**********************************************************************\n",
      "File \"__main__\", line 10, in NoName\n",
      "Failed example:\n",
      "    c_to_f(100.0)\n",
      "Exception raised:\n",
      "    Traceback (most recent call last):\n",
      "      File \"/opt/tljh/user/lib/python3.6/doctest.py\", line 1330, in __run\n",
      "        compileflags, 1), test.globs)\n",
      "      File \"<doctest NoName[0]>\", line 1, in <module>\n",
      "        c_to_f(100.0)\n",
      "      File \"<ipython-input-71-587005f1af12>\", line 22, in c_to_f\n",
      "        raise TypeError(\"Please enter a number (float or integer)\")\n",
      "    TypeError: Please enter a number (float or integer)\n",
      "Trying:\n",
      "    c_to_f(0.0)\n",
      "Expecting:\n",
      "    32.0\n",
      "**********************************************************************\n",
      "File \"__main__\", line 13, in NoName\n",
      "Failed example:\n",
      "    c_to_f(0.0)\n",
      "Exception raised:\n",
      "    Traceback (most recent call last):\n",
      "      File \"/opt/tljh/user/lib/python3.6/doctest.py\", line 1330, in __run\n",
      "        compileflags, 1), test.globs)\n",
      "      File \"<doctest NoName[1]>\", line 1, in <module>\n",
      "        c_to_f(0.0)\n",
      "      File \"<ipython-input-71-587005f1af12>\", line 22, in c_to_f\n",
      "        raise TypeError(\"Please enter a number (float or integer)\")\n",
      "    TypeError: Please enter a number (float or integer)\n",
      "Trying:\n",
      "    c_to_f(37.0)\n",
      "Expecting:\n",
      "    98.6\n",
      "**********************************************************************\n",
      "File \"__main__\", line 16, in NoName\n",
      "Failed example:\n",
      "    c_to_f(37.0)\n",
      "Exception raised:\n",
      "    Traceback (most recent call last):\n",
      "      File \"/opt/tljh/user/lib/python3.6/doctest.py\", line 1330, in __run\n",
      "        compileflags, 1), test.globs)\n",
      "      File \"<doctest NoName[2]>\", line 1, in <module>\n",
      "        c_to_f(37.0)\n",
      "      File \"<ipython-input-71-587005f1af12>\", line 22, in c_to_f\n",
      "        raise TypeError(\"Please enter a number (float or integer)\")\n",
      "    TypeError: Please enter a number (float or integer)\n"
     ]
    }
   ],
   "source": [
    "import doctest\n",
    "doctest.run_docstring_examples(c_to_f, globals(), verbose=True)"
   ]
  },
  {
   "cell_type": "markdown",
   "metadata": {},
   "source": [
    "---\n",
    "\n",
    "## Check your work above\n",
    "\n",
    "If you didn't get them all correct, take a few minutes to think through those that aren't correct.\n",
    "\n",
    "\n",
    "## Submitting Your Work\n",
    "\n",
    "In order to submit your work, you'll need to use the `git` command line program to **add** your homework file (this file) to your local repository, **commit** your changes to your local repository, and then **push** those changes up to github.com.  From there, I'll be able to **pull** the changes down and do my grading.  I'll provide some feedback, **commit** and **push** my comments back to you.  Next week, I'll show you how to **pull** down my comments.\n",
    "\n",
    "To run through everything one last time and submit your work:\n",
    "1. Use the `Kernel` -> `Restart Kernel and Run All Cells` menu option to run everything from top to bottom and stop here.\n",
    "2. Follow the instruction on the prompt below to either ssave and submit your work, or continue working.\n",
    "\n",
    "If anything fails along the way with this submission part of the process, let me know.  I'll help you troubleshoort."
   ]
  },
  {
   "cell_type": "markdown",
   "metadata": {},
   "source": [
    "---"
   ]
  },
  {
   "cell_type": "code",
   "execution_count": null,
   "metadata": {
    "jupyter": {
     "source_hidden": true
    }
   },
   "outputs": [],
   "source": [
    "a=input('''\n",
    "Are you ready to submit your work?\n",
    "1. Click the Save icon (or do Ctrl-S / Cmd-S)\n",
    "2. Type \"yes\" or \"no\" below\n",
    "3. Press Enter\n",
    "\n",
    "''')\n",
    "\n",
    "if a=='yes':\n",
    "    !git add week05_assignment_2.ipynb\n",
    "    !git commit -a -m \"Submitting the week 5 programming exercises\"\n",
    "    !git push\n",
    "else:\n",
    "    print('''\n",
    "    \n",
    "OK. We can wait.\n",
    "''')"
   ]
  },
  {
   "cell_type": "markdown",
   "metadata": {},
   "source": [
    "\n",
    "---\n",
    "\n",
    "If the message above says something like _Submitting the week 3 review exercises_ or _Everything is up to date_, then your work was submitted correctly."
   ]
  },
  {
   "cell_type": "code",
   "execution_count": null,
   "metadata": {},
   "outputs": [],
   "source": []
  }
 ],
 "metadata": {
  "celltoolbar": "Create Assignment",
  "kernelspec": {
   "display_name": "Python 3",
   "language": "python",
   "name": "python3"
  },
  "language_info": {
   "codemirror_mode": {
    "name": "ipython",
    "version": 3
   },
   "file_extension": ".py",
   "mimetype": "text/x-python",
   "name": "python",
   "nbconvert_exporter": "python",
   "pygments_lexer": "ipython3",
   "version": "3.6.7"
  }
 },
 "nbformat": 4,
 "nbformat_minor": 2
}
