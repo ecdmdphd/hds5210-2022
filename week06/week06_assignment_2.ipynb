{
 "cells": [
  {
   "cell_type": "markdown",
   "metadata": {
    "nbgrader": {
     "grade": false,
     "grade_id": "intro",
     "locked": true,
     "schema_version": 1,
     "solution": false
    }
   },
   "source": [
    "# Week 6 Exercises\n",
    "\n",
    "_McKinney 6.1_\n",
    "\n",
    "There are multiple ways to solve the problems below.  You can use any one of several approaches.  For example, you can read CSV files using Pandas or the csv module.  Your score won't depend on which modules you choose to use unless explicitly noted below, but your programming style will still matter."
   ]
  },
  {
   "cell_type": "markdown",
   "metadata": {
    "nbgrader": {
     "grade": false,
     "grade_id": "q1-description",
     "locked": true,
     "schema_version": 1,
     "solution": false
    }
   },
   "source": [
    "### 30.1 List of Allergies\n",
    "\n",
    "In the /data directory on the Jupyter server, there is a file called `allergies.json` that contains a list of patient allergies.  It is taken from sample data provided by the EHR vendor, Epic, here: https://open.epic.com/Clinical/Allergy\n",
    "\n",
    "Take some time to look at the structure of the file.  You can open it directly in Jupyter by clicking the _Home_ icon, then the _from_instructor_ folder, and then the _data_ folder.\n",
    "\n",
    "Within the file, you'll see that it is a dictionary with many items in it.  One of those items is called `entry` and that item is a list of things.  You can tell that because the item name is immediately followed by an opening square bracket, signifying the start of a list.  It's line 11 of the file: `  \"entry\": [`\n",
    "\n",
    "Write a function named `allergy_count(json_file)` that takes as one parameter the name of the JSON file and returns an integer number of entries in that file.  Your function should open the file, read the json into a Python object, and return how many items there are in the list of `entry`s."
   ]
  },
  {
   "cell_type": "code",
   "execution_count": 1,
   "metadata": {},
   "outputs": [],
   "source": [
    "import json\n",
    "from pathlib import Path\n",
    "HOME = str(Path.home())\n",
    "\n",
    "ALLERGIES_FILE=\"/data/allergies.json\""
   ]
  },
  {
   "cell_type": "code",
   "execution_count": 2,
   "metadata": {
    "nbgrader": {
     "grade": false,
     "grade_id": "q1-answer",
     "locked": false,
     "schema_version": 1,
     "solution": true
    }
   },
   "outputs": [],
   "source": [
    "### BEGIN SOLUTION\n",
    "# define the function\n",
    "def allergy_count(json_file):\n",
    "    '''(file path) -> int\n",
    "    This function finds the key \"entry\" in a JSON file and counts the number of items in the corresponding value (assumed to be a list). \n",
    "    This value is returned as an integer. The JSON file input is assumed to be a working file directory.\n",
    "    \n",
    "    >>> allergy_count(ALLERGIES_FILE)\n",
    "    4\n",
    "    '''\n",
    "    # Initialize the return variable\n",
    "    count = -1\n",
    "    \n",
    "    # Read in the JSON file and assign to an object, allergies\n",
    "    with open(json_file) as f:\n",
    "        allergies = json.load(f)\n",
    "    \n",
    "    # Retrieve the contents of the \"entry\" object and assign to a file\n",
    "    entry = allergies.get(\"entry\")\n",
    "    \n",
    "    # Count the length of the \"entry\" object\n",
    "    # convert the length to an integer\n",
    "    # Assign the integer-length to the return variable\n",
    "    count = int(len(entry))\n",
    "    \n",
    "    # Return the integer of the count\n",
    "    return count\n",
    "### END SOLUTION"
   ]
  },
  {
   "cell_type": "code",
   "execution_count": 3,
   "metadata": {},
   "outputs": [
    {
     "name": "stdout",
     "output_type": "stream",
     "text": [
      "Finding tests in NoName\n",
      "Trying:\n",
      "    allergy_count(ALLERGIES_FILE)\n",
      "Expecting:\n",
      "    4\n",
      "ok\n"
     ]
    }
   ],
   "source": [
    "# Test the docstring case\n",
    "# import the doctest module\n",
    "import doctest\n",
    "\n",
    "# run the docstring examples to test\n",
    "doctest.run_docstring_examples(allergy_count, globals(), verbose = True)"
   ]
  },
  {
   "cell_type": "code",
   "execution_count": 4,
   "metadata": {},
   "outputs": [
    {
     "data": {
      "text/plain": [
       "4"
      ]
     },
     "execution_count": 4,
     "metadata": {},
     "output_type": "execute_result"
    }
   ],
   "source": [
    "allergy_count(ALLERGIES_FILE)"
   ]
  },
  {
   "cell_type": "code",
   "execution_count": 5,
   "metadata": {
    "nbgrader": {
     "grade": true,
     "grade_id": "q1-tests",
     "locked": true,
     "points": 5,
     "schema_version": 1,
     "solution": false
    }
   },
   "outputs": [],
   "source": [
    "assert type(allergy_count(ALLERGIES_FILE)) == int\n",
    "assert allergy_count(ALLERGIES_FILE) == 4"
   ]
  },
  {
   "cell_type": "markdown",
   "metadata": {},
   "source": [
    "### 30.2 Number of Patients\n",
    "\n",
    "If you dig a little bit deaper into this list of allergies, you'll see that each result has a patient associated with it.  Create a funcation called `patient_count(json_file)` that will count how many unique patients we have in this JSON structure.  "
   ]
  },
  {
   "cell_type": "code",
   "execution_count": 6,
   "metadata": {},
   "outputs": [],
   "source": [
    "### BEGIN SOLUTION\n",
    "# Define the function\n",
    "def patient_count(json_file):\n",
    "    '''(file path) -> int\n",
    "    This file takes a file path as an input (with assumption the file path leads to a json file)\n",
    "    and returns an integer count of the unique patients in the JSON file. The structure of the file \n",
    "    is assumed to be that of the allergies.json file provided.\n",
    "    \n",
    "    The key \"entry\" is a list where each item in the list is a dictionary containing the key \"resource.\"\n",
    "    This key (\"resource\") corresponds to a dictionary with the key \"patient,\" a dictionary with the key\n",
    "    \"display\" which corresponds to a string value of the patient's name. A unique name is assumed to indicate\n",
    "    a unique patient.\n",
    "    \n",
    "    >>> patient_count(ALLERGIES_FILE)\n",
    "    2\n",
    "    '''\n",
    "    \n",
    "    # Initialize a list to store the unique patient names\n",
    "    names = []\n",
    "    \n",
    "    # Open the file path and assign the file contents to an object\n",
    "    with open(json_file) as f:\n",
    "        allergies = json.load(f)\n",
    "        \n",
    "    # Assign the value of the \"entry\" key object to a variable\n",
    "    entries = allergies.get(\"entry\")\n",
    "    \n",
    "    # For all of the entries in the list \"entry\"\n",
    "    for entry in entries:\n",
    "        # Retrieve the value of the key \"resource\" key from the \"entry\" dictionary\n",
    "        resource = entry.get(\"resource\")\n",
    "        # Retrieve the value of the \"patient\" key\n",
    "        patient = resource.get(\"patient\")\n",
    "        # Retrieve the value of the \"display\" key\n",
    "        display_name = patient.get(\"display\")\n",
    "        # If the value of the \"display\" key is not already in the list of\n",
    "        # patient names, append the value of the \"display\" key to the list\n",
    "        if display_name not in names:\n",
    "            names.append(display_name)\n",
    "            # Else, pass (implied)\n",
    "    \n",
    "    # Assign the length of the list names, formatted as an integer, to the return variable\n",
    "    patients = int(len(names))\n",
    "    \n",
    "    # Return the count of unique patients\n",
    "    return patients\n",
    "### END SOLUTION"
   ]
  },
  {
   "cell_type": "code",
   "execution_count": 7,
   "metadata": {},
   "outputs": [
    {
     "name": "stdout",
     "output_type": "stream",
     "text": [
      "Finding tests in NoName\n",
      "Trying:\n",
      "    patient_count(ALLERGIES_FILE)\n",
      "Expecting:\n",
      "    2\n",
      "ok\n"
     ]
    }
   ],
   "source": [
    "# Test the docstring case\n",
    "# import the doctest module\n",
    "import doctest\n",
    "\n",
    "# run the docstring examples to test\n",
    "doctest.run_docstring_examples(patient_count, globals(), verbose = True)"
   ]
  },
  {
   "cell_type": "code",
   "execution_count": 8,
   "metadata": {},
   "outputs": [
    {
     "data": {
      "text/plain": [
       "2"
      ]
     },
     "execution_count": 8,
     "metadata": {},
     "output_type": "execute_result"
    }
   ],
   "source": [
    "patient_count(ALLERGIES_FILE)"
   ]
  },
  {
   "cell_type": "markdown",
   "metadata": {},
   "source": [
    "### 30.3 How Many Allergies per Patient\n",
    "\n",
    "Although each entry is a separate allergy, several of them are for the same patient.  Write a function called `allergy_per_patient(json_file)` that counts up how many allergies each patient has.\n"
   ]
  },
  {
   "cell_type": "code",
   "execution_count": 17,
   "metadata": {},
   "outputs": [],
   "source": [
    "### BEGIN SOLUTION\n",
    "# Define the function\n",
    "def allergy_per_patient(json_file):\n",
    "    ''' (file path) -> dict\n",
    "    This function takes a file path as an input, with the assumption that file path maps to a JSON file\n",
    "    with a similar structure to allergies.json, and returns a dictionary with the patient name\n",
    "    and the number of allergies that patient has recorded in the file.\n",
    "    \n",
    "    The key \"entry\" is a list where each item in the list is a dictionary containing the key \"resource.\"\n",
    "    This key (\"resource\") corresponds to a dictionary with the key \"patient,\" a dictionary with the key\n",
    "    \"display\" which corresponds to a string value of the patient's name. A unique name is assumed to indicate\n",
    "    a unique patient. The key \"resource\" also contains a key \"substance\" which is a dictionary with the \n",
    "    key \"substance,\"\" another dictionary. The dictionary value of \"substance\" contains the key \"text\" with\n",
    "    a string value of the allergen. There is assumed to be one entry for each unique allergen.\n",
    "    \n",
    "    >>> allergy_per_patient(ALLERGIES_FILE)\n",
    "    {'Jason Argonaut': 3, 'Paul Boal': 1}\n",
    "    '''\n",
    "    # Initialize a dictionary for the final result\n",
    "    patient_allergies = {}\n",
    "    \n",
    "        \n",
    "    # Open the file path and assign the file contents to an object\n",
    "    with open(json_file) as f:\n",
    "        allergies = json.load(f)\n",
    "        \n",
    "    # Assign the value of the \"entry\" key object to a variable\n",
    "    entries = allergies.get(\"entry\")\n",
    "    \n",
    "    # For all of the entries in the list \"entry\"\n",
    "    for entry in entries:\n",
    "        # Retrieve the value of the key \"resource\" key from the \"entry\" dictionary\n",
    "        resource = entry.get(\"resource\")\n",
    "        \n",
    "        # Retrieve the value of the \"patient\" key from the resource\n",
    "        patient = resource.get(\"patient\")\n",
    "        \n",
    "        # Retrieve the value of the \"display\" key from the patient\n",
    "        display_name = patient.get(\"display\")\n",
    "        \n",
    "        # If the patient name is not already a key in the dictionary\n",
    "        if display_name not in patient_allergies:\n",
    "            allergy_count = 0\n",
    "            # Create a new dictionary entry with patient name as key and a count of allergens as the value\n",
    "            patient_allergies.setdefault(display_name, allergy_count)\n",
    "            \n",
    "        # If the patient is in the patient_allergies dictionary, retreive the current value\n",
    "        # of the allergy count and increment the allergy count by 1\n",
    "        patient_allergies[display_name] = (patient_allergies.get(display_name) + 1)\n",
    "    \n",
    "    # Return the dictionary of patient names and allergy count\n",
    "    return patient_allergies\n",
    "        \n",
    "### END SOLUTION"
   ]
  },
  {
   "cell_type": "code",
   "execution_count": 18,
   "metadata": {},
   "outputs": [
    {
     "data": {
      "text/plain": [
       "{'Jason Argonaut': 3, 'Paul Boal': 1}"
      ]
     },
     "execution_count": 18,
     "metadata": {},
     "output_type": "execute_result"
    }
   ],
   "source": [
    "allergy_per_patient(ALLERGIES_FILE)"
   ]
  },
  {
   "cell_type": "markdown",
   "metadata": {
    "nbgrader": {
     "grade": false,
     "grade_id": "q2-question",
     "locked": true,
     "schema_version": 1,
     "solution": false
    }
   },
   "source": [
    "### 30.4 Patient Allergies and Reaction\n",
    "\n",
    "You'll see in the file that each of the items in the `entry` list have several other attributes including a patient name, substance text representation, and a reaction manifestation.  Create a function named `allergy_list(json_file)` that will create an output list that has patient name, allergy, and reaction for each `entry`.  The actual result you should get will be:\n",
    "\n",
    "```python\n",
    "[['Jason Argonaut', 'PENICILLIN G', 'Hives'],\n",
    " ['Paul Boal', 'PENICILLIN G', 'Bruising'],\n",
    " ['Jason Argonaut', 'SHELLFISH-DERIVED PRODUCTS', 'Itching'],\n",
    " ['Jason Argonaut', 'STRAWBERRY', 'Anaphylaxis']]\n",
    "```\n",
    "\n",
    "You'll notice that the reaction and the manifestation of that action are lists.  You only need to capture the first reaction and the first manifestation of the action.  That is, if there is a list of things, just output the first one."
   ]
  },
  {
   "cell_type": "code",
   "execution_count": 19,
   "metadata": {
    "nbgrader": {
     "grade": false,
     "grade_id": "q2-answer",
     "locked": false,
     "schema_version": 1,
     "solution": true
    }
   },
   "outputs": [],
   "source": [
    "import json\n",
    "\n",
    "### BEGIN SOLUTION\n",
    "# Define the function\n",
    "def allergy_list(json_file):\n",
    "    ''' (file path) -> list\n",
    "    This function takes a file path as an input, with the assumption that file path maps to a JSON file\n",
    "    with a similar structure to allergies.json, and returns a list, where each item corresponds to a list with \n",
    "    the following format: [\"patient name\", \"allergen\", \"reaction\"].\n",
    "    \n",
    "    The key \"entry\" is a list where each item in the list is a dictionary containing the key \"resource.\"\n",
    "    This key (\"resource\") corresponds to a dictionary with the key \"patient,\" a dictionary with the key\n",
    "    \"display\" which corresponds to a string value of the patient's name. A unique name is assumed to indicate\n",
    "    a unique patient. The key \"resource\" also contains a key \"substance\" which is a dictionary with the \n",
    "    key \"substance,\"\" another dictionary. The dictionary value of \"substance\" contains the key \"text\" with\n",
    "    a string value of the allergen. There is assumed to be one entry for each unique allergen. The key \"resource\"\n",
    "    also contains a key \"reaction\" , which is a list with a dictionary including the key \"manifestation,\" which\n",
    "    corresponds to a list containing a description the reaction (\"text\"). Only the first reaction is captured\n",
    "    by the function. \n",
    "    '''\n",
    "    # Initialize a list for the final result\n",
    "    allergy_list = []\n",
    "    \n",
    "        \n",
    "    # Open the file path and assign the file contents to an object\n",
    "    with open(json_file) as f:\n",
    "        allergies = json.load(f)\n",
    "        \n",
    "    # Assign the value of the \"entry\" key object to a variable\n",
    "    entries = allergies.get(\"entry\")\n",
    "    \n",
    "    # For all of the entries in the list \"entry\"\n",
    "    for entry in entries:\n",
    "        # Retrieve the value of the key \"resource\" key from the \"entry\" dictionary\n",
    "        resource = entry.get(\"resource\")\n",
    "        \n",
    "        # Retrieve the value of the \"patient\" key from the resource\n",
    "        patient = resource.get(\"patient\")\n",
    "        \n",
    "        # Retrieve the value of the \"display\" key from the patient\n",
    "        display_name = patient.get(\"display\")\n",
    "        \n",
    "        # Retrieve the value of the \"substance\" key from the resource\n",
    "        substance = resource.get(\"substance\")\n",
    "        \n",
    "        # Retrieve the value of the \"text\" key from the substance\n",
    "        allergen = substance.get(\"text\")\n",
    "        \n",
    "        # Retrieve the value of the \"reaction\" key from the resource\n",
    "        reaction_list = resource.get(\"reaction\")\n",
    "        \n",
    "        # Retrieve the first reaction from the reaction list\n",
    "        first_reaction = reaction_list[0]\n",
    "        \n",
    "        # Retrieve the value of the key \"manifestation\" from the first_reaction dictionary\n",
    "        manifestation_list = first_reaction.get(\"manifestation\")\n",
    "        \n",
    "        # Retrieve the first manifestation from the manifestation list\n",
    "        first_manifestation = manifestation_list[0]\n",
    "        \n",
    "        # Retrieve the value of the key \"text\" from the first_manifestation dictionary\n",
    "        description = first_manifestation.get(\"text\")\n",
    "        \n",
    "        # Append a new entry to the allergy_list - this will be a list of the patient's name, allergen, and \n",
    "        # reaction description\n",
    "        allergy_list.append([display_name, allergen, description])\n",
    "    \n",
    "    # Return the allergy_list\n",
    "    return allergy_list\n",
    "    \n",
    "### END SOLUTION"
   ]
  },
  {
   "cell_type": "code",
   "execution_count": 20,
   "metadata": {
    "nbgrader": {
     "grade": true,
     "grade_id": "q2-tests",
     "locked": true,
     "points": 10,
     "schema_version": 1,
     "solution": false
    }
   },
   "outputs": [],
   "source": [
    "output=[['Jason Argonaut', 'PENICILLIN G', 'Hives'],\n",
    " ['Paul Boal', 'PENICILLIN G', 'Bruising'],\n",
    " ['Jason Argonaut', 'SHELLFISH-DERIVED PRODUCTS', 'Itching'],\n",
    " ['Jason Argonaut', 'STRAWBERRY', 'Anaphylaxis']]\n",
    "\n",
    "assert allergy_list(ALLERGIES_FILE) == output\n"
   ]
  },
  {
   "cell_type": "markdown",
   "metadata": {
    "nbgrader": {
     "grade": false,
     "grade_id": "q3-question",
     "locked": true,
     "schema_version": 1,
     "solution": false
    }
   },
   "source": [
    "### 30.5 Allergy Reaction\n",
    "\n",
    "Write a function called `allergy_reaction(json_file,patient,substance)` that takes three parameter and returns the reaction that will happen if the patient takes the specified substance.  Solve this, in part, by calling your `allergy_list` function inside your new `allergy_reaction` function.\n",
    "\n",
    "If the substance is not found in the allergy list, the function should return None."
   ]
  },
  {
   "cell_type": "code",
   "execution_count": 25,
   "metadata": {
    "nbgrader": {
     "grade": false,
     "grade_id": "q3-answer",
     "locked": false,
     "schema_version": 1,
     "solution": true
    }
   },
   "outputs": [],
   "source": [
    "import json\n",
    "\n",
    "### BEGIN SOLUTION\n",
    "# Define the function\n",
    "def allergy_reaction(json_file, patient, substance):\n",
    "    ''' (file path, str, str) -> str\n",
    "    This function takes a file path, patient name, and substance inputs, with the assumption that file path maps to a JSON file\n",
    "    with a similar structure to allergies.json. The output is a string, corresponding to a description of an \n",
    "    allergic reaction. This function calls on the function allergy_list (see help documentation for a description).\n",
    "    \n",
    "    Given the file with the allergy information, patient name, and substance, the function first determines\n",
    "    whether the patient given has a documented allergy to that substance. If so, the function returns\n",
    "    the patient's documented reaction to that substance. If not, the function returns None.\n",
    "    '''\n",
    "    # Initialize a return variable as a None Type object\n",
    "    reaction = None  \n",
    " \n",
    "    # Call the function allergy_list, providing the json_file as input\n",
    "    listed_allergies = allergy_list(json_file)\n",
    "    \n",
    "    # Each item in the allergy_list has the following format: [\"patient name\", \"allergen\", \"reaction\"]\n",
    "    # Iterate through all the items in the allergy_list\n",
    "    for item in listed_allergies:\n",
    "        # If the patient provided has a documented allergy to the substance provided\n",
    "        if (item[0] == patient) and (item[1] == substance):\n",
    "            # assign the reaction to a return variable\n",
    "            reaction = item[2]\n",
    "        # If the patient provided does not have a documented allergy to the substance provided\n",
    "        # The return variable will remain None\n",
    "    \n",
    "    # Return the reaction indicator\n",
    "    return reaction\n",
    "        \n",
    "### END SOLUTION"
   ]
  },
  {
   "cell_type": "code",
   "execution_count": 26,
   "metadata": {
    "nbgrader": {
     "grade": true,
     "grade_id": "q3-tests",
     "locked": true,
     "points": 5,
     "schema_version": 1,
     "solution": false
    }
   },
   "outputs": [],
   "source": [
    "assert allergy_reaction(ALLERGIES_FILE, 'Jason Argonaut', 'PENICILLIN G') == 'Hives'\n",
    "assert allergy_reaction(ALLERGIES_FILE, 'Jason Argonaut', 'SHELLFISH-DERIVED PRODUCTS') == 'Itching'\n",
    "assert allergy_reaction(ALLERGIES_FILE, 'Jason Argonaut', 'STRAWBERRY') == 'Anaphylaxis'\n",
    "assert allergy_reaction(ALLERGIES_FILE, 'Jason Argonaut', 'PENICILLIN') == None\n",
    "assert allergy_reaction(ALLERGIES_FILE, 'Paul Boal', 'PENICILLIN G') == 'Bruising'"
   ]
  },
  {
   "cell_type": "markdown",
   "metadata": {},
   "source": [
    "---\n",
    "---\n",
    "\n",
    "# Stretch (Extra) Problems\n",
    "\n",
    "Work on either of the stretch problems below can earn you up to 25 free points toward the midterm assignment.  That is, if you complete one of these extra problems successfully, you can skip 1 of the problems that will appear on the midterm exam coming up next week.\n",
    "\n",
    "The midterm will be distribute this Saturday 3/13.\n",
    "\n",
    "This assignment is due on Sunday 3/14.  If you are trying for one of these extra problems Slack me, and I'll provide you feedback on how you did on these before end of day Monday 3/15.  That way you can choose what to complete on the midterm.\n"
   ]
  },
  {
   "cell_type": "markdown",
   "metadata": {},
   "source": [
    "---\n",
    "---\n",
    "\n",
    "### STRETCH for March 2021 - For those looking for an additional challenge\n",
    "\n",
    "As I've mentioned in class, CMS is now enforcing a rule around price transparency.  Every facility that take Medicare payments is required to publish a \"machine readable\" file with it's pricing infomration for a number of common procedures across all of the payers they work with.  There are two examples of such files in the `/data/` directory: `whiteriver.json` and `saline.xml`.\n",
    "\n",
    "If you want to compare contracted prices across these two hospitals, you'll need to read in the information from both of those files into some kind of data structure, then merge the data together from those two files.  See what you can do.\n",
    "\n",
    "See if you can create an output file that has the following fields:\n",
    "* HOSPITAL\n",
    "* PROCEDURE_CODE\n",
    "* PAYER\n",
    "* AMOUNT\n",
    "\n",
    "If you choose to work on this, you may get stuck at some point and you won't know if you're _doing it right_. Make some assumptions. Document your questions in this notebook.\n",
    "\n"
   ]
  },
  {
   "cell_type": "markdown",
   "metadata": {},
   "source": [
    "```\n",
    "Procedure Code |  Description  |  Gross Charges  |  Aetna  |  QualChoice\n",
    "```"
   ]
  },
  {
   "cell_type": "markdown",
   "metadata": {},
   "source": [
    "---\n",
    "---\n",
    "\n",
    "### STRETCH from March 2020 - For those looking for an additional challenge\n",
    "\n",
    "The Coronavirus is creating quite the stir right now.  There are some sources suggesting that trends show it is going to be significantly more serious than SARS was back in the 2002 timeframe.  Here's one visualization trying to demonstrate that: https://www.reddit.com/r/China_Flu/comments/ev2b4v/i_updated_some_charts_comparing_this_outbreak/\n",
    "\n",
    "Someone on Kaggle has generously already compiled a dataset based on information from Johns Hopkins about the Coronavirus outbreak.  https://www.kaggle.com/brendaso/2019-coronavirus-dataset-01212020-01262020  Create a Kaggle account, if you don't already have one.  Download this data set and then upload it to your Jupyter Home folder.  (The \"up arrow\" button is for uploading a file.)\n",
    "\n",
    "Use Python's built-in `csv` module to read the data from this file and generate the following information: **what are the total confirmed cases in all of Mainland China as of the latest information in the data set?**  Some important things to note:\n",
    "* Each entry for a given city has the **cumulative** number of cases.  So that column is not additive (it cannot be summed).  You'll have to find a way to filter your data for the last day for each city, then total those up.\n",
    "* If you choose to parse the date column, you will want to lookup how to do that using Python's `datetime` module.  Especially the `strptime` function.  https://docs.python.org/3/library/datetime.html#strftime-strptime-behavior  Hint: you can parse a date string in the format 2/17/2020 using the code below.  This link will tell you what things like `%m` and `%Y` mean.\n",
    "\n",
    "```\n",
    "from datetime import datetime\n",
    "d = datetime.strptime('2/17/2020', '%m/%d/%Y')\n",
    "```\n",
    "\n",
    "If you want to take this another step, **create a list of tuples that contain (observate date, total confirmed) totalled over all locations represented in the data**"
   ]
  },
  {
   "cell_type": "code",
   "execution_count": null,
   "metadata": {},
   "outputs": [],
   "source": []
  },
  {
   "cell_type": "markdown",
   "metadata": {},
   "source": [
    "---\n",
    "\n",
    "## Check your work above\n",
    "\n",
    "If you didn't get them all correct, take a few minutes to think through those that aren't correct.\n",
    "\n",
    "\n",
    "## Submitting Your Work\n",
    "\n",
    "In order to submit your work, you'll need to use the `git` command line program to **add** your homework file (this file) to your local repository, **commit** your changes to your local repository, and then **push** those changes up to github.com.  From there, I'll be able to **pull** the changes down and do my grading.  I'll provide some feedback, **commit** and **push** my comments back to you.  Next week, I'll show you how to **pull** down my comments.\n",
    "\n",
    "To run through everything one last time and submit your work:\n",
    "1. Use the `Kernel` -> `Restart Kernel and Run All Cells` menu option to run everything from top to bottom and stop here.\n",
    "2. Follow the instruction on the prompt below to either ssave and submit your work, or continue working.\n",
    "\n",
    "If anything fails along the way with this submission part of the process, let me know.  I'll help you troubleshoort."
   ]
  },
  {
   "cell_type": "markdown",
   "metadata": {},
   "source": [
    "---"
   ]
  },
  {
   "cell_type": "code",
   "execution_count": null,
   "metadata": {
    "jupyter": {
     "source_hidden": true
    }
   },
   "outputs": [],
   "source": [
    "a=input('''\n",
    "Are you ready to submit your work?\n",
    "1. Click the Save icon (or do Ctrl-S / Cmd-S)\n",
    "2. Type \"yes\" or \"no\" below\n",
    "3. Press Enter\n",
    "\n",
    "''')\n",
    "\n",
    "if a=='yes':\n",
    "    !git add week06_assignment_2.ipynb\n",
    "    !git commit -a -m \"Submitting the week 6 programming exercises\"\n",
    "    !git push\n",
    "else:\n",
    "    print('''\n",
    "    \n",
    "OK. We can wait.\n",
    "''')"
   ]
  },
  {
   "cell_type": "markdown",
   "metadata": {},
   "source": [
    "\n",
    "---\n",
    "\n",
    "If the message above says something like _Submitting the week 3 review exercises_ or _Everything is up to date_, then your work was submitted correctly."
   ]
  },
  {
   "cell_type": "code",
   "execution_count": null,
   "metadata": {},
   "outputs": [],
   "source": []
  }
 ],
 "metadata": {
  "celltoolbar": "Create Assignment",
  "kernelspec": {
   "display_name": "Python 3",
   "language": "python",
   "name": "python3"
  },
  "language_info": {
   "codemirror_mode": {
    "name": "ipython",
    "version": 3
   },
   "file_extension": ".py",
   "mimetype": "text/x-python",
   "name": "python",
   "nbconvert_exporter": "python",
   "pygments_lexer": "ipython3",
   "version": "3.6.7"
  }
 },
 "nbformat": 4,
 "nbformat_minor": 2
}
