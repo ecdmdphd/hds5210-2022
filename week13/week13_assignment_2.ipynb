{
 "cells": [
  {
   "cell_type": "markdown",
   "metadata": {
    "nbgrader": {
     "grade": false,
     "grade_id": "cell-fc1c39d0d6f8b82a",
     "locked": true,
     "schema_version": 1,
     "solution": false
    }
   },
   "source": [
    "# Week 13 Programming Assignment\n",
    "\n",
    "As you're working on identifying data for your final project, it's helpful to spend some time exploring your various data files.  For this week's assignment, I'd like you to take a few of the ideas from the the lectures, review assignment, and tonight's lecture to start exploring the data you plan to use for the final project.\n",
    "\n",
    "For the following activities, you can use just one of the data files that you've identified, or you can do the activities using different data files.  That's up to you.  Please describe what you're doing in a Markdown cell or in the comments of your code.  When you've completed the assignment, submit it as normal."
   ]
  },
  {
   "cell_type": "markdown",
   "metadata": {},
   "source": [
    "### 1. Basic Statistics\n",
    "\n",
    "Use Python to read in your data file and show many rows and columns your data has."
   ]
  },
  {
   "cell_type": "code",
   "execution_count": 28,
   "metadata": {},
   "outputs": [],
   "source": [
    "import pandas as pd\n",
    "\n",
    "# Read in tsv file from SWAN data\n",
    "SWAN = pd.read_csv('32961-0001-Data.tsv', sep = '\\t')\n",
    "\n",
    "# Read in SAS file from NHANES \n",
    "NHANES_osteoporosis = pd.read_sas('OSQ_E.XPT')"
   ]
  },
  {
   "cell_type": "code",
   "execution_count": 9,
   "metadata": {},
   "outputs": [
    {
     "data": {
      "text/plain": [
       "<bound method NDFrame.head of       SWANID  VISIT AGE10 INTDAY10 LANGINT10 PRGNAN10 ANTICO110 ACOATW110  \\\n",
       "0      10046     10    62     3768         1        1         1        -1   \n",
       "1      10056     10    61     3660         1        1         1        -1   \n",
       "2      10153     10    61     3635         1        1         1        -1   \n",
       "3      10196     10    56     3634         1        1         1        -1   \n",
       "4      10245     10    57     3612         1        1         1        -1   \n",
       "...      ...    ...   ...      ...       ...      ...       ...       ...   \n",
       "2240   99805     10    52     3661         1        1         1        -1   \n",
       "2241   99809     10    53     3624         1        1         1        -1   \n",
       "2242   99888     10    58     3661         1        1         1        -1   \n",
       "2243   99898     10    55     3626         1        1         1        -1   \n",
       "2244   99962     10    57     3647         3        1         1        -1   \n",
       "\n",
       "     ANTICO210 ACOATW210  ...        TBWNHAN10        FFMNHAN10  \\\n",
       "0           -1        -1  ...  37.948159459459  49.867257297297   \n",
       "1           -1        -1  ...  29.231053187919  39.060639597315   \n",
       "2           -1        -1  ...  35.292138407494  45.621390070258   \n",
       "3           -1        -1  ...   26.18823317757  35.091765981308   \n",
       "4           -1        -1  ...  34.079366176471  46.688702352941   \n",
       "...        ...       ...  ...              ...              ...   \n",
       "2240        -1        -1  ...  32.674415544041  43.928784041451   \n",
       "2241        -1        -1  ...  37.695115384615  49.913391794872   \n",
       "2242        -1        -1  ...  31.425286725664  41.864915469027   \n",
       "2243        -1        -1  ...  53.326535211268  71.943321126761   \n",
       "2244        -1        -1  ...   27.86304244186  38.410686976744   \n",
       "\n",
       "            TBFNHAN10        PBFNHAN10 MISSCON10 MISSPHY10 FLAGSRP10  \\\n",
       "0     39.532742702703  44.220070137251         0         0         0   \n",
       "1     14.339360402685  26.852734836488         0         0         0   \n",
       "2     23.978609929742  34.452025761124         0         0         0   \n",
       "3     18.108234018692  34.038033869721         0         0         0   \n",
       "4     25.411297647059  35.244518234478         0         0         0   \n",
       "...               ...              ...       ...       ...       ...   \n",
       "2240  36.871215958549  45.632693018006         0         0         0   \n",
       "2241  31.586608205128   38.75657448482         0         0         0   \n",
       "2242  25.335084530973  37.701018647282         0         0         0   \n",
       "2243  59.556678873239  45.290250093718         0         0         0   \n",
       "2244  15.889313023256  29.262086598998         0         0         0   \n",
       "\n",
       "     FLGBIOV10 CAMDAY10 RACE  \n",
       "0            0     3768    2  \n",
       "1            0     3660    4  \n",
       "2            0     3635    3  \n",
       "3            0     3634    2  \n",
       "4            0     3612    4  \n",
       "...        ...      ...  ...  \n",
       "2240         0     3661    1  \n",
       "2241         0     3624    4  \n",
       "2242         0     3661    3  \n",
       "2243         0     3626    4  \n",
       "2244         0     3647    2  \n",
       "\n",
       "[2245 rows x 887 columns]>"
      ]
     },
     "execution_count": 9,
     "metadata": {},
     "output_type": "execute_result"
    }
   ],
   "source": [
    "# View the rows and columns for each data file\n",
    "SWAN.head"
   ]
  },
  {
   "cell_type": "code",
   "execution_count": 8,
   "metadata": {},
   "outputs": [
    {
     "data": {
      "text/plain": [
       "<bound method NDFrame.head of          SEQN  OSQ010A  OSQ010B  OSQ010C  OSQ020A  OSQ020B  OSQ020C  OSD030AA  \\\n",
       "0     41475.0      2.0      2.0      2.0      NaN      NaN      NaN       NaN   \n",
       "1     41477.0      2.0      2.0      2.0      NaN      NaN      NaN       NaN   \n",
       "2     41479.0      2.0      2.0      2.0      NaN      NaN      NaN       NaN   \n",
       "3     41481.0      2.0      2.0      2.0      NaN      NaN      NaN       NaN   \n",
       "4     41482.0      2.0      1.0      2.0      NaN      1.0      NaN       NaN   \n",
       "...       ...      ...      ...      ...      ...      ...      ...       ...   \n",
       "5930  51618.0      2.0      2.0      2.0      NaN      NaN      NaN       NaN   \n",
       "5931  51619.0      2.0      2.0      2.0      NaN      NaN      NaN       NaN   \n",
       "5932  51620.0      2.0      2.0      2.0      NaN      NaN      NaN       NaN   \n",
       "5933  51622.0      2.0      2.0      2.0      NaN      NaN      NaN       NaN   \n",
       "5934  51623.0      2.0      2.0      2.0      NaN      NaN      NaN       NaN   \n",
       "\n",
       "      OSQ040AA  OSD050AA  ...  OSQ140U  OSQ150  OSQ160A  OSQ160B  OSQ170  \\\n",
       "0          NaN       NaN  ...      NaN     1.0      1.0      NaN     2.0   \n",
       "1          NaN       NaN  ...      NaN     1.0      1.0      NaN     2.0   \n",
       "2          NaN       NaN  ...      NaN     2.0      NaN      NaN     2.0   \n",
       "3          NaN       NaN  ...      NaN     2.0      NaN      NaN     2.0   \n",
       "4          NaN       NaN  ...      NaN     2.0      NaN      NaN     2.0   \n",
       "...        ...       ...  ...      ...     ...      ...      ...     ...   \n",
       "5930       NaN       NaN  ...      NaN     2.0      NaN      NaN     1.0   \n",
       "5931       NaN       NaN  ...      NaN     2.0      NaN      NaN     2.0   \n",
       "5932       NaN       NaN  ...      NaN     1.0      1.0      NaN     2.0   \n",
       "5933       NaN       NaN  ...      NaN     2.0      NaN      NaN     2.0   \n",
       "5934       NaN       NaN  ...      NaN     2.0      NaN      NaN     2.0   \n",
       "\n",
       "      OSQ180  OSQ190  OSQ200  OSQ210  OSQ220  \n",
       "0        NaN     NaN     2.0     NaN     NaN  \n",
       "1        NaN     NaN     2.0     NaN     NaN  \n",
       "2        NaN     NaN     2.0     NaN     NaN  \n",
       "3        NaN     NaN     2.0     NaN     NaN  \n",
       "4        NaN     NaN     2.0     NaN     NaN  \n",
       "...      ...     ...     ...     ...     ...  \n",
       "5930    59.0     NaN     2.0     NaN     NaN  \n",
       "5931     NaN     NaN     2.0     NaN     NaN  \n",
       "5932     NaN     NaN     2.0     NaN     NaN  \n",
       "5933     NaN     NaN     2.0     NaN     NaN  \n",
       "5934     NaN     NaN     2.0     NaN     NaN  \n",
       "\n",
       "[5935 rows x 105 columns]>"
      ]
     },
     "execution_count": 8,
     "metadata": {},
     "output_type": "execute_result"
    }
   ],
   "source": [
    "NHANES_osteoporosis.head"
   ]
  },
  {
   "cell_type": "markdown",
   "metadata": {},
   "source": [
    "### 2. Data Diversity\n",
    "\n",
    "Use Python to identify how many unique values each column in your data has.  Use Python to identify which column has the greatest number of distinct values (aka the most diversity)?  If your data has a unique identifier (e.g. a person or visit or record ID) then find the column with the next most number of unique values."
   ]
  },
  {
   "cell_type": "code",
   "execution_count": 19,
   "metadata": {},
   "outputs": [
    {
     "data": {
      "text/plain": [
       "SEQN        5935\n",
       "OSD030BA      77\n",
       "OSQ180        67\n",
       "OSD030CA      59\n",
       "OSD110A       58\n",
       "dtype: int64"
      ]
     },
     "execution_count": 19,
     "metadata": {},
     "output_type": "execute_result"
    }
   ],
   "source": [
    "# Calculate the number of unique values for each column and assign to an object\n",
    "NHANES_unique = NHANES_osteoporosis.nunique()\n",
    "\n",
    "# Return the 5 largest \n",
    "NHANES_unique.nlargest(5)"
   ]
  },
  {
   "cell_type": "markdown",
   "metadata": {},
   "source": [
    "\"SEQN\" is the unique respondent identifier. The greatest number of distinct values beyond this column is \"OSD030BA\" which corresponds to the question \"How old {were you/was SP} when {you/s/he} fractured {your/his/her} wrist the 1st time?\""
   ]
  },
  {
   "cell_type": "markdown",
   "metadata": {},
   "source": [
    "### 3. Data Redundancy\n",
    "\n",
    "Use Python to identify any columns in your data where the value for every row is the same.  For example, if you had a gender column and all the rows said 'M', then you would want to write the code that helped you determine that."
   ]
  },
  {
   "cell_type": "code",
   "execution_count": 20,
   "metadata": {},
   "outputs": [
    {
     "data": {
      "text/plain": [
       "OSD050AB    1\n",
       "OSD030AC    1\n",
       "OSQ040AC    1\n",
       "OSD050AC    1\n",
       "OSD030AD    1\n",
       "OSQ040AD    1\n",
       "OSD050AD    1\n",
       "OSD030AE    1\n",
       "OSQ040AE    1\n",
       "OSD050AE    1\n",
       "OSQ040BD    1\n",
       "OSQ040BE    1\n",
       "OSQ040BF    1\n",
       "OSQ040BG    1\n",
       "OSD050CC    1\n",
       "OSD030CD    1\n",
       "OSQ040CD    1\n",
       "OSD050CD    1\n",
       "OSD030CE    1\n",
       "OSQ040CE    1\n",
       "OSD050CE    1\n",
       "OSQ090I     1\n",
       "OSQ120I     1\n",
       "OSQ090J     1\n",
       "OSQ120J     1\n",
       "OSQ160A     1\n",
       "OSQ160B     1\n",
       "dtype: int64"
      ]
     },
     "execution_count": 20,
     "metadata": {},
     "output_type": "execute_result"
    }
   ],
   "source": [
    "# From the unique NHANES data - determine the columns with the smallest number of unique values\n",
    "NHANES_unique.nsmallest(1, 'all')"
   ]
  },
  {
   "cell_type": "markdown",
   "metadata": {},
   "source": [
    "The columns listed above all have 1 unique value, suggesting the responses are all the same. Given the prevalence of NaN values listed in the initial glimpse of the data, I suspect these are columns with large numbers of NA values. \".nunique\" does not include NA values in the count. "
   ]
  },
  {
   "cell_type": "code",
   "execution_count": 22,
   "metadata": {},
   "outputs": [
    {
     "data": {
      "text/plain": [
       "1.0    4\n",
       "Name: OSQ120J, dtype: int64"
      ]
     },
     "execution_count": 22,
     "metadata": {},
     "output_type": "execute_result"
    }
   ],
   "source": [
    "# Test the values for one of the identified columns\n",
    "NHANES_osteoporosis['OSQ120J'].value_counts()"
   ]
  },
  {
   "cell_type": "markdown",
   "metadata": {},
   "source": [
    "### 4. Range of Values\n",
    "\n",
    "Your data almost certainly has some numeric columns that can be summed or averaged.  Create a histogram that shows the distribution of values for this column."
   ]
  },
  {
   "cell_type": "code",
   "execution_count": 29,
   "metadata": {},
   "outputs": [
    {
     "data": {
      "text/plain": [
       "<matplotlib.axes._subplots.AxesSubplot at 0x7f2507143828>"
      ]
     },
     "execution_count": 29,
     "metadata": {},
     "output_type": "execute_result"
    },
    {
     "data": {
      "image/png": "[encoded data removed]",
      "text/plain": [
       "<Figure size 432x288 with 1 Axes>"
      ]
     },
     "metadata": {
      "needs_background": "light"
     },
     "output_type": "display_data"
    }
   ],
   "source": [
    "# Plot the ages at first hip fracture\n",
    "NHANES_osteoporosis['OSD030AA'].plot(kind = 'hist')"
   ]
  },
  {
   "cell_type": "markdown",
   "metadata": {},
   "source": [
    "### 5. Discussion\n",
    "\n",
    "Do any additional exploration of this data that you think may be interesting and include your code here.  Then go onto Slack and make a post about what you've observed.  Share your observation.  Share your code, if you like.  Share a screenshot of the data or a chart based on the data.\n",
    "\n",
    "Then comment on at least two other people's observations that they share on Slack.  (Use the reply as thread option in Slack to keep the conversation organized.)"
   ]
  },
  {
   "cell_type": "code",
   "execution_count": 33,
   "metadata": {},
   "outputs": [
    {
     "data": {
      "image/png": "[encoded data removed]",
      "text/plain": [
       "<Figure size 432x288 with 1 Axes>"
      ]
     },
     "metadata": {
      "needs_background": "light"
     },
     "output_type": "display_data"
    }
   ],
   "source": [
    "# Examining correlations between the number of times hip has been fractured and age at first hip fracture\n",
    "hip_plot = NHANES_osteoporosis.plot.scatter(x = 'OSD030AA', y = \"OSQ020A\", \n",
    "                                            xlabel = \"Age at first hip fracture\", \n",
    "                                 ylabel = \"Number of hip fractures\")"
   ]
  },
  {
   "cell_type": "markdown",
   "metadata": {},
   "source": []
  },
  {
   "cell_type": "markdown",
   "metadata": {},
   "source": [
    "\n",
    "\n",
    "---\n",
    "\n",
    "\n",
    "\n",
    "## Submitting Your Work\n",
    "\n",
    "In order to submit your work, you'll need to use the `git` command line program to **add** your homework file (this file) to your local repository, **commit** your changes to your local repository, and then **push** those changes up to github.com.  From there, I'll be able to **pull** the changes down and do my grading.  I'll provide some feedback, **commit** and **push** my comments back to you.  Next week, I'll show you how to **pull** down my comments.\n",
    "\n",
    "To run through everything one last time and submit your work:\n",
    "1. Use the `Kernel` -> `Restart Kernel and Run All Cells` menu option to run everything from top to bottom and stop here.\n",
    "2. Follow the instruction on the prompt below to either ssave and submit your work, or continue working.\n",
    "\n",
    "If anything fails along the way with this submission part of the process, let me know.  I'll help you troubleshoort."
   ]
  },
  {
   "cell_type": "markdown",
   "metadata": {},
   "source": [
    "---"
   ]
  },
  {
   "cell_type": "code",
   "execution_count": 1,
   "metadata": {
    "jupyter": {
     "source_hidden": true
    }
   },
   "outputs": [
    {
     "name": "stdin",
     "output_type": "stream",
     "text": [
      "\n",
      "Are you ready to submit your work?\n",
      "1. Click the Save icon (or do Ctrl-S / Cmd-S)\n",
      "2. Type \"yes\" or \"no\" below\n",
      "3. Press Enter\n",
      "\n",
      " \n"
     ]
    },
    {
     "name": "stdout",
     "output_type": "stream",
     "text": [
      "\n",
      "    \n",
      "OK. We can wait.\n",
      "\n"
     ]
    }
   ],
   "source": [
    "a=input('''\n",
    "Are you ready to submit your work?\n",
    "1. Click the Save icon (or do Ctrl-S / Cmd-S)\n",
    "2. Type \"yes\" or \"no\" below\n",
    "3. Press Enter\n",
    "\n",
    "''')\n",
    "\n",
    "if a=='yes':\n",
    "    !git add week13_assignment_2.ipynb\n",
    "    !git commit -a -m \"Submitting the week 12 programming assignment\"\n",
    "    !git push\n",
    "else:\n",
    "    print('''\n",
    "    \n",
    "OK. We can wait.\n",
    "''')"
   ]
  },
  {
   "cell_type": "code",
   "execution_count": null,
   "metadata": {},
   "outputs": [],
   "source": []
  }
 ],
 "metadata": {
  "celltoolbar": "Create Assignment",
  "kernelspec": {
   "display_name": "Python 3",
   "language": "python",
   "name": "python3"
  },
  "language_info": {
   "codemirror_mode": {
    "name": "ipython",
    "version": 3
   },
   "file_extension": ".py",
   "mimetype": "text/x-python",
   "name": "python",
   "nbconvert_exporter": "python",
   "pygments_lexer": "ipython3",
   "version": "3.6.7"
  }
 },
 "nbformat": 4,
 "nbformat_minor": 2
}
