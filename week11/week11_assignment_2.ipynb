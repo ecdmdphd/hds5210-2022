{
 "cells": [
  {
   "cell_type": "markdown",
   "metadata": {},
   "source": [
    "# Week 11 Assignment\n",
    "\n",
    "Because I was unable to conduct our workshop this week, I'm keeping the assignment light as well.  Below you'll find just two steps for this week: one programming exercise and then a planning activity for your final project.\n",
    "\n",
    "For clarification, the \"final project\" I've been referring to is your \"final.\"  It is not a project in addition to a final exam.  They're one-in-the-same.\n",
    "\n",
    "Please do the programming exercise and verify that your code works using the tests, then think about your final project and fill out the questions in the second part.\n",
    "\n",
    "---\n",
    "---"
   ]
  },
  {
   "cell_type": "markdown",
   "metadata": {},
   "source": [
    "### 47.1: Filtering and summarizing data\n",
    "\n",
    "For this work, you'll find a data file in `/data/complications_all.csv`.\n",
    "\n",
    "Read in the data file and create a variable called `mo_hospitals` that contains a data frame from the `complications_all.csv` file, filtered down to only contain those hospitals from the state of Missouri (MO).\n",
    "\n",
    "Then aggregate that data by hospital into a variable named `mo_summary`.  There are some key fields that we want to summarize:\n",
    "* We want to know the earliest date that each hospital was participating in any program\n",
    "* We want to know the latest date that each hospital stopped participating in any program\n",
    "* We want to know the total number of patients in the denominators of these programs\n",
    "\n",
    "Some things to note:\n",
    "* You will need to convert the `Start Date` and `End Date` to actual datetime fields\n",
    "* You will need to clean up and convert the `Denominator` field to just be numeric - the rule that you should use it to simply remove any records where the `Denominator` is `'Not Available'`\n",
    "\n",
    "\n",
    "The final result of this step should be a new data frame called `mo_summary` that contains one row for each hospital and contains the min start date, max end date, and total denominator.  Use the names `start_date`, `end_date`, and `number` for those columns in `mo_summary`.\n",
    "\n",
    "\n",
    "You do not need to create your code in the form of a function, just make sure your variable names match what I've described above so the tests work."
   ]
  },
  {
   "cell_type": "code",
   "execution_count": 1,
   "metadata": {},
   "outputs": [],
   "source": [
    "import pandas as pd\n",
    "\n",
    "# Read in data from \"complications_all.csv\" using pandas\n",
    "data = pd.read_csv('/data/complications_all.csv')"
   ]
  },
  {
   "cell_type": "code",
   "execution_count": 2,
   "metadata": {},
   "outputs": [
    {
     "data": {
      "text/plain": [
       "(91395, 18)"
      ]
     },
     "execution_count": 2,
     "metadata": {},
     "output_type": "execute_result"
    }
   ],
   "source": [
    "# Test the import of the data\n",
    "data.shape"
   ]
  },
  {
   "cell_type": "code",
   "execution_count": 3,
   "metadata": {},
   "outputs": [
    {
     "data": {
      "text/plain": [
       "(2133, 18)"
      ]
     },
     "execution_count": 3,
     "metadata": {},
     "output_type": "execute_result"
    }
   ],
   "source": [
    "# Create a filter variable for the state of Missouri (\"MO\")\n",
    "state_filter = data['State'] == 'MO'\n",
    "\n",
    "# This is just to show you the name to use for the variable you need to create for this step to pass.\n",
    "# Assign mo_hospitals to the data that meets the criteria for state_filter\n",
    "mo_hospitals = data[state_filter]\n",
    "\n",
    "# Test the filter\n",
    "mo_hospitals.shape"
   ]
  },
  {
   "cell_type": "code",
   "execution_count": 4,
   "metadata": {},
   "outputs": [],
   "source": [
    "# These assertions will help make sure that you're on the right track.\n",
    "assert(mo_hospitals['State'].unique() == ['MO'])\n",
    "assert(mo_hospitals.shape == (2133,18))"
   ]
  },
  {
   "cell_type": "code",
   "execution_count": 5,
   "metadata": {},
   "outputs": [
    {
     "data": {
      "text/plain": [
       "<bound method NDFrame.head of       Facility ID                    Facility Name           Address  \\\n",
       "45534      260001            MERCY HOSPITAL JOPLIN     100 MERCY WAY   \n",
       "45535      260001            MERCY HOSPITAL JOPLIN     100 MERCY WAY   \n",
       "45536      260001            MERCY HOSPITAL JOPLIN     100 MERCY WAY   \n",
       "45537      260001            MERCY HOSPITAL JOPLIN     100 MERCY WAY   \n",
       "45538      260001            MERCY HOSPITAL JOPLIN     100 MERCY WAY   \n",
       "...           ...                              ...               ...   \n",
       "47662      263304  SHRINERS HOSPITALS FOR CHILDREN  4400 CLAYTON AVE   \n",
       "47663      263304  SHRINERS HOSPITALS FOR CHILDREN  4400 CLAYTON AVE   \n",
       "47664      263304  SHRINERS HOSPITALS FOR CHILDREN  4400 CLAYTON AVE   \n",
       "47665      263304  SHRINERS HOSPITALS FOR CHILDREN  4400 CLAYTON AVE   \n",
       "47666      263304  SHRINERS HOSPITALS FOR CHILDREN  4400 CLAYTON AVE   \n",
       "\n",
       "              City State  ZIP Code     County Name    Phone Number  \\\n",
       "45534       JOPLIN    MO     64804          JASPER  (417) 781-2727   \n",
       "45535       JOPLIN    MO     64804          JASPER  (417) 781-2727   \n",
       "45536       JOPLIN    MO     64804          JASPER  (417) 781-2727   \n",
       "45537       JOPLIN    MO     64804          JASPER  (417) 781-2727   \n",
       "45538       JOPLIN    MO     64804          JASPER  (417) 781-2727   \n",
       "...            ...   ...       ...             ...             ...   \n",
       "47662  SAINT LOUIS    MO     63110  ST. LOUIS CITY  (314) 432-3600   \n",
       "47663  SAINT LOUIS    MO     63110  ST. LOUIS CITY  (314) 432-3600   \n",
       "47664  SAINT LOUIS    MO     63110  ST. LOUIS CITY  (314) 432-3600   \n",
       "47665  SAINT LOUIS    MO     63110  ST. LOUIS CITY  (314) 432-3600   \n",
       "47666  SAINT LOUIS    MO     63110  ST. LOUIS CITY  (314) 432-3600   \n",
       "\n",
       "            Measure ID                                       Measure Name  \\\n",
       "45534    COMP_HIP_KNEE  Rate of complications for hip/knee replacement...   \n",
       "45535      MORT_30_AMI               Death rate for heart attack patients   \n",
       "45536     MORT_30_CABG               Death rate for CABG surgery patients   \n",
       "45537     MORT_30_COPD                       Death rate for COPD patients   \n",
       "45538       MORT_30_HF              Death rate for heart failure patients   \n",
       "...                ...                                                ...   \n",
       "47662  PSI_4_SURG_COMP  Deaths among Patients with Serious Treatable C...   \n",
       "47663    PSI_6_IAT_PTX            Collapsed lung due to medical treatment   \n",
       "47664   PSI_8_POST_HIP               Broken hip from a fall after surgery   \n",
       "47665    PSI_90_SAFETY                              Serious complications   \n",
       "47666   PSI_9_POST_HEM          Perioperative Hemorrhage or Hematoma Rate   \n",
       "\n",
       "                      Compared to National    Denominator          Score  \\\n",
       "45534  No Different Than the National Rate             26            2.5   \n",
       "45535  No Different Than the National Rate            175           13.9   \n",
       "45536  No Different Than the National Rate             91            2.5   \n",
       "45537  No Different Than the National Rate            326            8.5   \n",
       "45538  No Different Than the National Rate            461           13.1   \n",
       "...                                    ...            ...            ...   \n",
       "47662                        Not Available  Not Available  Not Available   \n",
       "47663                        Not Available  Not Available  Not Available   \n",
       "47664                        Not Available  Not Available  Not Available   \n",
       "47665                        Not Available  Not Available  Not Available   \n",
       "47666                        Not Available  Not Available  Not Available   \n",
       "\n",
       "      Lower Estimate Higher Estimate  Footnote  Start Date    End Date  \n",
       "45534            1.4             4.2       NaN  04/01/2015  03/31/2018  \n",
       "45535           11.0            16.9       NaN  07/01/2015  06/30/2018  \n",
       "45536            1.2             5.1       NaN  07/01/2015  06/30/2018  \n",
       "45537            6.5            10.9       NaN  07/01/2015  06/30/2018  \n",
       "45538           10.7            15.9       NaN  07/01/2015  06/30/2018  \n",
       "...              ...             ...       ...         ...         ...  \n",
       "47662  Not Available   Not Available      19.0  07/01/2016  06/30/2018  \n",
       "47663  Not Available   Not Available      19.0  07/01/2016  06/30/2018  \n",
       "47664  Not Available   Not Available      19.0  07/01/2016  06/30/2018  \n",
       "47665  Not Available   Not Available      19.0  07/01/2016  06/30/2018  \n",
       "47666  Not Available   Not Available      19.0  07/01/2016  06/30/2018  \n",
       "\n",
       "[2133 rows x 18 columns]>"
      ]
     },
     "execution_count": 5,
     "metadata": {},
     "output_type": "execute_result"
    }
   ],
   "source": [
    "# View a the first rows\n",
    "mo_hospitals.head"
   ]
  },
  {
   "cell_type": "code",
   "execution_count": null,
   "metadata": {},
   "outputs": [],
   "source": []
  },
  {
   "cell_type": "code",
   "execution_count": 6,
   "metadata": {},
   "outputs": [
    {
     "name": "stderr",
     "output_type": "stream",
     "text": [
      "/opt/tljh/user/lib/python3.6/site-packages/ipykernel_launcher.py:6: SettingWithCopyWarning: \n",
      "A value is trying to be set on a copy of a slice from a DataFrame.\n",
      "Try using .loc[row_indexer,col_indexer] = value instead\n",
      "\n",
      "See the caveats in the documentation: https://pandas.pydata.org/pandas-docs/stable/user_guide/indexing.html#returning-a-view-versus-a-copy\n",
      "  \n"
     ]
    },
    {
     "data": {
      "text/plain": [
       "45534   2015-04-01\n",
       "45535   2015-07-01\n",
       "45536   2015-07-01\n",
       "45537   2015-07-01\n",
       "45538   2015-07-01\n",
       "           ...    \n",
       "47662   2016-07-01\n",
       "47663   2016-07-01\n",
       "47664   2016-07-01\n",
       "47665   2016-07-01\n",
       "47666   2016-07-01\n",
       "Name: start_date, Length: 2133, dtype: datetime64[ns]"
      ]
     },
     "execution_count": 6,
     "metadata": {},
     "output_type": "execute_result"
    }
   ],
   "source": [
    "# Convert the start date to a datetime field\n",
    "# Create a variable for the desired format\n",
    "start_date = pd.to_datetime(mo_hospitals['Start Date'], format = '%m/%d/%Y')\n",
    "\n",
    "# Create a new column in the mo_hospitals dataframe\n",
    "mo_hospitals['start_date'] = start_date\n",
    "\n",
    "# Check the start_date\n",
    "mo_hospitals['start_date']"
   ]
  },
  {
   "cell_type": "code",
   "execution_count": 7,
   "metadata": {},
   "outputs": [
    {
     "name": "stderr",
     "output_type": "stream",
     "text": [
      "/opt/tljh/user/lib/python3.6/site-packages/ipykernel_launcher.py:6: SettingWithCopyWarning: \n",
      "A value is trying to be set on a copy of a slice from a DataFrame.\n",
      "Try using .loc[row_indexer,col_indexer] = value instead\n",
      "\n",
      "See the caveats in the documentation: https://pandas.pydata.org/pandas-docs/stable/user_guide/indexing.html#returning-a-view-versus-a-copy\n",
      "  \n"
     ]
    },
    {
     "data": {
      "text/plain": [
       "45534   2018-03-31\n",
       "45535   2018-06-30\n",
       "45536   2018-06-30\n",
       "45537   2018-06-30\n",
       "45538   2018-06-30\n",
       "           ...    \n",
       "47662   2018-06-30\n",
       "47663   2018-06-30\n",
       "47664   2018-06-30\n",
       "47665   2018-06-30\n",
       "47666   2018-06-30\n",
       "Name: end_date, Length: 2133, dtype: datetime64[ns]"
      ]
     },
     "execution_count": 7,
     "metadata": {},
     "output_type": "execute_result"
    }
   ],
   "source": [
    "# Convert the end date to a datetime field\n",
    "# Create a variable for the desired format\n",
    "end_date = pd.to_datetime(mo_hospitals['End Date'], format = '%m/%d/%Y')\n",
    "\n",
    "# Create a new column in the mo_hospitals dataframe\n",
    "mo_hospitals['end_date'] = end_date\n",
    "\n",
    "# Check the end_date\n",
    "mo_hospitals['end_date']"
   ]
  },
  {
   "cell_type": "code",
   "execution_count": null,
   "metadata": {},
   "outputs": [],
   "source": [
    "# Create a filter for numeric denominator fields - keep only those where the denominator is NOT 'Not Available'\n",
    "denom_filter = mo_hospitals['Denominator'] != 'Not Available'"
   ]
  },
  {
   "cell_type": "code",
   "execution_count": 8,
   "metadata": {},
   "outputs": [
    {
     "ename": "NameError",
     "evalue": "name 'denom_filter' is not defined",
     "output_type": "error",
     "traceback": [
      "\u001b[0;31m---------------------------------------------------------------------------\u001b[0m",
      "\u001b[0;31mNameError\u001b[0m                                 Traceback (most recent call last)",
      "\u001b[0;32m<ipython-input-8-f16ac783e717>\u001b[0m in \u001b[0;36m<module>\u001b[0;34m\u001b[0m\n\u001b[1;32m      1\u001b[0m \u001b[0;31m# Originally could not get number column to reflect correct sum\u001b[0m\u001b[0;34m\u001b[0m\u001b[0;34m\u001b[0m\u001b[0;34m\u001b[0m\u001b[0m\n\u001b[1;32m      2\u001b[0m \u001b[0;31m# testing the denominator revealed that sum() was adding the indicies because \"Denominator\" was a string type in the original data set\u001b[0m\u001b[0;34m\u001b[0m\u001b[0;34m\u001b[0m\u001b[0;34m\u001b[0m\u001b[0m\n\u001b[0;32m----> 3\u001b[0;31m \u001b[0mtesting\u001b[0m \u001b[0;34m=\u001b[0m \u001b[0mmo_hospitals\u001b[0m\u001b[0;34m[\u001b[0m\u001b[0mdenom_filter\u001b[0m\u001b[0;34m]\u001b[0m\u001b[0;34m\u001b[0m\u001b[0;34m\u001b[0m\u001b[0m\n\u001b[0m\u001b[1;32m      4\u001b[0m \u001b[0mtesting\u001b[0m\u001b[0;34m[\u001b[0m\u001b[0;34m'Denominator'\u001b[0m\u001b[0;34m]\u001b[0m\u001b[0;34m.\u001b[0m\u001b[0msum\u001b[0m\u001b[0;34m(\u001b[0m\u001b[0;34m)\u001b[0m\u001b[0;34m\u001b[0m\u001b[0;34m\u001b[0m\u001b[0m\n",
      "\u001b[0;31mNameError\u001b[0m: name 'denom_filter' is not defined"
     ]
    }
   ],
   "source": [
    "# Originally could not get number column to reflect correct sum\n",
    "# testing the denominator revealed that sum() was adding the indicies because \"Denominator\" was a string type in the original data set\n",
    "testing = mo_hospitals[denom_filter]\n",
    "testing['Denominator'].sum()"
   ]
  },
  {
   "cell_type": "code",
   "execution_count": null,
   "metadata": {},
   "outputs": [],
   "source": [
    "\n",
    "# Create data set with only numeric denominator fields and\n",
    "mo_hospitals_clean = mo_hospitals[denom_filter]"
   ]
  },
  {
   "cell_type": "code",
   "execution_count": null,
   "metadata": {},
   "outputs": [],
   "source": [
    "# Set the type for \"Denominator\" to be a float\n",
    "mo_hospitals_clean['Denominator'] = mo_hospitals_clean['Denominator'].astype(float)"
   ]
  },
  {
   "cell_type": "code",
   "execution_count": null,
   "metadata": {},
   "outputs": [],
   "source": [
    "# Group by hospital\n",
    "grouped_hospitals = mo_hospitals_clean.groupby('Facility Name')"
   ]
  },
  {
   "cell_type": "code",
   "execution_count": null,
   "metadata": {},
   "outputs": [],
   "source": [
    "# Testing the denominator column\n",
    "grouped_hospitals['Denominator'].get_group(\"WRIGHT MEMORIAL HOSPITAL\")"
   ]
  },
  {
   "cell_type": "code",
   "execution_count": null,
   "metadata": {},
   "outputs": [],
   "source": [
    "# Testing ability to sum the denominator column as a grouped object\n",
    "grouped_hospitals.aggregate(sum)"
   ]
  },
  {
   "cell_type": "code",
   "execution_count": null,
   "metadata": {},
   "outputs": [],
   "source": [
    "# Create the final data frame from the grouped_hospitals data frame by applying aggregating functions\n",
    "# To achieve the prescribed result - earliest start date, latest end date, and sum of all the denominators (individuals)\n",
    "mo_summary = grouped_hospitals.agg(\n",
    "    start_date = pd.NamedAgg(column = 'start_date', aggfunc = \"min\"),\n",
    "    end_date = pd.NamedAgg(column = 'end_date', aggfunc = 'max'),\n",
    "    number = pd.NamedAgg(column = 'Denominator', aggfunc = 'sum'))"
   ]
  },
  {
   "cell_type": "code",
   "execution_count": null,
   "metadata": {},
   "outputs": [],
   "source": [
    "# Test the mo_summary\n",
    "mo_summary"
   ]
  },
  {
   "cell_type": "code",
   "execution_count": null,
   "metadata": {},
   "outputs": [],
   "source": [
    "assert(mo_summary['number'].sum() == 1766908)\n",
    "assert(mo_summary['start_date'].min() == pd.Timestamp(2015,4,1))\n",
    "assert(mo_summary['end_date'].max() == pd.Timestamp(2018,6,30))\n",
    "assert(mo_summary.shape == (108,3))\n",
    "assert(mo_summary.loc['BARNES JEWISH HOSPITAL'].number == 131313)\n",
    "assert(mo_summary.loc['BOONE HOSPITAL CENTER'].number == 63099)"
   ]
  },
  {
   "cell_type": "markdown",
   "metadata": {},
   "source": [
    "---\n",
    "\n",
    "### 47.2 Planning your final project\n",
    "\n",
    "You should be thinking about the things we've been learning and how you can apply them to your final project.  Use the rubric to help guid your thinking and then answer the questions below.  This is meant as a guide to help you think through what you will do."
   ]
  },
  {
   "cell_type": "markdown",
   "metadata": {},
   "source": [
    "#### A) Data Access\n",
    "\n",
    "Your project should include data from at least two distinct types of sources (locations and/or file types).  For example: AWS S3, Relational Databases, Internet, Web Services, local files.  List what data sources you're planning to use."
   ]
  },
  {
   "cell_type": "markdown",
   "metadata": {},
   "source": [
    "National Health and Nutrition Examination Survey (NHANES) 2007-2008:\n",
    "https://wwwn.cdc.gov/nchs/nhanes/continuousnhanes/default.aspx?BeginYear=2007\n",
    "\n",
    "NHANES is a long-running program of the National Center for Health Statistics within the CDC. Its complex sampling design is intended to produce nationally-representative estimates. These estimates can then be used to inform policy, understand health issues within the US, and track trends. NHANES collects information on a variety of topics, including mental health, general health, social determinants of health (i.e. insurance, education, citizenship status, etc.), and other demographic information. Unique participant IDs are assigned and can be used to merge data from different modules. Below are the modules I intend to use for this project: \n",
    "\n",
    "Demographics:https://wwwn.cdc.gov/Nchs/Nhanes/2007-2008/DEMO_E.htm\n",
    "\n",
    "Ostoporosis Questionnaire Module: https://wwwn.cdc.gov/Nchs/Nhanes/2007-2008/OSQ_E.htm\n",
    "\n",
    "Current Health Status: https://wwwn.cdc.gov/Nchs/Nhanes/2007-2008/HSQ_E.htm\n",
    "\n",
    "Mental Health - Depression Screener: https://wwwn.cdc.gov/Nchs/Nhanes/2007-2008/DPQ_E.htm\n",
    "\n",
    "Note: all links provided are to the documentation modules. NHANES provides documentation and data files for each module.\n",
    "\n",
    "Citation: Centers for Disease Control and Prevention (CDC). National Center for Health Statistics (NCHS). National Health and Nutrition Examination Survey Data. Hyattsville, MD: U.S. Department of Health and Human Services, Centers for Disease Control and Prevention, 2007-2008, https://wwwn.cdc.gov/nchs/nhanes/continuousnhanes/default.aspx?BeginYear=2007.\n",
    "\n",
    "Study of Women's Health Across the Nation (SWAN) 2006-2008: https://www.icpsr.umich.edu/web/ICPSR/studies/32961\n",
    "\n",
    "This is the most recent iteration of the study. SWAN is an epidemiologic survey of women in their middle years and examines several aspects of health, including physical and psychological. Although this is longitudinal study began in 1994, data will only be used from this iteration in a cross-sectional manner. Data is available for similar mental health, physical health, and demographic variables as in NHANES.\n",
    "\n",
    "Citation: Sutton-Tyrrell, Kim, Selzer, Faith, Sowers, MaryFran, Finkelstein, Joel, Powell, Lynda, Gold, Ellen, … Brooks, Maria Mori. Study of Women’s Health Across the Nation (SWAN), 2006-2008: Visit 10 Dataset. Ann Arbor, MI: Inter-university Consortium for Political and Social Research [distributor], 2018-11-15. https://doi.org/10.3886/ICPSR32961.v2\n",
    " "
   ]
  },
  {
   "cell_type": "markdown",
   "metadata": {},
   "source": [
    "#### B. Data Formats\n",
    "\n",
    "Your project should include data that comes in different file formats.  For example: HL7, EDI, HTML, CSV, Excel, JSON, XML.  List what data formats you're planning to use."
   ]
  },
  {
   "cell_type": "markdown",
   "metadata": {},
   "source": [
    "NHANES data is provided in SAS format as .XPT files. \n",
    "\n",
    "SWAN 2006-2008 can be exported in multiple file formats, including delimited (TSV), R, SPSS, SAS, and ASCII. I plan to use a TSV format, as NHANES data is only available in SAS and Stata formats. "
   ]
  },
  {
   "cell_type": "markdown",
   "metadata": {},
   "source": [
    "#### C. Objective\n",
    "\n",
    "What purpose would your project serve in a real work setting?  Take a couple of paragraphs to write down why this is an interesting product."
   ]
  },
  {
   "cell_type": "markdown",
   "metadata": {},
   "source": [
    "I will be working with a medical student for her 2022 Summer Research Fellowship to examine associations between osteoporosis and mental health, with a particular focus on mental health treatment and gender disparities. We plan to use secondary data from the National Health and Nutrition Examination Survey (NHANES), a nationally representative survey comprised of in-home questionnaires and physical examinations administered at a mobile site. We will examine a subset of individuals with osteoporosis for mental health outcomes and treatment. In particular, we will use the data on osteoporosis outcomes (such as broken bones and diagnosis), general impression of mental health, and PHQ-9 scores (a commonly used screening tool for depression). Treatment data could be gathered from reports of prescription medication and mental health encounters in other modules of NHANES not included above. The larger project will include NHANES data from multiple years, using those years in which NHANES collected data on osteoporosis. \n",
    "\n",
    "As no one dataset contains all the information one typically needs, cross-comparison between two similar data sources is often required. The current project will focus on proor-of-concept, data management, and exploratory analysis. In addition, I will compare data from NHANES with SWAN to determine whether NHANES gathers comparable information to SWAN, a longitudinal in-person study. From the current project, I will identify variables that could be harmonized and compared between the two data sources. This cross-sectional analysis will be the first step towards future comparisons between these two data sets, including later longitudinal study. This will be particularly useful as SWAN stopped collecting data in 2008, while NHANES continues to collect data. If the conclusions drawn from both studies are similar regarding women's mental health and osteoporosis outcomes, NHANES would be a good candidate data source to continue to monitor national trends in these areas. If these conclusions are different, the necessity of longitudinal studies such as SWAN would be underscored."
   ]
  },
  {
   "cell_type": "markdown",
   "metadata": {},
   "source": [
    "\n",
    "\n",
    "---\n",
    "\n",
    "\n",
    "\n",
    "## Submitting Your Work\n",
    "\n",
    "In order to submit your work, you'll need to use the `git` command line program to **add** your homework file (this file) to your local repository, **commit** your changes to your local repository, and then **push** those changes up to github.com.  From there, I'll be able to **pull** the changes down and do my grading.  I'll provide some feedback, **commit** and **push** my comments back to you.  Next week, I'll show you how to **pull** down my comments.\n",
    "\n",
    "To run through everything one last time and submit your work:\n",
    "1. Use the `Kernel` -> `Restart Kernel and Run All Cells` menu option to run everything from top to bottom and stop here.\n",
    "2. Follow the instruction on the prompt below to either ssave and submit your work, or continue working.\n",
    "\n",
    "If anything fails along the way with this submission part of the process, let me know.  I'll help you troubleshoort."
   ]
  },
  {
   "cell_type": "markdown",
   "metadata": {},
   "source": [
    "---"
   ]
  },
  {
   "cell_type": "code",
   "execution_count": null,
   "metadata": {
    "jupyter": {
     "source_hidden": true
    }
   },
   "outputs": [],
   "source": [
    "a=input('''\n",
    "Are you ready to submit your work?\n",
    "1. Click the Save icon (or do Ctrl-S / Cmd-S)\n",
    "2. Type \"yes\" or \"no\" below\n",
    "3. Press Enter\n",
    "\n",
    "''')\n",
    "\n",
    "if a=='yes':\n",
    "    !git add week11_assignment_2.ipynb\n",
    "    !git commit -a -m \"Submitting the week 11 programming assignment\"\n",
    "    !git push\n",
    "else:\n",
    "    print('''\n",
    "    \n",
    "OK. We can wait.\n",
    "''')"
   ]
  },
  {
   "cell_type": "code",
   "execution_count": null,
   "metadata": {},
   "outputs": [],
   "source": []
  }
 ],
 "metadata": {
  "kernelspec": {
   "display_name": "Python 3",
   "language": "python",
   "name": "python3"
  },
  "language_info": {
   "codemirror_mode": {
    "name": "ipython",
    "version": 3
   },
   "file_extension": ".py",
   "mimetype": "text/x-python",
   "name": "python",
   "nbconvert_exporter": "python",
   "pygments_lexer": "ipython3",
   "version": "3.6.7"
  }
 },
 "nbformat": 4,
 "nbformat_minor": 4
}
