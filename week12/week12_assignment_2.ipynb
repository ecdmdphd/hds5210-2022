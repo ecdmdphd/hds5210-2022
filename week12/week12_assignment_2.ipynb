{
 "cells": [
  {
   "cell_type": "markdown",
   "metadata": {
    "nbgrader": {
     "grade": false,
     "grade_id": "intro",
     "locked": true,
     "schema_version": 1,
     "solution": false
    }
   },
   "source": [
    "# Week 12 Assignment\n",
    "\n",
    "# PART 1 - Pivoting Data for Fun!\n",
    "\n",
    "In this exercise, we're going to work with data about condemned buildings in St. Louis.  This data set is in `/data/condemn.txt` in CSV format."
   ]
  },
  {
   "cell_type": "markdown",
   "metadata": {
    "nbgrader": {
     "grade": false,
     "grade_id": "q1-intro",
     "locked": true,
     "schema_version": 1,
     "solution": false
    }
   },
   "source": [
    "## STEP 1: Load and Filter data\n",
    "\n",
    "For this analysis, we want to look only at a relevent range of years and only years that are in teh past.  So, let's first take a look at the data between 1986 and 2014 (inclusive of those dates).\n",
    "\n",
    "At the end of this step, you should have a data frame loaded from the condemnations file and filtered down to only the data between 1986 and 2014.  Put that into a dataframe named `condemnations`\n",
    "\n",
    "**Some helpful notes:**\n",
    "* Use the columns `InspectDate` to filter this date range"
   ]
  },
  {
   "cell_type": "code",
   "execution_count": 1,
   "metadata": {
    "nbgrader": {
     "grade": false,
     "grade_id": "q1-solution",
     "locked": false,
     "schema_version": 1,
     "solution": true
    }
   },
   "outputs": [
    {
     "name": "stderr",
     "output_type": "stream",
     "text": [
      "/opt/tljh/user/lib/python3.6/site-packages/IPython/core/interactiveshell.py:3051: DtypeWarning: Columns (2,8,35,36) have mixed types.Specify dtype option on import or set low_memory=False.\n",
      "  interactivity=interactivity, compiler=compiler, result=result)\n"
     ]
    },
    {
     "data": {
      "text/plain": [
       "(32586, 40)"
      ]
     },
     "execution_count": 1,
     "metadata": {},
     "output_type": "execute_result"
    }
   ],
   "source": [
    "%matplotlib inline\n",
    "import pandas as pd\n",
    "\n",
    "condemnations_full = pd.read_csv('/data/condemn.txt')\n",
    "condemnations_full.shape"
   ]
  },
  {
   "cell_type": "code",
   "execution_count": 2,
   "metadata": {},
   "outputs": [
    {
     "data": {
      "text/plain": [
       "Index(['AcctNum', 'PrclErr', 'AddrAdjusted', 'CityBlock', 'Parcel',\n",
       "       'OwnerCode', 'Handle', 'Parcel9', 'AddrNum', 'AddrSuf', 'StDir',\n",
       "       'StName', 'StType', 'InspectDate', 'InspectType', 'CondLetterSent',\n",
       "       'Status', 'OwnerCompany', 'OwnerName', 'OwnerAddr', 'OwnerCity',\n",
       "       'OwnerState', 'OwnerZIP', 'GeoCityBLockPart', 'Ward00', 'Precinct02',\n",
       "       'Nbrhd', 'CDADist', 'CDASubDist', 'PoliceDist', 'CensBlock00',\n",
       "       'AsrNbrhd', 'ImpactCode', 'NLC', 'Parity', 'Inspector', 'Images',\n",
       "       'FirstDate', 'LastDate', 'UpDateGeo'],\n",
       "      dtype='object')"
      ]
     },
     "execution_count": 2,
     "metadata": {},
     "output_type": "execute_result"
    }
   ],
   "source": [
    "# Look at the columns to find those with relevant information for a date filter\n",
    "condemnations_full.columns"
   ]
  },
  {
   "cell_type": "code",
   "execution_count": 3,
   "metadata": {},
   "outputs": [
    {
     "data": {
      "text/plain": [
       "<bound method NDFrame.head of 0        1986-07-10 00:00:00\n",
       "1        2009-07-23 00:00:00\n",
       "2        2003-08-06 00:00:00\n",
       "3        1996-06-17 00:00:00\n",
       "4        2006-12-20 00:00:00\n",
       "                ...         \n",
       "32581    2014-06-24 09:00:00\n",
       "32582    2013-06-27 23:50:00\n",
       "32583    2015-02-10 13:53:00\n",
       "32584    2016-10-18 14:09:00\n",
       "32585    2013-06-27 23:34:00\n",
       "Name: InspectDate, Length: 32586, dtype: object>"
      ]
     },
     "execution_count": 3,
     "metadata": {},
     "output_type": "execute_result"
    }
   ],
   "source": [
    "condemnations_full[\"InspectDate\"].head"
   ]
  },
  {
   "cell_type": "code",
   "execution_count": 4,
   "metadata": {},
   "outputs": [],
   "source": [
    "condemnations_full[\"InspectDate\"] = condemnations_full['InspectDate'].str.slice(stop = 4)"
   ]
  },
  {
   "cell_type": "code",
   "execution_count": 5,
   "metadata": {},
   "outputs": [],
   "source": [
    "condemnations_full[\"InspectDate\"] = condemnations_full[\"InspectDate\"].astype(\"string\")"
   ]
  },
  {
   "cell_type": "code",
   "execution_count": 6,
   "metadata": {},
   "outputs": [
    {
     "data": {
      "text/plain": [
       "<bound method NDFrame.head of 0        1986\n",
       "1        2009\n",
       "2        2003\n",
       "3        1996\n",
       "4        2006\n",
       "         ... \n",
       "32581    2014\n",
       "32582    2013\n",
       "32583    2015\n",
       "32584    2016\n",
       "32585    2013\n",
       "Name: InspectDate, Length: 32586, dtype: string>"
      ]
     },
     "execution_count": 6,
     "metadata": {},
     "output_type": "execute_result"
    }
   ],
   "source": [
    "condemnations_full['InspectDate'].head"
   ]
  },
  {
   "cell_type": "code",
   "execution_count": 7,
   "metadata": {},
   "outputs": [],
   "source": [
    "# Create variables for filter - a start date condition and end date condition\n",
    "date_start = condemnations_full['InspectDate'] >= \"1986\"\n",
    "date_end = condemnations_full['InspectDate'] <= \"2014\"\n",
    "\n",
    "# Filter the condemnations set and assign to condemnations\n",
    "condemnations = condemnations_full[date_start & date_end]"
   ]
  },
  {
   "cell_type": "code",
   "execution_count": 8,
   "metadata": {},
   "outputs": [
    {
     "data": {
      "text/plain": [
       "<bound method NDFrame.head of        AcctNum  PrclErr AddrAdjusted  CityBlock  Parcel  OwnerCode  \\\n",
       "0          1.0      0.0        False    3652.00   341.0        1.0   \n",
       "1          2.0      0.0        False     666.00    80.0        0.0   \n",
       "2          3.0      0.0        False    3913.01   120.0        1.0   \n",
       "3          4.0      2.0        False    3744.00   145.0        0.0   \n",
       "4          5.0      0.0        False    1103.00    30.0        0.0   \n",
       "...        ...      ...          ...        ...     ...        ...   \n",
       "32575      NaN      NaN          NaN        NaN     NaN        NaN   \n",
       "32576      NaN      NaN          NaN        NaN     NaN        NaN   \n",
       "32581      NaN      NaN          NaN        NaN     NaN        NaN   \n",
       "32582      NaN      NaN          NaN        NaN     NaN        NaN   \n",
       "32585      NaN      NaN          NaN        NaN     NaN        NaN   \n",
       "\n",
       "             Handle      Parcel9 AddrNum AddrSuf  ... CensBlock00 AsrNbrhd  \\\n",
       "0      1.365200e+10  365200341.0    4049          ...   1114.4006    309.0   \n",
       "1      1.066600e+10   66600080.0     906          ...   1234.2003    248.0   \n",
       "2      1.391301e+10  391301120.0    4218          ...   1191.1004    230.0   \n",
       "3      1.374400e+10  374400145.0    4145          ...   1111.4000    231.0   \n",
       "4      1.110300e+10  110300030.0    1936          ...   1266.5001    318.0   \n",
       "...             ...          ...     ...     ...  ...         ...      ...   \n",
       "32575  1.330900e+10  330900220.0    2013     NaN  ...         NaN      NaN   \n",
       "32576  1.247600e+10  247600260.0    2029     NaN  ...         NaN      NaN   \n",
       "32581  1.382900e+10  382900560.0    5971     NaN  ...         NaN      NaN   \n",
       "32582  1.303400e+10  303400010.0    7154     NaN  ...         NaN      NaN   \n",
       "32585  1.100600e+10  100600270.0    2919     NaN  ...         NaN      NaN   \n",
       "\n",
       "      ImpactCode    NLC Parity           Inspector  \\\n",
       "0            0.0  123.0      O                 NaN   \n",
       "1            0.0  104.0      E                 NaN   \n",
       "2            0.0  210.0      E                 NaN   \n",
       "3            0.0   92.0      O                 NaN   \n",
       "4            0.0    5.0      E                 NaN   \n",
       "...          ...    ...    ...                 ...   \n",
       "32575        NaN    NaN    NaN        Ulrich, Ross   \n",
       "32576        NaN    NaN    NaN        Ulrich, Ross   \n",
       "32581        NaN    NaN    NaN  Popoolas, Adebanjo   \n",
       "32582        NaN    NaN    NaN          Wood, Paul   \n",
       "32585        NaN    NaN    NaN        Ulrich, Ross   \n",
       "\n",
       "                                                  Images            FirstDate  \\\n",
       "0                                                    NaN  1987-08-07 00:00:00   \n",
       "1                                                    NaN  1988-06-28 00:00:00   \n",
       "2                                                    NaN  1990-08-28 00:00:00   \n",
       "3                                                    NaN  1990-06-12 00:00:00   \n",
       "4                                                    NaN  2006-12-21 00:00:00   \n",
       "...                                                  ...                  ...   \n",
       "32575                                                NaN                  NaN   \n",
       "32576                                                NaN                  NaN   \n",
       "32581  https://www.stlcitypermits.com/violationimages...                  NaN   \n",
       "32582                                                NaN                  NaN   \n",
       "32585  https://www.stlcitypermits.com/violationimages...                  NaN   \n",
       "\n",
       "                  LastDate UpDateGeo  \n",
       "0      2019-01-04 00:00:00       NaN  \n",
       "1      2019-01-04 00:00:00       NaN  \n",
       "2      2019-01-04 00:00:00       NaN  \n",
       "3      2019-01-04 00:00:00       NaN  \n",
       "4      2019-01-04 00:00:00       NaN  \n",
       "...                    ...       ...  \n",
       "32575                  NaN       NaN  \n",
       "32576                  NaN       NaN  \n",
       "32581                  NaN       NaN  \n",
       "32582                  NaN       NaN  \n",
       "32585                  NaN       NaN  \n",
       "\n",
       "[30232 rows x 40 columns]>"
      ]
     },
     "execution_count": 8,
     "metadata": {},
     "output_type": "execute_result"
    }
   ],
   "source": [
    "condemnations.head"
   ]
  },
  {
   "cell_type": "code",
   "execution_count": 9,
   "metadata": {
    "nbgrader": {
     "grade": true,
     "grade_id": "q1-tests",
     "locked": true,
     "points": 6,
     "schema_version": 1,
     "solution": false
    }
   },
   "outputs": [],
   "source": [
    "assert(condemnations.shape == (30232, 40))\n",
    "assert(len(condemnations[condemnations['InspectDate'] < '1986'])==0)\n",
    "assert(len(condemnations[condemnations['InspectDate'] >= '2015'])==0)"
   ]
  },
  {
   "cell_type": "markdown",
   "metadata": {
    "nbgrader": {
     "grade": false,
     "grade_id": "q2-intro",
     "locked": true,
     "schema_version": 1,
     "solution": false
    }
   },
   "source": [
    "## STEP 2: Pivot and Summarize\n",
    "\n",
    "In this step we want to pivot our data so that we have one row per year, a column for each value that appears in the `Status` column, and a count of how many condemnations occurred of each type in each year.  Put your summary pivot table into a variable called `by_year`.\n",
    "\n",
    "**Some helpful notes:**\n",
    "* For some reason, Pandas is just kind of stubborn about count being the aggregate function.  You may need to tell it to `np.ma.count` specifically.  I've imported Numpy as np for you."
   ]
  },
  {
   "cell_type": "code",
   "execution_count": 10,
   "metadata": {},
   "outputs": [],
   "source": [
    "import numpy as np\n",
    "\n",
    "# Create a pivot data set, aggregating a count of condemnations by type for each year\n",
    "by_year = pd.pivot_table(data = condemnations, values = \"AcctNum\", index = \"InspectDate\", columns = \"Status\", aggfunc = np.ma.count)"
   ]
  },
  {
   "cell_type": "code",
   "execution_count": 11,
   "metadata": {},
   "outputs": [
    {
     "data": {
      "text/plain": [
       "<bound method NDFrame.head of Status            B      L     R      W\n",
       "InspectDate                            \n",
       "1986           22.0   12.0  19.0  112.0\n",
       "1987           91.0   20.0   8.0  361.0\n",
       "1988          215.0   16.0  15.0  297.0\n",
       "1989          277.0   15.0  11.0  432.0\n",
       "1990          119.0   29.0   8.0  322.0\n",
       "1991          139.0   18.0   4.0  351.0\n",
       "1992          204.0   30.0   4.0  258.0\n",
       "1993          185.0   47.0   2.0  193.0\n",
       "1994          208.0   94.0   5.0  293.0\n",
       "1995          176.0  127.0   NaN  268.0\n",
       "1996          214.0  171.0   NaN  794.0\n",
       "1997          281.0  328.0   NaN  878.0\n",
       "1998          254.0  343.0   NaN  599.0\n",
       "1999          272.0  283.0   NaN  826.0\n",
       "2000          320.0  268.0   NaN  529.0\n",
       "2001          381.0  262.0   NaN  296.0\n",
       "2002          383.0  227.0   NaN  317.0\n",
       "2003          361.0  201.0   NaN  282.0\n",
       "2004          354.0  204.0   NaN  381.0\n",
       "2005          410.0  237.0   NaN  345.0\n",
       "2006          479.0  233.0  20.0  370.0\n",
       "2007          613.0  262.0   NaN  341.0\n",
       "2008          700.0  254.0   NaN  334.0\n",
       "2009          785.0  223.0   NaN  200.0\n",
       "2010         1161.0  193.0   NaN  154.0\n",
       "2011         1028.0  275.0   NaN  107.0\n",
       "2012          738.0  257.0   1.0   28.0\n",
       "2013          185.0  209.0   1.0    2.0\n",
       "2014           17.0  128.0   NaN    NaN>"
      ]
     },
     "execution_count": 11,
     "metadata": {},
     "output_type": "execute_result"
    }
   ],
   "source": [
    "by_year.head"
   ]
  },
  {
   "cell_type": "code",
   "execution_count": 12,
   "metadata": {
    "nbgrader": {
     "grade": true,
     "grade_id": "q2-tests",
     "locked": true,
     "points": 6,
     "schema_version": 1,
     "solution": false
    }
   },
   "outputs": [],
   "source": [
    "assert(by_year.shape == (29, 4))\n",
    "assert(list(by_year.columns) == ['B', 'L', 'R', 'W'])\n",
    "assert(list(by_year.sum()) == [10572, 4966, 98, 9670])"
   ]
  },
  {
   "cell_type": "markdown",
   "metadata": {
    "nbgrader": {
     "grade": false,
     "grade_id": "q3-intro",
     "locked": true,
     "schema_version": 1,
     "solution": false
    }
   },
   "source": [
    "## STEP 3: Plot and see what you see\n",
    "\n",
    "Use Pandas built-in plotting capabilities to visualize this information in way that you think makes sense.  It might be that plotting a simple multi-series line chart would give you some insights.  Show your plot in the cell below, then use the text cell below that to write a few sentences about what you see.\n"
   ]
  },
  {
   "cell_type": "code",
   "execution_count": 13,
   "metadata": {
    "nbgrader": {
     "grade": true,
     "grade_id": "q3-manual",
     "locked": false,
     "points": 5,
     "schema_version": 1,
     "solution": true
    }
   },
   "outputs": [
    {
     "data": {
      "text/plain": [
       "<matplotlib.axes._subplots.AxesSubplot at 0x7fb736f9c518>"
      ]
     },
     "execution_count": 13,
     "metadata": {},
     "output_type": "execute_result"
    },
    {
     "data": {
      "image/png": "[encoded data removed]",
      "text/plain": [
       "<Figure size 432x288 with 1 Axes>"
      ]
     },
     "metadata": {
      "needs_background": "light"
     },
     "output_type": "display_data"
    }
   ],
   "source": [
    "%matplotlib inline\n",
    "by_year.plot()"
   ]
  },
  {
   "cell_type": "markdown",
   "metadata": {},
   "source": [
    "---"
   ]
  },
  {
   "cell_type": "code",
   "execution_count": 14,
   "metadata": {},
   "outputs": [
    {
     "data": {
      "text/plain": [
       "<matplotlib.axes._subplots.AxesSubplot at 0x7fb736638f28>"
      ]
     },
     "execution_count": 14,
     "metadata": {},
     "output_type": "execute_result"
    },
    {
     "data": {
      "image/png": "[encoded data removed]",
      "text/plain": [
       "<Figure size 432x288 with 1 Axes>"
      ]
     },
     "metadata": {
      "needs_background": "light"
     },
     "output_type": "display_data"
    }
   ],
   "source": [
    "# Create a stacked bar chart\n",
    "by_year.plot.bar(stacked = True)"
   ]
  },
  {
   "cell_type": "markdown",
   "metadata": {},
   "source": [
    "I created a stacked bar plot to compare the distributions of \"status\" across time. There are two distinct periods - a lower number of total condemned properties from 1986-1995 and then an almost-two-fold increase during the period from 1996 to 2011. Over time, the number of \"B\" and \"L\" type condemnations increased while the \"W\" type decreased. The \"R\" type increase is a minority of condemnations and was not used after 1996 (more easily seen in the multi-line chart above)."
   ]
  },
  {
   "cell_type": "markdown",
   "metadata": {},
   "source": [
    "# PART 2 - Video Conference Usage\n",
    "\n",
    "In this next part of the assignment, we'll be looking at how video conference usage changed during the beginning of COVID-19.  This real data.  Please don't judge anyone based on the information here.  ;)  The data is in the `/data/meetings.csv` file.\n",
    "\n",
    "For the assignment, I want you to compare (by person) the number of meetings hosted by each user for the last two weeks of February and the last two weeks of March.  This might be a little complicated to think through HOW to do that, so the steps below are one approach.\n",
    "\n",
    "1. Create a new column called startDate that contains just the day part of the startTime column in the data.  You can do that using datetime functions if you want, but you'll notice that the date in this file is a string formatted YYYY-MM-DD-HH:mm:ss, so it's probably easier just to pull out the first 10 characters of the string instead.  `meetings['startTime'].str[0:10]`\n",
    "2. Create another new column.  This one should contain a label like \"BEFORE\" for the week 2/17 - 2/28 and \"DURING\" for the week of 3/16 - 3/27.  A hand tip on this is that you can set values for some rows in a data frame using `meetings.loc[row_filter,'Column Name'] = 'Value'` if you've created a `row_filter` as we discussed in prior weeks.\n",
    "3. From here, using `pivot_table()` is one good way to summarize the information.\n",
    "\n",
    "**FINAL RESULT**\n",
    "\n",
    "For a final result, I'd like you to produce a data frame named **summary** that contains:\n",
    "* One ROW for each userName.  The userName can either be the row index or a column in the data frame.\n",
    "* One COLUMN for the \"BEFORE\" week and one COLUMN for the \"DURING\" week.  Name those columns 'Before' and 'During'.\n",
    "* One more calculated column that shows the percent increase from BEFORE to DURING.  Name that column 'pctChange'.\n"
   ]
  },
  {
   "cell_type": "code",
   "execution_count": 15,
   "metadata": {},
   "outputs": [],
   "source": [
    "import pandas as pd\n",
    "meetings = pd.read_csv(\"/data/meetings.csv\")"
   ]
  },
  {
   "cell_type": "code",
   "execution_count": 16,
   "metadata": {},
   "outputs": [
    {
     "data": {
      "text/plain": [
       "Index(['meeting_uuid', 'meetingTitle', 'meetingId', 'userName', 'user_id',\n",
       "       'user_tags', 'endTime', 'startTime', 'email', 'participantSeconds',\n",
       "       'joinDate', 'joinWeek', 'joinMonth', 'participants',\n",
       "       'participantMinutes', 'meetingDurationMinutes', 'popId', 'userType',\n",
       "       'billable', 'moderatorLess', 'start_time', 'total_highlights_created',\n",
       "       'smart_meeting', 'transcription_used',\n",
       "       'total_transcription_duration_minutes'],\n",
       "      dtype='object')"
      ]
     },
     "execution_count": 16,
     "metadata": {},
     "output_type": "execute_result"
    }
   ],
   "source": [
    "meetings.columns"
   ]
  },
  {
   "cell_type": "code",
   "execution_count": 17,
   "metadata": {},
   "outputs": [
    {
     "data": {
      "text/plain": [
       "<bound method NDFrame.head of 0       2020-03-31 21:00:22\n",
       "1       2020-03-31 20:58:41\n",
       "2       2020-03-31 20:57:51\n",
       "3       2020-03-31 20:34:43\n",
       "4       2020-03-31 20:30:02\n",
       "               ...         \n",
       "1183    2020-01-02 15:28:08\n",
       "1184    2020-01-02 15:01:32\n",
       "1185    2020-01-02 14:56:32\n",
       "1186    2020-01-02 14:22:28\n",
       "1187    2020-01-02 14:14:12\n",
       "Name: startTime, Length: 1188, dtype: object>"
      ]
     },
     "execution_count": 17,
     "metadata": {},
     "output_type": "execute_result"
    }
   ],
   "source": [
    "meetings['startTime'].head"
   ]
  },
  {
   "cell_type": "code",
   "execution_count": 18,
   "metadata": {},
   "outputs": [],
   "source": [
    "# Create column startDate with the year-month-day\n",
    "meetings['startDate'] = meetings['startTime'].str[0:10]"
   ]
  },
  {
   "cell_type": "code",
   "execution_count": 19,
   "metadata": {},
   "outputs": [
    {
     "data": {
      "text/plain": [
       "<bound method NDFrame.head of 0       2020-03-31\n",
       "1       2020-03-31\n",
       "2       2020-03-31\n",
       "3       2020-03-31\n",
       "4       2020-03-31\n",
       "           ...    \n",
       "1183    2020-01-02\n",
       "1184    2020-01-02\n",
       "1185    2020-01-02\n",
       "1186    2020-01-02\n",
       "1187    2020-01-02\n",
       "Name: startDate, Length: 1188, dtype: object>"
      ]
     },
     "execution_count": 19,
     "metadata": {},
     "output_type": "execute_result"
    }
   ],
   "source": [
    "meetings['startDate'].head"
   ]
  },
  {
   "cell_type": "code",
   "execution_count": 20,
   "metadata": {},
   "outputs": [],
   "source": [
    "# Convert startDate to a string\n",
    "meetings['startDate'] = meetings['startDate'].astype(\"string\")"
   ]
  },
  {
   "cell_type": "code",
   "execution_count": 21,
   "metadata": {},
   "outputs": [
    {
     "data": {
      "text/plain": [
       "<bound method NDFrame.head of 0       2020-03-31\n",
       "1       2020-03-31\n",
       "2       2020-03-31\n",
       "3       2020-03-31\n",
       "4       2020-03-31\n",
       "           ...    \n",
       "1183    2020-01-02\n",
       "1184    2020-01-02\n",
       "1185    2020-01-02\n",
       "1186    2020-01-02\n",
       "1187    2020-01-02\n",
       "Name: startDate, Length: 1188, dtype: string>"
      ]
     },
     "execution_count": 21,
     "metadata": {},
     "output_type": "execute_result"
    }
   ],
   "source": [
    "# Check the result of the conversion\n",
    "meetings['startDate'].head"
   ]
  },
  {
   "cell_type": "code",
   "execution_count": 22,
   "metadata": {},
   "outputs": [],
   "source": [
    "# Create the appropriate row filter for \"before\" (2/17 - 2/28)\n",
    "before_month = meetings['startDate'].str[5:7] == \"02\""
   ]
  },
  {
   "cell_type": "code",
   "execution_count": 23,
   "metadata": {},
   "outputs": [
    {
     "data": {
      "text/plain": [
       "0       31\n",
       "1       31\n",
       "2       31\n",
       "3       31\n",
       "4       31\n",
       "        ..\n",
       "1183    02\n",
       "1184    02\n",
       "1185    02\n",
       "1186    02\n",
       "1187    02\n",
       "Name: startDate, Length: 1188, dtype: string"
      ]
     },
     "execution_count": 23,
     "metadata": {},
     "output_type": "execute_result"
    }
   ],
   "source": [
    "meetings['startDate'].str[8:]"
   ]
  },
  {
   "cell_type": "code",
   "execution_count": 33,
   "metadata": {},
   "outputs": [
    {
     "name": "stderr",
     "output_type": "stream",
     "text": [
      "/opt/tljh/user/lib/python3.6/site-packages/pandas/core/indexing.py:1763: SettingWithCopyWarning: \n",
      "A value is trying to be set on a copy of a slice from a DataFrame.\n",
      "Try using .loc[row_indexer,col_indexer] = value instead\n",
      "\n",
      "See the caveats in the documentation: https://pandas.pydata.org/pandas-docs/stable/user_guide/indexing.html#returning-a-view-versus-a-copy\n",
      "  isetter(loc, value)\n"
     ]
    }
   ],
   "source": [
    "before_startDay = meetings['startDate'].str[8:] >=\"17\"\n",
    "before_endDay = meetings['startDate'].str[8:] <= \"28\"\n",
    "\n",
    "before_filter = before_month & before_startDay & before_endDay\n",
    "\n",
    "# Create a dataframe for the before timeperiod\n",
    "before_df = meetings[before_filter]\n",
    "\n",
    "# Create a new column, setting the value to \"before\" if it meets the criteria\n",
    "before_df.loc[:, 'Period'] = 'BEFORE'"
   ]
  },
  {
   "cell_type": "code",
   "execution_count": 34,
   "metadata": {},
   "outputs": [
    {
     "data": {
      "text/plain": [
       "515    BEFORE\n",
       "516    BEFORE\n",
       "517    BEFORE\n",
       "518    BEFORE\n",
       "519    BEFORE\n",
       "        ...  \n",
       "689    BEFORE\n",
       "690    BEFORE\n",
       "691    BEFORE\n",
       "692    BEFORE\n",
       "693    BEFORE\n",
       "Name: Period, Length: 179, dtype: object"
      ]
     },
     "execution_count": 34,
     "metadata": {},
     "output_type": "execute_result"
    }
   ],
   "source": [
    "before_df['Period']"
   ]
  },
  {
   "cell_type": "code",
   "execution_count": 35,
   "metadata": {},
   "outputs": [],
   "source": [
    "# Create the appropriate row filter for \"during\" (3/16 - 3/27)\n",
    "during_month = meetings['startDate'].str[5:7] == \"03\"\n",
    "during_startDay = meetings['startDate'].str[8:] >=\"16\"\n",
    "during_endDay = meetings['startDate'].str[8:] >=\"27\"\n",
    "\n",
    "during_filter = during_month & during_startDay & during_endDay"
   ]
  },
  {
   "cell_type": "code",
   "execution_count": 36,
   "metadata": {},
   "outputs": [],
   "source": [
    "# Create a dataframe for the during timeperiod\n",
    "during_df = meetings[during_filter]"
   ]
  },
  {
   "cell_type": "code",
   "execution_count": 37,
   "metadata": {},
   "outputs": [],
   "source": [
    "# Create a new column, Period, setting the value to \"DURING\"\n",
    "during_df.loc[:, 'Period'] = \"DURING\""
   ]
  },
  {
   "cell_type": "code",
   "execution_count": 38,
   "metadata": {},
   "outputs": [
    {
     "data": {
      "text/plain": [
       "0     DURING\n",
       "1     DURING\n",
       "2     DURING\n",
       "3     DURING\n",
       "4     DURING\n",
       "       ...  \n",
       "72    DURING\n",
       "73    DURING\n",
       "74    DURING\n",
       "75    DURING\n",
       "76    DURING\n",
       "Name: Period, Length: 77, dtype: object"
      ]
     },
     "execution_count": 38,
     "metadata": {},
     "output_type": "execute_result"
    }
   ],
   "source": [
    "during_df['Period']"
   ]
  },
  {
   "cell_type": "code",
   "execution_count": 39,
   "metadata": {},
   "outputs": [],
   "source": [
    "# Concatenate the before_df and during_df together by userName\n",
    "comparison_df = pd.concat([before_df, during_df])"
   ]
  },
  {
   "cell_type": "code",
   "execution_count": 40,
   "metadata": {},
   "outputs": [
    {
     "data": {
      "text/plain": [
       "<bound method NDFrame.head of                                     meeting_uuid  \\\n",
       "515  414292-02eebee8-52d6-4f3b-840b-e1fb921dffa1   \n",
       "516  414289-2364253f-c894-4175-9fd8-afb78939a7cc   \n",
       "517  414286-074108a2-1c19-4d9b-b7bc-14240cb1e3ac   \n",
       "518  414283-8cb3c33d-52e2-4dac-a6d9-f62c2fc2877e   \n",
       "519  414283-7e8023c1-ffc2-452e-b808-5f3740ca5dad   \n",
       "..                                           ...   \n",
       "72   418282-b5a271f5-d2cb-4f9e-a626-63ffff76d2a8   \n",
       "73   418280-539d4f2f-0a54-4d6e-ab3a-1726972b660e   \n",
       "74   418277-4994e45e-9f86-46a3-b2ac-c97ca957106f   \n",
       "75   418274-546cb325-b7ab-4625-ad18-feeffba14773   \n",
       "76   418270-92688ea2-73e9-4614-bc07-13b6d5a62b7c   \n",
       "\n",
       "                                          meetingTitle  meetingId  \\\n",
       "515                       Delivery Workbook Touchpoint  423305063   \n",
       "516                                  Jessica's Meeting  298380081   \n",
       "517                                    Buxton Proposal  766527572   \n",
       "518  Catching Up Meeting with Jonathan Westland - RGA   235867006   \n",
       "519            NLR Residency Program and Senior Clinic  408517197   \n",
       "..                                                 ...        ...   \n",
       "72                                      Pete's Meeting  102838136   \n",
       "73                                     Tejus's Meeting  406612750   \n",
       "74                                   HA - Daily Huddle  432518579   \n",
       "75                                RPA Projects Standup  569898593   \n",
       "76                                      Jeff's Meeting  507568365   \n",
       "\n",
       "                           userName  user_id  user_tags              endTime  \\\n",
       "515                      Drew.Marco  2717893        NaN  2020-02-28 22:27:27   \n",
       "516                  jessica.sikora  2767556        NaN  2020-02-28 21:11:41   \n",
       "517                     amit.bhagat  2756615        NaN  2020-02-28 21:04:36   \n",
       "518                   melissa.menne  3208597        NaN  2020-02-28 20:10:32   \n",
       "519                     amit.bhagat  2756615        NaN  2020-02-28 20:15:50   \n",
       "..                              ...      ...        ...                  ...   \n",
       "72                    pete.cornwell  3319741        NaN  2020-03-27 15:00:49   \n",
       "73                   tejus.maduskar  2745815        NaN  2020-03-27 14:26:38   \n",
       "74                   tejus.maduskar  2745815        NaN  2020-03-27 14:50:30   \n",
       "75                      eric.keeney  2692908        NaN  2020-03-27 13:50:34   \n",
       "76   jeff.hatfield.amitechsolutions  2770676        NaN  2020-03-27 12:28:56   \n",
       "\n",
       "               startTime                                email  \\\n",
       "515  2020-02-28 21:27:32      Drew.Marco@AmitechSolutions.com   \n",
       "516  2020-02-28 21:00:00  jessica.sikora@amitechsolutions.com   \n",
       "517  2020-02-28 20:28:23     amit.bhagat@amitechsolutions.com   \n",
       "518  2020-02-28 20:02:02   melissa.menne@amitechsolutions.com   \n",
       "519  2020-02-28 20:00:00     amit.bhagat@amitechsolutions.com   \n",
       "..                   ...                                  ...   \n",
       "72   2020-03-27 14:26:55   pete.cornwell@amitechsolutions.com   \n",
       "73   2020-03-27 14:06:35  tejus.maduskar@amitechsolutions.com   \n",
       "74   2020-03-27 13:43:05  tejus.maduskar@amitechsolutions.com   \n",
       "75   2020-03-27 13:14:38     eric.keeney@amitechsolutions.com   \n",
       "76   2020-03-27 12:26:36   jeff.hatfield@amitechsolutions.com   \n",
       "\n",
       "     participantSeconds  ...         userType billable moderatorLess  \\\n",
       "515                6941  ...  ENTERPRISE_PAID     True          True   \n",
       "516                1373  ...  ENTERPRISE_PAID     True          True   \n",
       "517                5833  ...  ENTERPRISE_PAID     True          True   \n",
       "518                 501  ...  ENTERPRISE_PAID    False         False   \n",
       "519                2658  ...  ENTERPRISE_PAID     True          True   \n",
       "..                  ...  ...              ...      ...           ...   \n",
       "72                 8822  ...  ENTERPRISE_PAID     True         False   \n",
       "73                 1192  ...  ENTERPRISE_PAID    False          True   \n",
       "74                15217  ...  ENTERPRISE_PAID     True          True   \n",
       "75                 7943  ...  ENTERPRISE_PAID     True          True   \n",
       "76                  132  ...  ENTERPRISE_PAID    False          True   \n",
       "\n",
       "                start_time  total_highlights_created  smart_meeting  \\\n",
       "515  2020-02-28 21:27:32.0                       NaN            NaN   \n",
       "516  2020-02-28 21:00:00.0                       NaN            NaN   \n",
       "517  2020-02-28 20:28:23.0                       NaN            NaN   \n",
       "518  2020-02-28 20:02:02.0                       NaN            NaN   \n",
       "519  2020-02-28 20:00:00.0                       NaN            NaN   \n",
       "..                     ...                       ...            ...   \n",
       "72   2020-03-27 14:26:55.0                       NaN            NaN   \n",
       "73   2020-03-27 14:06:35.0                       NaN            NaN   \n",
       "74   2020-03-27 13:43:05.0                       NaN            NaN   \n",
       "75   2020-03-27 13:14:38.0                       NaN            NaN   \n",
       "76   2020-03-27 12:26:36.0                       NaN            NaN   \n",
       "\n",
       "     transcription_used total_transcription_duration_minutes   startDate  \\\n",
       "515                 NaN                                  NaN  2020-02-28   \n",
       "516                 NaN                                  NaN  2020-02-28   \n",
       "517                 NaN                                  NaN  2020-02-28   \n",
       "518                 NaN                                  NaN  2020-02-28   \n",
       "519                 NaN                                  NaN  2020-02-28   \n",
       "..                  ...                                  ...         ...   \n",
       "72                  NaN                                  NaN  2020-03-27   \n",
       "73                  NaN                                  NaN  2020-03-27   \n",
       "74                  NaN                                  NaN  2020-03-27   \n",
       "75                  NaN                                  NaN  2020-03-27   \n",
       "76                  NaN                                  NaN  2020-03-27   \n",
       "\n",
       "     Period  \n",
       "515  BEFORE  \n",
       "516  BEFORE  \n",
       "517  BEFORE  \n",
       "518  BEFORE  \n",
       "519  BEFORE  \n",
       "..      ...  \n",
       "72   DURING  \n",
       "73   DURING  \n",
       "74   DURING  \n",
       "75   DURING  \n",
       "76   DURING  \n",
       "\n",
       "[256 rows x 27 columns]>"
      ]
     },
     "execution_count": 40,
     "metadata": {},
     "output_type": "execute_result"
    }
   ],
   "source": [
    "# View the resulting df\n",
    "comparison_df.head"
   ]
  },
  {
   "cell_type": "code",
   "execution_count": 49,
   "metadata": {},
   "outputs": [],
   "source": [
    "# Create a summary data frame, counting the number of meetings in each period by userName\n",
    "summary = pd.pivot_table(comparison_df, values = \"user_id\", index = 'userName', \n",
    "                         columns = \"Period\", aggfunc = np.ma.count, fill_value = 0)"
   ]
  },
  {
   "cell_type": "code",
   "execution_count": 50,
   "metadata": {},
   "outputs": [
    {
     "data": {
      "text/html": [
       "<div>\n",
       "<style scoped>\n",
       "    .dataframe tbody tr th:only-of-type {\n",
       "        vertical-align: middle;\n",
       "    }\n",
       "\n",
       "    .dataframe tbody tr th {\n",
       "        vertical-align: top;\n",
       "    }\n",
       "\n",
       "    .dataframe thead th {\n",
       "        text-align: right;\n",
       "    }\n",
       "</style>\n",
       "<table border=\"1\" class=\"dataframe\">\n",
       "  <thead>\n",
       "    <tr style=\"text-align: right;\">\n",
       "      <th>Period</th>\n",
       "      <th>BEFORE</th>\n",
       "      <th>DURING</th>\n",
       "    </tr>\n",
       "    <tr>\n",
       "      <th>userName</th>\n",
       "      <th></th>\n",
       "      <th></th>\n",
       "    </tr>\n",
       "  </thead>\n",
       "  <tbody>\n",
       "    <tr>\n",
       "      <th>Drew.Marco</th>\n",
       "      <td>12</td>\n",
       "      <td>3</td>\n",
       "    </tr>\n",
       "    <tr>\n",
       "      <th>amit.bhagat</th>\n",
       "      <td>17</td>\n",
       "      <td>9</td>\n",
       "    </tr>\n",
       "    <tr>\n",
       "      <th>andrea.bryant.amitechsolutions</th>\n",
       "      <td>5</td>\n",
       "      <td>1</td>\n",
       "    </tr>\n",
       "    <tr>\n",
       "      <th>angie.warren</th>\n",
       "      <td>5</td>\n",
       "      <td>1</td>\n",
       "    </tr>\n",
       "    <tr>\n",
       "      <th>chris.rogers.amitechsolutions</th>\n",
       "      <td>4</td>\n",
       "      <td>1</td>\n",
       "    </tr>\n",
       "    <tr>\n",
       "      <th>eric.keeney</th>\n",
       "      <td>15</td>\n",
       "      <td>10</td>\n",
       "    </tr>\n",
       "    <tr>\n",
       "      <th>eric.rodman</th>\n",
       "      <td>4</td>\n",
       "      <td>2</td>\n",
       "    </tr>\n",
       "    <tr>\n",
       "      <th>jeff.hatfield.amitechsolutions</th>\n",
       "      <td>13</td>\n",
       "      <td>9</td>\n",
       "    </tr>\n",
       "    <tr>\n",
       "      <th>jennifer.patton.amitechs</th>\n",
       "      <td>5</td>\n",
       "      <td>0</td>\n",
       "    </tr>\n",
       "    <tr>\n",
       "      <th>jessica.sikora</th>\n",
       "      <td>3</td>\n",
       "      <td>0</td>\n",
       "    </tr>\n",
       "    <tr>\n",
       "      <th>matt.allsup</th>\n",
       "      <td>5</td>\n",
       "      <td>1</td>\n",
       "    </tr>\n",
       "    <tr>\n",
       "      <th>matt.brown.amitechsolutions</th>\n",
       "      <td>1</td>\n",
       "      <td>1</td>\n",
       "    </tr>\n",
       "    <tr>\n",
       "      <th>melissa.menne</th>\n",
       "      <td>10</td>\n",
       "      <td>0</td>\n",
       "    </tr>\n",
       "    <tr>\n",
       "      <th>michael.demos</th>\n",
       "      <td>5</td>\n",
       "      <td>5</td>\n",
       "    </tr>\n",
       "    <tr>\n",
       "      <th>paul.boal</th>\n",
       "      <td>15</td>\n",
       "      <td>14</td>\n",
       "    </tr>\n",
       "    <tr>\n",
       "      <th>paul.smith.amitechsolutions</th>\n",
       "      <td>23</td>\n",
       "      <td>1</td>\n",
       "    </tr>\n",
       "    <tr>\n",
       "      <th>pete.cornwell</th>\n",
       "      <td>1</td>\n",
       "      <td>3</td>\n",
       "    </tr>\n",
       "    <tr>\n",
       "      <th>raghavender.tuniki</th>\n",
       "      <td>6</td>\n",
       "      <td>1</td>\n",
       "    </tr>\n",
       "    <tr>\n",
       "      <th>sandip.shaw</th>\n",
       "      <td>9</td>\n",
       "      <td>1</td>\n",
       "    </tr>\n",
       "    <tr>\n",
       "      <th>santhosh.kanala</th>\n",
       "      <td>2</td>\n",
       "      <td>1</td>\n",
       "    </tr>\n",
       "    <tr>\n",
       "      <th>shawn.reilly.amitechsolutions</th>\n",
       "      <td>7</td>\n",
       "      <td>2</td>\n",
       "    </tr>\n",
       "    <tr>\n",
       "      <th>tejus.maduskar</th>\n",
       "      <td>12</td>\n",
       "      <td>11</td>\n",
       "    </tr>\n",
       "  </tbody>\n",
       "</table>\n",
       "</div>"
      ],
      "text/plain": [
       "Period                          BEFORE  DURING\n",
       "userName                                      \n",
       "Drew.Marco                          12       3\n",
       "amit.bhagat                         17       9\n",
       "andrea.bryant.amitechsolutions       5       1\n",
       "angie.warren                         5       1\n",
       "chris.rogers.amitechsolutions        4       1\n",
       "eric.keeney                         15      10\n",
       "eric.rodman                          4       2\n",
       "jeff.hatfield.amitechsolutions      13       9\n",
       "jennifer.patton.amitechs             5       0\n",
       "jessica.sikora                       3       0\n",
       "matt.allsup                          5       1\n",
       "matt.brown.amitechsolutions          1       1\n",
       "melissa.menne                       10       0\n",
       "michael.demos                        5       5\n",
       "paul.boal                           15      14\n",
       "paul.smith.amitechsolutions         23       1\n",
       "pete.cornwell                        1       3\n",
       "raghavender.tuniki                   6       1\n",
       "sandip.shaw                          9       1\n",
       "santhosh.kanala                      2       1\n",
       "shawn.reilly.amitechsolutions        7       2\n",
       "tejus.maduskar                      12      11"
      ]
     },
     "execution_count": 50,
     "metadata": {},
     "output_type": "execute_result"
    }
   ],
   "source": [
    "# View the resulting dataframe\n",
    "summary"
   ]
  },
  {
   "cell_type": "code",
   "execution_count": 51,
   "metadata": {},
   "outputs": [],
   "source": [
    "# Calculate percent change and assign to a new column - pctChange\n",
    "summary.loc[:,'pctChange'] = (summary['DURING'] - summary['BEFORE'])/summary['BEFORE']"
   ]
  },
  {
   "cell_type": "code",
   "execution_count": 52,
   "metadata": {},
   "outputs": [
    {
     "data": {
      "text/html": [
       "<div>\n",
       "<style scoped>\n",
       "    .dataframe tbody tr th:only-of-type {\n",
       "        vertical-align: middle;\n",
       "    }\n",
       "\n",
       "    .dataframe tbody tr th {\n",
       "        vertical-align: top;\n",
       "    }\n",
       "\n",
       "    .dataframe thead th {\n",
       "        text-align: right;\n",
       "    }\n",
       "</style>\n",
       "<table border=\"1\" class=\"dataframe\">\n",
       "  <thead>\n",
       "    <tr style=\"text-align: right;\">\n",
       "      <th>Period</th>\n",
       "      <th>BEFORE</th>\n",
       "      <th>DURING</th>\n",
       "      <th>pctChange</th>\n",
       "    </tr>\n",
       "    <tr>\n",
       "      <th>userName</th>\n",
       "      <th></th>\n",
       "      <th></th>\n",
       "      <th></th>\n",
       "    </tr>\n",
       "  </thead>\n",
       "  <tbody>\n",
       "    <tr>\n",
       "      <th>Drew.Marco</th>\n",
       "      <td>12</td>\n",
       "      <td>3</td>\n",
       "      <td>0.750000</td>\n",
       "    </tr>\n",
       "    <tr>\n",
       "      <th>amit.bhagat</th>\n",
       "      <td>17</td>\n",
       "      <td>9</td>\n",
       "      <td>0.470588</td>\n",
       "    </tr>\n",
       "    <tr>\n",
       "      <th>andrea.bryant.amitechsolutions</th>\n",
       "      <td>5</td>\n",
       "      <td>1</td>\n",
       "      <td>0.800000</td>\n",
       "    </tr>\n",
       "    <tr>\n",
       "      <th>angie.warren</th>\n",
       "      <td>5</td>\n",
       "      <td>1</td>\n",
       "      <td>0.800000</td>\n",
       "    </tr>\n",
       "    <tr>\n",
       "      <th>chris.rogers.amitechsolutions</th>\n",
       "      <td>4</td>\n",
       "      <td>1</td>\n",
       "      <td>0.750000</td>\n",
       "    </tr>\n",
       "    <tr>\n",
       "      <th>eric.keeney</th>\n",
       "      <td>15</td>\n",
       "      <td>10</td>\n",
       "      <td>0.333333</td>\n",
       "    </tr>\n",
       "    <tr>\n",
       "      <th>eric.rodman</th>\n",
       "      <td>4</td>\n",
       "      <td>2</td>\n",
       "      <td>0.500000</td>\n",
       "    </tr>\n",
       "    <tr>\n",
       "      <th>jeff.hatfield.amitechsolutions</th>\n",
       "      <td>13</td>\n",
       "      <td>9</td>\n",
       "      <td>0.307692</td>\n",
       "    </tr>\n",
       "    <tr>\n",
       "      <th>jennifer.patton.amitechs</th>\n",
       "      <td>5</td>\n",
       "      <td>0</td>\n",
       "      <td>1.000000</td>\n",
       "    </tr>\n",
       "    <tr>\n",
       "      <th>jessica.sikora</th>\n",
       "      <td>3</td>\n",
       "      <td>0</td>\n",
       "      <td>1.000000</td>\n",
       "    </tr>\n",
       "    <tr>\n",
       "      <th>matt.allsup</th>\n",
       "      <td>5</td>\n",
       "      <td>1</td>\n",
       "      <td>0.800000</td>\n",
       "    </tr>\n",
       "    <tr>\n",
       "      <th>matt.brown.amitechsolutions</th>\n",
       "      <td>1</td>\n",
       "      <td>1</td>\n",
       "      <td>0.000000</td>\n",
       "    </tr>\n",
       "    <tr>\n",
       "      <th>melissa.menne</th>\n",
       "      <td>10</td>\n",
       "      <td>0</td>\n",
       "      <td>1.000000</td>\n",
       "    </tr>\n",
       "    <tr>\n",
       "      <th>michael.demos</th>\n",
       "      <td>5</td>\n",
       "      <td>5</td>\n",
       "      <td>0.000000</td>\n",
       "    </tr>\n",
       "    <tr>\n",
       "      <th>paul.boal</th>\n",
       "      <td>15</td>\n",
       "      <td>14</td>\n",
       "      <td>0.066667</td>\n",
       "    </tr>\n",
       "    <tr>\n",
       "      <th>paul.smith.amitechsolutions</th>\n",
       "      <td>23</td>\n",
       "      <td>1</td>\n",
       "      <td>0.956522</td>\n",
       "    </tr>\n",
       "    <tr>\n",
       "      <th>pete.cornwell</th>\n",
       "      <td>1</td>\n",
       "      <td>3</td>\n",
       "      <td>-2.000000</td>\n",
       "    </tr>\n",
       "    <tr>\n",
       "      <th>raghavender.tuniki</th>\n",
       "      <td>6</td>\n",
       "      <td>1</td>\n",
       "      <td>0.833333</td>\n",
       "    </tr>\n",
       "    <tr>\n",
       "      <th>sandip.shaw</th>\n",
       "      <td>9</td>\n",
       "      <td>1</td>\n",
       "      <td>0.888889</td>\n",
       "    </tr>\n",
       "    <tr>\n",
       "      <th>santhosh.kanala</th>\n",
       "      <td>2</td>\n",
       "      <td>1</td>\n",
       "      <td>0.500000</td>\n",
       "    </tr>\n",
       "    <tr>\n",
       "      <th>shawn.reilly.amitechsolutions</th>\n",
       "      <td>7</td>\n",
       "      <td>2</td>\n",
       "      <td>0.714286</td>\n",
       "    </tr>\n",
       "    <tr>\n",
       "      <th>tejus.maduskar</th>\n",
       "      <td>12</td>\n",
       "      <td>11</td>\n",
       "      <td>0.083333</td>\n",
       "    </tr>\n",
       "  </tbody>\n",
       "</table>\n",
       "</div>"
      ],
      "text/plain": [
       "Period                          BEFORE  DURING  pctChange\n",
       "userName                                                 \n",
       "Drew.Marco                          12       3   0.750000\n",
       "amit.bhagat                         17       9   0.470588\n",
       "andrea.bryant.amitechsolutions       5       1   0.800000\n",
       "angie.warren                         5       1   0.800000\n",
       "chris.rogers.amitechsolutions        4       1   0.750000\n",
       "eric.keeney                         15      10   0.333333\n",
       "eric.rodman                          4       2   0.500000\n",
       "jeff.hatfield.amitechsolutions      13       9   0.307692\n",
       "jennifer.patton.amitechs             5       0   1.000000\n",
       "jessica.sikora                       3       0   1.000000\n",
       "matt.allsup                          5       1   0.800000\n",
       "matt.brown.amitechsolutions          1       1   0.000000\n",
       "melissa.menne                       10       0   1.000000\n",
       "michael.demos                        5       5   0.000000\n",
       "paul.boal                           15      14   0.066667\n",
       "paul.smith.amitechsolutions         23       1   0.956522\n",
       "pete.cornwell                        1       3  -2.000000\n",
       "raghavender.tuniki                   6       1   0.833333\n",
       "sandip.shaw                          9       1   0.888889\n",
       "santhosh.kanala                      2       1   0.500000\n",
       "shawn.reilly.amitechsolutions        7       2   0.714286\n",
       "tejus.maduskar                      12      11   0.083333"
      ]
     },
     "execution_count": 52,
     "metadata": {},
     "output_type": "execute_result"
    }
   ],
   "source": [
    "summary"
   ]
  },
  {
   "cell_type": "code",
   "execution_count": 55,
   "metadata": {},
   "outputs": [
    {
     "data": {
      "text/plain": [
       "0.47975652508900596"
      ]
     },
     "execution_count": 55,
     "metadata": {},
     "output_type": "execute_result"
    }
   ],
   "source": [
    "summary['pctChange'].mean()"
   ]
  },
  {
   "cell_type": "markdown",
   "metadata": {},
   "source": [
    "---"
   ]
  },
  {
   "cell_type": "code",
   "execution_count": 53,
   "metadata": {},
   "outputs": [],
   "source": [
    "assert(len(summary) == 22)"
   ]
  },
  {
   "cell_type": "code",
   "execution_count": 54,
   "metadata": {},
   "outputs": [
    {
     "ename": "AssertionError",
     "evalue": "",
     "output_type": "error",
     "traceback": [
      "\u001b[0;31m---------------------------------------------------------------------------\u001b[0m",
      "\u001b[0;31mAssertionError\u001b[0m                            Traceback (most recent call last)",
      "\u001b[0;32m<ipython-input-54-27179ef80201>\u001b[0m in \u001b[0;36m<module>\u001b[0;34m\u001b[0m\n\u001b[0;32m----> 1\u001b[0;31m \u001b[0;32massert\u001b[0m\u001b[0;34m(\u001b[0m\u001b[0msummary\u001b[0m\u001b[0;34m[\u001b[0m\u001b[0;34m'pctChange'\u001b[0m\u001b[0;34m]\u001b[0m\u001b[0;34m.\u001b[0m\u001b[0mmean\u001b[0m\u001b[0;34m(\u001b[0m\u001b[0;34m)\u001b[0m\u001b[0;34m.\u001b[0m\u001b[0mround\u001b[0m\u001b[0;34m(\u001b[0m\u001b[0;36m2\u001b[0m\u001b[0;34m)\u001b[0m \u001b[0;34m==\u001b[0m \u001b[0;36m0.92\u001b[0m\u001b[0;34m)\u001b[0m\u001b[0;34m\u001b[0m\u001b[0;34m\u001b[0m\u001b[0m\n\u001b[0m",
      "\u001b[0;31mAssertionError\u001b[0m: "
     ]
    }
   ],
   "source": [
    "assert(summary['pctChange'].mean().round(2) == 0.92)"
   ]
  },
  {
   "cell_type": "code",
   "execution_count": null,
   "metadata": {},
   "outputs": [],
   "source": []
  },
  {
   "cell_type": "markdown",
   "metadata": {},
   "source": [
    "\n",
    "\n",
    "---\n",
    "\n",
    "\n",
    "\n",
    "## Submitting Your Work\n",
    "\n",
    "In order to submit your work, you'll need to use the `git` command line program to **add** your homework file (this file) to your local repository, **commit** your changes to your local repository, and then **push** those changes up to github.com.  From there, I'll be able to **pull** the changes down and do my grading.  I'll provide some feedback, **commit** and **push** my comments back to you.  Next week, I'll show you how to **pull** down my comments.\n",
    "\n",
    "To run through everything one last time and submit your work:\n",
    "1. Use the `Kernel` -> `Restart Kernel and Run All Cells` menu option to run everything from top to bottom and stop here.\n",
    "2. Follow the instruction on the prompt below to either ssave and submit your work, or continue working.\n",
    "\n",
    "If anything fails along the way with this submission part of the process, let me know.  I'll help you troubleshoort."
   ]
  },
  {
   "cell_type": "markdown",
   "metadata": {},
   "source": [
    "---"
   ]
  },
  {
   "cell_type": "code",
   "execution_count": 56,
   "metadata": {
    "jupyter": {
     "source_hidden": true
    }
   },
   "outputs": [
    {
     "name": "stdin",
     "output_type": "stream",
     "text": [
      "\n",
      "Are you ready to submit your work?\n",
      "1. Click the Save icon (or do Ctrl-S / Cmd-S)\n",
      "2. Type \"yes\" or \"no\" below\n",
      "3. Press Enter\n",
      "\n",
      " yes\n"
     ]
    },
    {
     "name": "stdout",
     "output_type": "stream",
     "text": [
      "[main 646e9ce] Submitting the week 12 programming assignment\n",
      " 2 files changed, 1584 insertions(+), 8 deletions(-)\n",
      " create mode 100644 week12/week12_assignment_2.ipynb\n",
      "Counting objects: 5, done.\n",
      "Delta compression using up to 2 threads.\n",
      "Compressing objects: 100% (5/5), done.\n",
      "Writing objects: 100% (5/5), 46.79 KiB | 7.80 MiB/s, done.\n",
      "Total 5 (delta 2), reused 0 (delta 0)\n",
      "remote: Resolving deltas: 100% (2/2), completed with 2 local objects.\u001b[K\n",
      "To github.com:ecdmdphd/hds5210-2022.git\n",
      "   c6164f6..646e9ce  main -> main\n"
     ]
    }
   ],
   "source": [
    "a=input('''\n",
    "Are you ready to submit your work?\n",
    "1. Click the Save icon (or do Ctrl-S / Cmd-S)\n",
    "2. Type \"yes\" or \"no\" below\n",
    "3. Press Enter\n",
    "\n",
    "''')\n",
    "\n",
    "if a=='yes':\n",
    "    !git add week12_assignment_2.ipynb\n",
    "    !git commit -a -m \"Submitting the week 12 programming assignment\"\n",
    "    !git push\n",
    "else:\n",
    "    print('''\n",
    "    \n",
    "OK. We can wait.\n",
    "''')"
   ]
  },
  {
   "cell_type": "code",
   "execution_count": null,
   "metadata": {},
   "outputs": [],
   "source": []
  },
  {
   "cell_type": "code",
   "execution_count": null,
   "metadata": {},
   "outputs": [],
   "source": []
  }
 ],
 "metadata": {
  "celltoolbar": "Create Assignment",
  "kernelspec": {
   "display_name": "Python 3",
   "language": "python",
   "name": "python3"
  },
  "language_info": {
   "codemirror_mode": {
    "name": "ipython",
    "version": 3
   },
   "file_extension": ".py",
   "mimetype": "text/x-python",
   "name": "python",
   "nbconvert_exporter": "python",
   "pygments_lexer": "ipython3",
   "version": "3.6.7"
  }
 },
 "nbformat": 4,
 "nbformat_minor": 2
}
